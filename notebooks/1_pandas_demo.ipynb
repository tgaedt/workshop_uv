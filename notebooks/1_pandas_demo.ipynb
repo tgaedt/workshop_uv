{
 "cells": [
  {
   "cell_type": "markdown",
   "id": "a8936e4d",
   "metadata": {},
   "source": [
    "# Demonstration of some Pandas capabilities using a famous concrete dataset\n",
    "\n",
    "First, we are going to import some necessary libraries and to load the famous concrete dataset published by Yeh et al.\n",
    "To save typing, we have created a tinyurl `tunyurl.com/icccm1` which contains a link to a `xls` file containing the dataset."
   ]
  },
  {
   "cell_type": "code",
   "execution_count": null,
   "id": "ff9bc883",
   "metadata": {},
   "outputs": [
    {
     "data": {
      "application/vnd.microsoft.datawrangler.viewer.v0+json": {
       "columns": [
        {
         "name": "index",
         "rawType": "int64",
         "type": "integer"
        },
        {
         "name": "Cement (component 1)(kg in a m^3 mixture)",
         "rawType": "float64",
         "type": "float"
        },
        {
         "name": "Blast Furnace Slag (component 2)(kg in a m^3 mixture)",
         "rawType": "float64",
         "type": "float"
        },
        {
         "name": "Fly Ash (component 3)(kg in a m^3 mixture)",
         "rawType": "float64",
         "type": "float"
        },
        {
         "name": "Water  (component 4)(kg in a m^3 mixture)",
         "rawType": "float64",
         "type": "float"
        },
        {
         "name": "Superplasticizer (component 5)(kg in a m^3 mixture)",
         "rawType": "float64",
         "type": "float"
        },
        {
         "name": "Coarse Aggregate  (component 6)(kg in a m^3 mixture)",
         "rawType": "float64",
         "type": "float"
        },
        {
         "name": "Fine Aggregate (component 7)(kg in a m^3 mixture)",
         "rawType": "float64",
         "type": "float"
        },
        {
         "name": "Age (day)",
         "rawType": "int64",
         "type": "integer"
        },
        {
         "name": "Concrete compressive strength(MPa, megapascals) ",
         "rawType": "float64",
         "type": "float"
        }
       ],
       "ref": "bc8fa68d-1f39-4881-b358-8ce206c9e474",
       "rows": [
        [
         "0",
         "540.0",
         "0.0",
         "0.0",
         "162.0",
         "2.5",
         "1040.0",
         "676.0",
         "28",
         "79.98611076"
        ],
        [
         "1",
         "540.0",
         "0.0",
         "0.0",
         "162.0",
         "2.5",
         "1055.0",
         "676.0",
         "28",
         "61.887365759999994"
        ],
        [
         "2",
         "332.5",
         "142.5",
         "0.0",
         "228.0",
         "0.0",
         "932.0",
         "594.0",
         "270",
         "40.269535256000005"
        ]
       ],
       "shape": {
        "columns": 9,
        "rows": 3
       }
      },
      "text/html": [
       "<div>\n",
       "<style scoped>\n",
       "    .dataframe tbody tr th:only-of-type {\n",
       "        vertical-align: middle;\n",
       "    }\n",
       "\n",
       "    .dataframe tbody tr th {\n",
       "        vertical-align: top;\n",
       "    }\n",
       "\n",
       "    .dataframe thead th {\n",
       "        text-align: right;\n",
       "    }\n",
       "</style>\n",
       "<table border=\"1\" class=\"dataframe\">\n",
       "  <thead>\n",
       "    <tr style=\"text-align: right;\">\n",
       "      <th></th>\n",
       "      <th>Cement (component 1)(kg in a m^3 mixture)</th>\n",
       "      <th>Blast Furnace Slag (component 2)(kg in a m^3 mixture)</th>\n",
       "      <th>Fly Ash (component 3)(kg in a m^3 mixture)</th>\n",
       "      <th>Water  (component 4)(kg in a m^3 mixture)</th>\n",
       "      <th>Superplasticizer (component 5)(kg in a m^3 mixture)</th>\n",
       "      <th>Coarse Aggregate  (component 6)(kg in a m^3 mixture)</th>\n",
       "      <th>Fine Aggregate (component 7)(kg in a m^3 mixture)</th>\n",
       "      <th>Age (day)</th>\n",
       "      <th>Concrete compressive strength(MPa, megapascals)</th>\n",
       "    </tr>\n",
       "  </thead>\n",
       "  <tbody>\n",
       "    <tr>\n",
       "      <th>0</th>\n",
       "      <td>540.0</td>\n",
       "      <td>0.0</td>\n",
       "      <td>0.0</td>\n",
       "      <td>162.0</td>\n",
       "      <td>2.5</td>\n",
       "      <td>1040.0</td>\n",
       "      <td>676.0</td>\n",
       "      <td>28</td>\n",
       "      <td>79.986111</td>\n",
       "    </tr>\n",
       "    <tr>\n",
       "      <th>1</th>\n",
       "      <td>540.0</td>\n",
       "      <td>0.0</td>\n",
       "      <td>0.0</td>\n",
       "      <td>162.0</td>\n",
       "      <td>2.5</td>\n",
       "      <td>1055.0</td>\n",
       "      <td>676.0</td>\n",
       "      <td>28</td>\n",
       "      <td>61.887366</td>\n",
       "    </tr>\n",
       "    <tr>\n",
       "      <th>2</th>\n",
       "      <td>332.5</td>\n",
       "      <td>142.5</td>\n",
       "      <td>0.0</td>\n",
       "      <td>228.0</td>\n",
       "      <td>0.0</td>\n",
       "      <td>932.0</td>\n",
       "      <td>594.0</td>\n",
       "      <td>270</td>\n",
       "      <td>40.269535</td>\n",
       "    </tr>\n",
       "  </tbody>\n",
       "</table>\n",
       "</div>"
      ],
      "text/plain": [
       "   Cement (component 1)(kg in a m^3 mixture)  \\\n",
       "0                                      540.0   \n",
       "1                                      540.0   \n",
       "2                                      332.5   \n",
       "\n",
       "   Blast Furnace Slag (component 2)(kg in a m^3 mixture)  \\\n",
       "0                                                0.0       \n",
       "1                                                0.0       \n",
       "2                                              142.5       \n",
       "\n",
       "   Fly Ash (component 3)(kg in a m^3 mixture)  \\\n",
       "0                                         0.0   \n",
       "1                                         0.0   \n",
       "2                                         0.0   \n",
       "\n",
       "   Water  (component 4)(kg in a m^3 mixture)  \\\n",
       "0                                      162.0   \n",
       "1                                      162.0   \n",
       "2                                      228.0   \n",
       "\n",
       "   Superplasticizer (component 5)(kg in a m^3 mixture)  \\\n",
       "0                                                2.5     \n",
       "1                                                2.5     \n",
       "2                                                0.0     \n",
       "\n",
       "   Coarse Aggregate  (component 6)(kg in a m^3 mixture)  \\\n",
       "0                                             1040.0      \n",
       "1                                             1055.0      \n",
       "2                                              932.0      \n",
       "\n",
       "   Fine Aggregate (component 7)(kg in a m^3 mixture)  Age (day)  \\\n",
       "0                                              676.0         28   \n",
       "1                                              676.0         28   \n",
       "2                                              594.0        270   \n",
       "\n",
       "   Concrete compressive strength(MPa, megapascals)   \n",
       "0                                         79.986111  \n",
       "1                                         61.887366  \n",
       "2                                         40.269535  "
      ]
     },
     "execution_count": 2,
     "metadata": {},
     "output_type": "execute_result"
    }
   ],
   "source": [
    "import numpy as np\n",
    "import pandas as pd\n",
    "import matplotlib.pyplot as plt\n",
    "\n",
    "url = \"https://tinyurl.com/icccm1\"\n",
    "df = pd.read_excel(url) \n",
    "\n",
    "df.head(3)"
   ]
  },
  {
   "cell_type": "markdown",
   "id": "765a3f31",
   "metadata": {},
   "source": [
    "We note that the column names are very long and contain some special characers. Therefore, we will manually rename the columns."
   ]
  },
  {
   "cell_type": "code",
   "execution_count": 15,
   "id": "bbfb5c8d",
   "metadata": {},
   "outputs": [
    {
     "data": {
      "application/vnd.microsoft.datawrangler.viewer.v0+json": {
       "columns": [
        {
         "name": "index",
         "rawType": "int64",
         "type": "integer"
        },
        {
         "name": "cement",
         "rawType": "float64",
         "type": "float"
        },
        {
         "name": "bfs",
         "rawType": "float64",
         "type": "float"
        },
        {
         "name": "flyash",
         "rawType": "float64",
         "type": "float"
        },
        {
         "name": "water",
         "rawType": "float64",
         "type": "float"
        },
        {
         "name": "sp",
         "rawType": "float64",
         "type": "float"
        },
        {
         "name": "agg_coarse",
         "rawType": "float64",
         "type": "float"
        },
        {
         "name": "agg_fine",
         "rawType": "float64",
         "type": "float"
        },
        {
         "name": "age",
         "rawType": "int64",
         "type": "integer"
        },
        {
         "name": "strength",
         "rawType": "float64",
         "type": "float"
        }
       ],
       "ref": "7248d110-ea39-4adf-82cf-1ad99c27da63",
       "rows": [
        [
         "0",
         "540.0",
         "0.0",
         "0.0",
         "162.0",
         "2.5",
         "1040.0",
         "676.0",
         "28",
         "79.98611076"
        ],
        [
         "1",
         "540.0",
         "0.0",
         "0.0",
         "162.0",
         "2.5",
         "1055.0",
         "676.0",
         "28",
         "61.887365759999994"
        ],
        [
         "2",
         "332.5",
         "142.5",
         "0.0",
         "228.0",
         "0.0",
         "932.0",
         "594.0",
         "270",
         "40.269535256000005"
        ]
       ],
       "shape": {
        "columns": 9,
        "rows": 3
       }
      },
      "text/html": [
       "<div>\n",
       "<style scoped>\n",
       "    .dataframe tbody tr th:only-of-type {\n",
       "        vertical-align: middle;\n",
       "    }\n",
       "\n",
       "    .dataframe tbody tr th {\n",
       "        vertical-align: top;\n",
       "    }\n",
       "\n",
       "    .dataframe thead th {\n",
       "        text-align: right;\n",
       "    }\n",
       "</style>\n",
       "<table border=\"1\" class=\"dataframe\">\n",
       "  <thead>\n",
       "    <tr style=\"text-align: right;\">\n",
       "      <th></th>\n",
       "      <th>cement</th>\n",
       "      <th>bfs</th>\n",
       "      <th>flyash</th>\n",
       "      <th>water</th>\n",
       "      <th>sp</th>\n",
       "      <th>agg_coarse</th>\n",
       "      <th>agg_fine</th>\n",
       "      <th>age</th>\n",
       "      <th>strength</th>\n",
       "    </tr>\n",
       "  </thead>\n",
       "  <tbody>\n",
       "    <tr>\n",
       "      <th>0</th>\n",
       "      <td>540.0</td>\n",
       "      <td>0.0</td>\n",
       "      <td>0.0</td>\n",
       "      <td>162.0</td>\n",
       "      <td>2.5</td>\n",
       "      <td>1040.0</td>\n",
       "      <td>676.0</td>\n",
       "      <td>28</td>\n",
       "      <td>79.986111</td>\n",
       "    </tr>\n",
       "    <tr>\n",
       "      <th>1</th>\n",
       "      <td>540.0</td>\n",
       "      <td>0.0</td>\n",
       "      <td>0.0</td>\n",
       "      <td>162.0</td>\n",
       "      <td>2.5</td>\n",
       "      <td>1055.0</td>\n",
       "      <td>676.0</td>\n",
       "      <td>28</td>\n",
       "      <td>61.887366</td>\n",
       "    </tr>\n",
       "    <tr>\n",
       "      <th>2</th>\n",
       "      <td>332.5</td>\n",
       "      <td>142.5</td>\n",
       "      <td>0.0</td>\n",
       "      <td>228.0</td>\n",
       "      <td>0.0</td>\n",
       "      <td>932.0</td>\n",
       "      <td>594.0</td>\n",
       "      <td>270</td>\n",
       "      <td>40.269535</td>\n",
       "    </tr>\n",
       "  </tbody>\n",
       "</table>\n",
       "</div>"
      ],
      "text/plain": [
       "   cement    bfs  flyash  water   sp  agg_coarse  agg_fine  age   strength\n",
       "0   540.0    0.0     0.0  162.0  2.5      1040.0     676.0   28  79.986111\n",
       "1   540.0    0.0     0.0  162.0  2.5      1055.0     676.0   28  61.887366\n",
       "2   332.5  142.5     0.0  228.0  0.0       932.0     594.0  270  40.269535"
      ]
     },
     "execution_count": 15,
     "metadata": {},
     "output_type": "execute_result"
    }
   ],
   "source": [
    "df.columns = [\"cement\", \"bfs\", \"flyash\", \"water\", \"sp\", \"agg_coarse\", \"agg_fine\", \"age\", \"strength\"]\n",
    "df.head(3)"
   ]
  },
  {
   "cell_type": "markdown",
   "id": "8c227312",
   "metadata": {},
   "source": [
    "## Different ways to select a column in Pandas\n",
    "We now demonstrate how to select a column with Pandas. Note that the type of a column is a Pandas Series."
   ]
  },
  {
   "cell_type": "code",
   "execution_count": 16,
   "id": "4cb4c2d6",
   "metadata": {},
   "outputs": [
    {
     "data": {
      "text/plain": [
       "pandas.core.series.Series"
      ]
     },
     "execution_count": 16,
     "metadata": {},
     "output_type": "execute_result"
    }
   ],
   "source": [
    "\n",
    "type(df.cement)\n"
   ]
  },
  {
   "cell_type": "markdown",
   "id": "9d5188bc",
   "metadata": {},
   "source": [
    "A specific column, here the column containing the amount of cement can be selected using a dot notation like this:"
   ]
  },
  {
   "cell_type": "code",
   "execution_count": 6,
   "id": "2416d987",
   "metadata": {},
   "outputs": [
    {
     "data": {
      "application/vnd.microsoft.datawrangler.viewer.v0+json": {
       "columns": [
        {
         "name": "index",
         "rawType": "int64",
         "type": "integer"
        },
        {
         "name": "cement",
         "rawType": "float64",
         "type": "float"
        }
       ],
       "ref": "5ae643e0-ae56-461e-9873-bb893891ccc1",
       "rows": [
        [
         "0",
         "540.0"
        ],
        [
         "1",
         "540.0"
        ],
        [
         "2",
         "332.5"
        ],
        [
         "3",
         "332.5"
        ],
        [
         "4",
         "198.6"
        ],
        [
         "5",
         "266.0"
        ],
        [
         "6",
         "380.0"
        ],
        [
         "7",
         "380.0"
        ],
        [
         "8",
         "266.0"
        ],
        [
         "9",
         "475.0"
        ],
        [
         "10",
         "198.6"
        ],
        [
         "11",
         "198.6"
        ],
        [
         "12",
         "427.5"
        ],
        [
         "13",
         "190.0"
        ],
        [
         "14",
         "304.0"
        ],
        [
         "15",
         "380.0"
        ],
        [
         "16",
         "139.6"
        ],
        [
         "17",
         "342.0"
        ],
        [
         "18",
         "380.0"
        ],
        [
         "19",
         "475.0"
        ],
        [
         "20",
         "427.5"
        ],
        [
         "21",
         "139.6"
        ],
        [
         "22",
         "139.6"
        ],
        [
         "23",
         "139.6"
        ],
        [
         "24",
         "380.0"
        ],
        [
         "25",
         "380.0"
        ],
        [
         "26",
         "380.0"
        ],
        [
         "27",
         "342.0"
        ],
        [
         "28",
         "427.5"
        ],
        [
         "29",
         "475.0"
        ],
        [
         "30",
         "304.0"
        ],
        [
         "31",
         "266.0"
        ],
        [
         "32",
         "198.6"
        ],
        [
         "33",
         "475.0"
        ],
        [
         "34",
         "190.0"
        ],
        [
         "35",
         "237.5"
        ],
        [
         "36",
         "237.5"
        ],
        [
         "37",
         "332.5"
        ],
        [
         "38",
         "475.0"
        ],
        [
         "39",
         "237.5"
        ],
        [
         "40",
         "342.0"
        ],
        [
         "41",
         "427.5"
        ],
        [
         "42",
         "237.5"
        ],
        [
         "43",
         "380.0"
        ],
        [
         "44",
         "427.5"
        ],
        [
         "45",
         "427.5"
        ],
        [
         "46",
         "349.0"
        ],
        [
         "47",
         "380.0"
        ],
        [
         "48",
         "237.5"
        ],
        [
         "49",
         "380.0"
        ]
       ],
       "shape": {
        "columns": 1,
        "rows": 1030
       }
      },
      "text/plain": [
       "0       540.0\n",
       "1       540.0\n",
       "2       332.5\n",
       "3       332.5\n",
       "4       198.6\n",
       "        ...  \n",
       "1025    276.4\n",
       "1026    322.2\n",
       "1027    148.5\n",
       "1028    159.1\n",
       "1029    260.9\n",
       "Name: cement, Length: 1030, dtype: float64"
      ]
     },
     "execution_count": 6,
     "metadata": {},
     "output_type": "execute_result"
    }
   ],
   "source": [
    "df.cement\n"
   ]
  },
  {
   "cell_type": "markdown",
   "id": "472ee4ff",
   "metadata": {},
   "source": [
    "Alternatively a notation with square brackets is also possible:"
   ]
  },
  {
   "cell_type": "code",
   "execution_count": null,
   "id": "b716a453",
   "metadata": {},
   "outputs": [
    {
     "data": {
      "application/vnd.microsoft.datawrangler.viewer.v0+json": {
       "columns": [
        {
         "name": "index",
         "rawType": "int64",
         "type": "integer"
        },
        {
         "name": "cement",
         "rawType": "float64",
         "type": "float"
        }
       ],
       "ref": "e2a6e78a-5f11-4288-81a3-d16f5f162b37",
       "rows": [
        [
         "0",
         "540.0"
        ],
        [
         "1",
         "540.0"
        ],
        [
         "2",
         "332.5"
        ],
        [
         "3",
         "332.5"
        ],
        [
         "4",
         "198.6"
        ],
        [
         "5",
         "266.0"
        ],
        [
         "6",
         "380.0"
        ],
        [
         "7",
         "380.0"
        ],
        [
         "8",
         "266.0"
        ],
        [
         "9",
         "475.0"
        ],
        [
         "10",
         "198.6"
        ],
        [
         "11",
         "198.6"
        ],
        [
         "12",
         "427.5"
        ],
        [
         "13",
         "190.0"
        ],
        [
         "14",
         "304.0"
        ],
        [
         "15",
         "380.0"
        ],
        [
         "16",
         "139.6"
        ],
        [
         "17",
         "342.0"
        ],
        [
         "18",
         "380.0"
        ],
        [
         "19",
         "475.0"
        ],
        [
         "20",
         "427.5"
        ],
        [
         "21",
         "139.6"
        ],
        [
         "22",
         "139.6"
        ],
        [
         "23",
         "139.6"
        ],
        [
         "24",
         "380.0"
        ],
        [
         "25",
         "380.0"
        ],
        [
         "26",
         "380.0"
        ],
        [
         "27",
         "342.0"
        ],
        [
         "28",
         "427.5"
        ],
        [
         "29",
         "475.0"
        ],
        [
         "30",
         "304.0"
        ],
        [
         "31",
         "266.0"
        ],
        [
         "32",
         "198.6"
        ],
        [
         "33",
         "475.0"
        ],
        [
         "34",
         "190.0"
        ],
        [
         "35",
         "237.5"
        ],
        [
         "36",
         "237.5"
        ],
        [
         "37",
         "332.5"
        ],
        [
         "38",
         "475.0"
        ],
        [
         "39",
         "237.5"
        ],
        [
         "40",
         "342.0"
        ],
        [
         "41",
         "427.5"
        ],
        [
         "42",
         "237.5"
        ],
        [
         "43",
         "380.0"
        ],
        [
         "44",
         "427.5"
        ],
        [
         "45",
         "427.5"
        ],
        [
         "46",
         "349.0"
        ],
        [
         "47",
         "380.0"
        ],
        [
         "48",
         "237.5"
        ],
        [
         "49",
         "380.0"
        ]
       ],
       "shape": {
        "columns": 1,
        "rows": 1030
       }
      },
      "text/plain": [
       "0       540.0\n",
       "1       540.0\n",
       "2       332.5\n",
       "3       332.5\n",
       "4       198.6\n",
       "        ...  \n",
       "1025    276.4\n",
       "1026    322.2\n",
       "1027    148.5\n",
       "1028    159.1\n",
       "1029    260.9\n",
       "Name: cement, Length: 1030, dtype: float64"
      ]
     },
     "execution_count": 7,
     "metadata": {},
     "output_type": "execute_result"
    }
   ],
   "source": [
    "df[\"cement\"]\n"
   ]
  },
  {
   "cell_type": "markdown",
   "id": "8003b4c3",
   "metadata": {},
   "source": [
    "It is also possible to use in indexed location based access. The `:` means that all rows are selected."
   ]
  },
  {
   "cell_type": "code",
   "execution_count": null,
   "id": "ef455972",
   "metadata": {},
   "outputs": [
    {
     "data": {
      "application/vnd.microsoft.datawrangler.viewer.v0+json": {
       "columns": [
        {
         "name": "index",
         "rawType": "int64",
         "type": "integer"
        },
        {
         "name": "cement",
         "rawType": "float64",
         "type": "float"
        }
       ],
       "ref": "531d5973-5b00-4ff3-a243-0d1b06824db4",
       "rows": [
        [
         "0",
         "540.0"
        ],
        [
         "1",
         "540.0"
        ],
        [
         "2",
         "332.5"
        ],
        [
         "3",
         "332.5"
        ],
        [
         "4",
         "198.6"
        ],
        [
         "5",
         "266.0"
        ],
        [
         "6",
         "380.0"
        ],
        [
         "7",
         "380.0"
        ],
        [
         "8",
         "266.0"
        ],
        [
         "9",
         "475.0"
        ],
        [
         "10",
         "198.6"
        ],
        [
         "11",
         "198.6"
        ],
        [
         "12",
         "427.5"
        ],
        [
         "13",
         "190.0"
        ],
        [
         "14",
         "304.0"
        ],
        [
         "15",
         "380.0"
        ],
        [
         "16",
         "139.6"
        ],
        [
         "17",
         "342.0"
        ],
        [
         "18",
         "380.0"
        ],
        [
         "19",
         "475.0"
        ],
        [
         "20",
         "427.5"
        ],
        [
         "21",
         "139.6"
        ],
        [
         "22",
         "139.6"
        ],
        [
         "23",
         "139.6"
        ],
        [
         "24",
         "380.0"
        ],
        [
         "25",
         "380.0"
        ],
        [
         "26",
         "380.0"
        ],
        [
         "27",
         "342.0"
        ],
        [
         "28",
         "427.5"
        ],
        [
         "29",
         "475.0"
        ],
        [
         "30",
         "304.0"
        ],
        [
         "31",
         "266.0"
        ],
        [
         "32",
         "198.6"
        ],
        [
         "33",
         "475.0"
        ],
        [
         "34",
         "190.0"
        ],
        [
         "35",
         "237.5"
        ],
        [
         "36",
         "237.5"
        ],
        [
         "37",
         "332.5"
        ],
        [
         "38",
         "475.0"
        ],
        [
         "39",
         "237.5"
        ],
        [
         "40",
         "342.0"
        ],
        [
         "41",
         "427.5"
        ],
        [
         "42",
         "237.5"
        ],
        [
         "43",
         "380.0"
        ],
        [
         "44",
         "427.5"
        ],
        [
         "45",
         "427.5"
        ],
        [
         "46",
         "349.0"
        ],
        [
         "47",
         "380.0"
        ],
        [
         "48",
         "237.5"
        ],
        [
         "49",
         "380.0"
        ]
       ],
       "shape": {
        "columns": 1,
        "rows": 1030
       }
      },
      "text/plain": [
       "0       540.0\n",
       "1       540.0\n",
       "2       332.5\n",
       "3       332.5\n",
       "4       198.6\n",
       "        ...  \n",
       "1025    276.4\n",
       "1026    322.2\n",
       "1027    148.5\n",
       "1028    159.1\n",
       "1029    260.9\n",
       "Name: cement, Length: 1030, dtype: float64"
      ]
     },
     "execution_count": 14,
     "metadata": {},
     "output_type": "execute_result"
    }
   ],
   "source": [
    "df.iloc[:,0]"
   ]
  },
  {
   "cell_type": "markdown",
   "id": "8ad0078b",
   "metadata": {},
   "source": [
    "A name based selection is also possible"
   ]
  },
  {
   "cell_type": "code",
   "execution_count": null,
   "id": "c8a2ab6a",
   "metadata": {},
   "outputs": [],
   "source": [
    "col4 = df.loc[:,\"cement\"]"
   ]
  },
  {
   "cell_type": "markdown",
   "id": "e07680d4",
   "metadata": {},
   "source": [
    "## Create a new column -- calculate the w/c value"
   ]
  },
  {
   "cell_type": "code",
   "execution_count": 20,
   "id": "6111e931",
   "metadata": {},
   "outputs": [
    {
     "data": {
      "application/vnd.microsoft.datawrangler.viewer.v0+json": {
       "columns": [
        {
         "name": "index",
         "rawType": "int64",
         "type": "integer"
        },
        {
         "name": "cement",
         "rawType": "float64",
         "type": "float"
        },
        {
         "name": "bfs",
         "rawType": "float64",
         "type": "float"
        },
        {
         "name": "flyash",
         "rawType": "float64",
         "type": "float"
        },
        {
         "name": "water",
         "rawType": "float64",
         "type": "float"
        },
        {
         "name": "sp",
         "rawType": "float64",
         "type": "float"
        },
        {
         "name": "agg_coarse",
         "rawType": "float64",
         "type": "float"
        },
        {
         "name": "agg_fine",
         "rawType": "float64",
         "type": "float"
        },
        {
         "name": "age",
         "rawType": "int64",
         "type": "integer"
        },
        {
         "name": "strength",
         "rawType": "float64",
         "type": "float"
        },
        {
         "name": "wc",
         "rawType": "float64",
         "type": "float"
        }
       ],
       "ref": "e828ac50-2e5a-4335-8b65-07620e0a0fe4",
       "rows": [
        [
         "0",
         "540.0",
         "0.0",
         "0.0",
         "162.0",
         "2.5",
         "1040.0",
         "676.0",
         "28",
         "79.98611076",
         "0.3"
        ],
        [
         "1",
         "540.0",
         "0.0",
         "0.0",
         "162.0",
         "2.5",
         "1055.0",
         "676.0",
         "28",
         "61.887365759999994",
         "0.3"
        ],
        [
         "2",
         "332.5",
         "142.5",
         "0.0",
         "228.0",
         "0.0",
         "932.0",
         "594.0",
         "270",
         "40.269535256000005",
         "0.48"
        ],
        [
         "3",
         "332.5",
         "142.5",
         "0.0",
         "228.0",
         "0.0",
         "932.0",
         "594.0",
         "365",
         "41.052779992",
         "0.48"
        ],
        [
         "4",
         "198.6",
         "132.4",
         "0.0",
         "192.0",
         "0.0",
         "978.4",
         "825.5",
         "360",
         "44.296075096",
         "0.58"
        ]
       ],
       "shape": {
        "columns": 10,
        "rows": 5
       }
      },
      "text/html": [
       "<div>\n",
       "<style scoped>\n",
       "    .dataframe tbody tr th:only-of-type {\n",
       "        vertical-align: middle;\n",
       "    }\n",
       "\n",
       "    .dataframe tbody tr th {\n",
       "        vertical-align: top;\n",
       "    }\n",
       "\n",
       "    .dataframe thead th {\n",
       "        text-align: right;\n",
       "    }\n",
       "</style>\n",
       "<table border=\"1\" class=\"dataframe\">\n",
       "  <thead>\n",
       "    <tr style=\"text-align: right;\">\n",
       "      <th></th>\n",
       "      <th>cement</th>\n",
       "      <th>bfs</th>\n",
       "      <th>flyash</th>\n",
       "      <th>water</th>\n",
       "      <th>sp</th>\n",
       "      <th>agg_coarse</th>\n",
       "      <th>agg_fine</th>\n",
       "      <th>age</th>\n",
       "      <th>strength</th>\n",
       "      <th>wc</th>\n",
       "    </tr>\n",
       "  </thead>\n",
       "  <tbody>\n",
       "    <tr>\n",
       "      <th>0</th>\n",
       "      <td>540.0</td>\n",
       "      <td>0.0</td>\n",
       "      <td>0.0</td>\n",
       "      <td>162.0</td>\n",
       "      <td>2.5</td>\n",
       "      <td>1040.0</td>\n",
       "      <td>676.0</td>\n",
       "      <td>28</td>\n",
       "      <td>79.986111</td>\n",
       "      <td>0.30</td>\n",
       "    </tr>\n",
       "    <tr>\n",
       "      <th>1</th>\n",
       "      <td>540.0</td>\n",
       "      <td>0.0</td>\n",
       "      <td>0.0</td>\n",
       "      <td>162.0</td>\n",
       "      <td>2.5</td>\n",
       "      <td>1055.0</td>\n",
       "      <td>676.0</td>\n",
       "      <td>28</td>\n",
       "      <td>61.887366</td>\n",
       "      <td>0.30</td>\n",
       "    </tr>\n",
       "    <tr>\n",
       "      <th>2</th>\n",
       "      <td>332.5</td>\n",
       "      <td>142.5</td>\n",
       "      <td>0.0</td>\n",
       "      <td>228.0</td>\n",
       "      <td>0.0</td>\n",
       "      <td>932.0</td>\n",
       "      <td>594.0</td>\n",
       "      <td>270</td>\n",
       "      <td>40.269535</td>\n",
       "      <td>0.48</td>\n",
       "    </tr>\n",
       "    <tr>\n",
       "      <th>3</th>\n",
       "      <td>332.5</td>\n",
       "      <td>142.5</td>\n",
       "      <td>0.0</td>\n",
       "      <td>228.0</td>\n",
       "      <td>0.0</td>\n",
       "      <td>932.0</td>\n",
       "      <td>594.0</td>\n",
       "      <td>365</td>\n",
       "      <td>41.052780</td>\n",
       "      <td>0.48</td>\n",
       "    </tr>\n",
       "    <tr>\n",
       "      <th>4</th>\n",
       "      <td>198.6</td>\n",
       "      <td>132.4</td>\n",
       "      <td>0.0</td>\n",
       "      <td>192.0</td>\n",
       "      <td>0.0</td>\n",
       "      <td>978.4</td>\n",
       "      <td>825.5</td>\n",
       "      <td>360</td>\n",
       "      <td>44.296075</td>\n",
       "      <td>0.58</td>\n",
       "    </tr>\n",
       "  </tbody>\n",
       "</table>\n",
       "</div>"
      ],
      "text/plain": [
       "   cement    bfs  flyash  water   sp  agg_coarse  agg_fine  age   strength  \\\n",
       "0   540.0    0.0     0.0  162.0  2.5      1040.0     676.0   28  79.986111   \n",
       "1   540.0    0.0     0.0  162.0  2.5      1055.0     676.0   28  61.887366   \n",
       "2   332.5  142.5     0.0  228.0  0.0       932.0     594.0  270  40.269535   \n",
       "3   332.5  142.5     0.0  228.0  0.0       932.0     594.0  365  41.052780   \n",
       "4   198.6  132.4     0.0  192.0  0.0       978.4     825.5  360  44.296075   \n",
       "\n",
       "     wc  \n",
       "0  0.30  \n",
       "1  0.30  \n",
       "2  0.48  \n",
       "3  0.48  \n",
       "4  0.58  "
      ]
     },
     "execution_count": 20,
     "metadata": {},
     "output_type": "execute_result"
    }
   ],
   "source": [
    "\n",
    "df[\"wc\"] = df[\"water\"] / (df[\"cement\"] + df[\"bfs\"] + df[\"flyash\"])\n",
    "df.head(5)\n",
    "\n",
    "# better to round off after the second decimal\n",
    "df[\"wc\"] = df[\"wc\"].round(2)\n",
    "df.head(5)"
   ]
  },
  {
   "cell_type": "code",
   "execution_count": 22,
   "id": "b0428d89",
   "metadata": {},
   "outputs": [
    {
     "data": {
      "application/vnd.microsoft.datawrangler.viewer.v0+json": {
       "columns": [
        {
         "name": "index",
         "rawType": "int64",
         "type": "integer"
        },
        {
         "name": "cement",
         "rawType": "float64",
         "type": "float"
        },
        {
         "name": "bfs",
         "rawType": "float64",
         "type": "float"
        },
        {
         "name": "flyash",
         "rawType": "float64",
         "type": "float"
        },
        {
         "name": "water",
         "rawType": "float64",
         "type": "float"
        },
        {
         "name": "sp",
         "rawType": "float64",
         "type": "float"
        },
        {
         "name": "agg_coarse",
         "rawType": "float64",
         "type": "float"
        },
        {
         "name": "agg_fine",
         "rawType": "float64",
         "type": "float"
        },
        {
         "name": "age",
         "rawType": "int64",
         "type": "integer"
        },
        {
         "name": "strength",
         "rawType": "float64",
         "type": "float"
        },
        {
         "name": "wc",
         "rawType": "float64",
         "type": "float"
        },
        {
         "name": "wc_high",
         "rawType": "bool",
         "type": "boolean"
        }
       ],
       "ref": "faa3afb0-2aeb-4c3c-9842-f21a276f77f2",
       "rows": [
        [
         "0",
         "540.0",
         "0.0",
         "0.0",
         "162.0",
         "2.5",
         "1040.0",
         "676.0",
         "28",
         "79.98611076",
         "0.3",
         "False"
        ],
        [
         "1",
         "540.0",
         "0.0",
         "0.0",
         "162.0",
         "2.5",
         "1055.0",
         "676.0",
         "28",
         "61.887365759999994",
         "0.3",
         "False"
        ],
        [
         "2",
         "332.5",
         "142.5",
         "0.0",
         "228.0",
         "0.0",
         "932.0",
         "594.0",
         "270",
         "40.269535256000005",
         "0.48",
         "True"
        ],
        [
         "3",
         "332.5",
         "142.5",
         "0.0",
         "228.0",
         "0.0",
         "932.0",
         "594.0",
         "365",
         "41.052779992",
         "0.48",
         "True"
        ],
        [
         "4",
         "198.6",
         "132.4",
         "0.0",
         "192.0",
         "0.0",
         "978.4",
         "825.5",
         "360",
         "44.296075096",
         "0.58",
         "True"
        ]
       ],
       "shape": {
        "columns": 11,
        "rows": 5
       }
      },
      "text/html": [
       "<div>\n",
       "<style scoped>\n",
       "    .dataframe tbody tr th:only-of-type {\n",
       "        vertical-align: middle;\n",
       "    }\n",
       "\n",
       "    .dataframe tbody tr th {\n",
       "        vertical-align: top;\n",
       "    }\n",
       "\n",
       "    .dataframe thead th {\n",
       "        text-align: right;\n",
       "    }\n",
       "</style>\n",
       "<table border=\"1\" class=\"dataframe\">\n",
       "  <thead>\n",
       "    <tr style=\"text-align: right;\">\n",
       "      <th></th>\n",
       "      <th>cement</th>\n",
       "      <th>bfs</th>\n",
       "      <th>flyash</th>\n",
       "      <th>water</th>\n",
       "      <th>sp</th>\n",
       "      <th>agg_coarse</th>\n",
       "      <th>agg_fine</th>\n",
       "      <th>age</th>\n",
       "      <th>strength</th>\n",
       "      <th>wc</th>\n",
       "      <th>wc_high</th>\n",
       "    </tr>\n",
       "  </thead>\n",
       "  <tbody>\n",
       "    <tr>\n",
       "      <th>0</th>\n",
       "      <td>540.0</td>\n",
       "      <td>0.0</td>\n",
       "      <td>0.0</td>\n",
       "      <td>162.0</td>\n",
       "      <td>2.5</td>\n",
       "      <td>1040.0</td>\n",
       "      <td>676.0</td>\n",
       "      <td>28</td>\n",
       "      <td>79.986111</td>\n",
       "      <td>0.30</td>\n",
       "      <td>False</td>\n",
       "    </tr>\n",
       "    <tr>\n",
       "      <th>1</th>\n",
       "      <td>540.0</td>\n",
       "      <td>0.0</td>\n",
       "      <td>0.0</td>\n",
       "      <td>162.0</td>\n",
       "      <td>2.5</td>\n",
       "      <td>1055.0</td>\n",
       "      <td>676.0</td>\n",
       "      <td>28</td>\n",
       "      <td>61.887366</td>\n",
       "      <td>0.30</td>\n",
       "      <td>False</td>\n",
       "    </tr>\n",
       "    <tr>\n",
       "      <th>2</th>\n",
       "      <td>332.5</td>\n",
       "      <td>142.5</td>\n",
       "      <td>0.0</td>\n",
       "      <td>228.0</td>\n",
       "      <td>0.0</td>\n",
       "      <td>932.0</td>\n",
       "      <td>594.0</td>\n",
       "      <td>270</td>\n",
       "      <td>40.269535</td>\n",
       "      <td>0.48</td>\n",
       "      <td>True</td>\n",
       "    </tr>\n",
       "    <tr>\n",
       "      <th>3</th>\n",
       "      <td>332.5</td>\n",
       "      <td>142.5</td>\n",
       "      <td>0.0</td>\n",
       "      <td>228.0</td>\n",
       "      <td>0.0</td>\n",
       "      <td>932.0</td>\n",
       "      <td>594.0</td>\n",
       "      <td>365</td>\n",
       "      <td>41.052780</td>\n",
       "      <td>0.48</td>\n",
       "      <td>True</td>\n",
       "    </tr>\n",
       "    <tr>\n",
       "      <th>4</th>\n",
       "      <td>198.6</td>\n",
       "      <td>132.4</td>\n",
       "      <td>0.0</td>\n",
       "      <td>192.0</td>\n",
       "      <td>0.0</td>\n",
       "      <td>978.4</td>\n",
       "      <td>825.5</td>\n",
       "      <td>360</td>\n",
       "      <td>44.296075</td>\n",
       "      <td>0.58</td>\n",
       "      <td>True</td>\n",
       "    </tr>\n",
       "  </tbody>\n",
       "</table>\n",
       "</div>"
      ],
      "text/plain": [
       "   cement    bfs  flyash  water   sp  agg_coarse  agg_fine  age   strength  \\\n",
       "0   540.0    0.0     0.0  162.0  2.5      1040.0     676.0   28  79.986111   \n",
       "1   540.0    0.0     0.0  162.0  2.5      1055.0     676.0   28  61.887366   \n",
       "2   332.5  142.5     0.0  228.0  0.0       932.0     594.0  270  40.269535   \n",
       "3   332.5  142.5     0.0  228.0  0.0       932.0     594.0  365  41.052780   \n",
       "4   198.6  132.4     0.0  192.0  0.0       978.4     825.5  360  44.296075   \n",
       "\n",
       "     wc  wc_high  \n",
       "0  0.30    False  \n",
       "1  0.30    False  \n",
       "2  0.48     True  \n",
       "3  0.48     True  \n",
       "4  0.58     True  "
      ]
     },
     "execution_count": 22,
     "metadata": {},
     "output_type": "execute_result"
    }
   ],
   "source": [
    "\n",
    "df[\"wc_high\"] = df[\"wc\"] > 0.42\n",
    "df.head(5)"
   ]
  },
  {
   "cell_type": "code",
   "execution_count": null,
   "id": "d6f87114",
   "metadata": {},
   "outputs": [],
   "source": [
    "\n",
    "# check dtypes\n",
    "df.dtypes\n",
    "\n"
   ]
  },
  {
   "cell_type": "code",
   "execution_count": 25,
   "id": "3cb82ed2",
   "metadata": {},
   "outputs": [
    {
     "data": {
      "text/plain": [
       "np.int64(602)"
      ]
     },
     "execution_count": 25,
     "metadata": {},
     "output_type": "execute_result"
    }
   ],
   "source": [
    "\n",
    "\n",
    "# count high wc instances\n",
    "nr_high = df.wc_high.sum()\n",
    "\n",
    "\n",
    "nr_high"
   ]
  },
  {
   "cell_type": "code",
   "execution_count": 26,
   "id": "d2c96a25",
   "metadata": {},
   "outputs": [
    {
     "data": {
      "application/vnd.microsoft.datawrangler.viewer.v0+json": {
       "columns": [
        {
         "name": "index",
         "rawType": "object",
         "type": "string"
        },
        {
         "name": "0",
         "rawType": "float64",
         "type": "float"
        }
       ],
       "ref": "684f72d8-2b94-4911-8c45-5f653d440d17",
       "rows": [
        [
         "cement",
         "281.16563106796116"
        ],
        [
         "bfs",
         "73.89548543689321"
        ],
        [
         "flyash",
         "54.1871359223301"
        ],
        [
         "water",
         "181.56635922330096"
        ],
        [
         "sp",
         "6.203111650485437"
        ],
        [
         "agg_coarse",
         "972.9185922330097"
        ],
        [
         "agg_fine",
         "773.5788834951456"
        ],
        [
         "age",
         "45.662135922330094"
        ],
        [
         "strength",
         "35.8178358261136"
        ],
        [
         "wc",
         "0.4692330097087379"
        ],
        [
         "wc_high",
         "0.5844660194174758"
        ]
       ],
       "shape": {
        "columns": 1,
        "rows": 11
       }
      },
      "text/plain": [
       "cement        281.165631\n",
       "bfs            73.895485\n",
       "flyash         54.187136\n",
       "water         181.566359\n",
       "sp              6.203112\n",
       "agg_coarse    972.918592\n",
       "agg_fine      773.578883\n",
       "age            45.662136\n",
       "strength       35.817836\n",
       "wc              0.469233\n",
       "wc_high         0.584466\n",
       "dtype: float64"
      ]
     },
     "execution_count": 26,
     "metadata": {},
     "output_type": "execute_result"
    }
   ],
   "source": [
    "\n",
    "# calculate the means\n",
    "means = df.mean(numeric_only=True)\n",
    "\n",
    "means\n"
   ]
  },
  {
   "cell_type": "code",
   "execution_count": 28,
   "id": "d4e356fc",
   "metadata": {},
   "outputs": [
    {
     "data": {
      "application/vnd.microsoft.datawrangler.viewer.v0+json": {
       "columns": [
        {
         "name": "index",
         "rawType": "int64",
         "type": "integer"
        },
        {
         "name": "cement",
         "rawType": "float64",
         "type": "float"
        },
        {
         "name": "bfs",
         "rawType": "float64",
         "type": "float"
        },
        {
         "name": "flyash",
         "rawType": "float64",
         "type": "float"
        },
        {
         "name": "water",
         "rawType": "float64",
         "type": "float"
        },
        {
         "name": "sp",
         "rawType": "float64",
         "type": "float"
        },
        {
         "name": "agg_coarse",
         "rawType": "float64",
         "type": "float"
        },
        {
         "name": "agg_fine",
         "rawType": "float64",
         "type": "float"
        },
        {
         "name": "age",
         "rawType": "int64",
         "type": "integer"
        },
        {
         "name": "strength",
         "rawType": "float64",
         "type": "float"
        },
        {
         "name": "wc",
         "rawType": "float64",
         "type": "float"
        },
        {
         "name": "wc_high",
         "rawType": "bool",
         "type": "boolean"
        }
       ],
       "ref": "5bde7b6d-6e29-4d02-a66e-6547947c4895",
       "rows": [
        [
         "2",
         "332.5",
         "142.5",
         "0.0",
         "228.0",
         "0.0",
         "932.0",
         "594.0",
         "270",
         "40.269535256000005",
         "0.48",
         "True"
        ],
        [
         "3",
         "332.5",
         "142.5",
         "0.0",
         "228.0",
         "0.0",
         "932.0",
         "594.0",
         "365",
         "41.052779992",
         "0.48",
         "True"
        ],
        [
         "4",
         "198.6",
         "132.4",
         "0.0",
         "192.0",
         "0.0",
         "978.4",
         "825.5",
         "360",
         "44.296075096",
         "0.58",
         "True"
        ]
       ],
       "shape": {
        "columns": 11,
        "rows": 3
       }
      },
      "text/html": [
       "<div>\n",
       "<style scoped>\n",
       "    .dataframe tbody tr th:only-of-type {\n",
       "        vertical-align: middle;\n",
       "    }\n",
       "\n",
       "    .dataframe tbody tr th {\n",
       "        vertical-align: top;\n",
       "    }\n",
       "\n",
       "    .dataframe thead th {\n",
       "        text-align: right;\n",
       "    }\n",
       "</style>\n",
       "<table border=\"1\" class=\"dataframe\">\n",
       "  <thead>\n",
       "    <tr style=\"text-align: right;\">\n",
       "      <th></th>\n",
       "      <th>cement</th>\n",
       "      <th>bfs</th>\n",
       "      <th>flyash</th>\n",
       "      <th>water</th>\n",
       "      <th>sp</th>\n",
       "      <th>agg_coarse</th>\n",
       "      <th>agg_fine</th>\n",
       "      <th>age</th>\n",
       "      <th>strength</th>\n",
       "      <th>wc</th>\n",
       "      <th>wc_high</th>\n",
       "    </tr>\n",
       "  </thead>\n",
       "  <tbody>\n",
       "    <tr>\n",
       "      <th>2</th>\n",
       "      <td>332.5</td>\n",
       "      <td>142.5</td>\n",
       "      <td>0.0</td>\n",
       "      <td>228.0</td>\n",
       "      <td>0.0</td>\n",
       "      <td>932.0</td>\n",
       "      <td>594.0</td>\n",
       "      <td>270</td>\n",
       "      <td>40.269535</td>\n",
       "      <td>0.48</td>\n",
       "      <td>True</td>\n",
       "    </tr>\n",
       "    <tr>\n",
       "      <th>3</th>\n",
       "      <td>332.5</td>\n",
       "      <td>142.5</td>\n",
       "      <td>0.0</td>\n",
       "      <td>228.0</td>\n",
       "      <td>0.0</td>\n",
       "      <td>932.0</td>\n",
       "      <td>594.0</td>\n",
       "      <td>365</td>\n",
       "      <td>41.052780</td>\n",
       "      <td>0.48</td>\n",
       "      <td>True</td>\n",
       "    </tr>\n",
       "    <tr>\n",
       "      <th>4</th>\n",
       "      <td>198.6</td>\n",
       "      <td>132.4</td>\n",
       "      <td>0.0</td>\n",
       "      <td>192.0</td>\n",
       "      <td>0.0</td>\n",
       "      <td>978.4</td>\n",
       "      <td>825.5</td>\n",
       "      <td>360</td>\n",
       "      <td>44.296075</td>\n",
       "      <td>0.58</td>\n",
       "      <td>True</td>\n",
       "    </tr>\n",
       "  </tbody>\n",
       "</table>\n",
       "</div>"
      ],
      "text/plain": [
       "   cement    bfs  flyash  water   sp  agg_coarse  agg_fine  age   strength  \\\n",
       "2   332.5  142.5     0.0  228.0  0.0       932.0     594.0  270  40.269535   \n",
       "3   332.5  142.5     0.0  228.0  0.0       932.0     594.0  365  41.052780   \n",
       "4   198.6  132.4     0.0  192.0  0.0       978.4     825.5  360  44.296075   \n",
       "\n",
       "     wc  wc_high  \n",
       "2  0.48     True  \n",
       "3  0.48     True  \n",
       "4  0.58     True  "
      ]
     },
     "execution_count": 28,
     "metadata": {},
     "output_type": "execute_result"
    }
   ],
   "source": [
    "\n",
    "\n",
    "#%% \n",
    "\n",
    "# filter operations\n",
    "df_high = df.query(\"wc_high > 0.42\").copy()\n",
    "df_high2 = df[df[\"wc_high\"]]\n",
    "\n",
    "df_high.head(3)"
   ]
  },
  {
   "cell_type": "code",
   "execution_count": null,
   "id": "d0b7da38",
   "metadata": {},
   "outputs": [
    {
     "data": {
      "application/vnd.microsoft.datawrangler.viewer.v0+json": {
       "columns": [
        {
         "name": "index",
         "rawType": "int64",
         "type": "integer"
        },
        {
         "name": "cement",
         "rawType": "float64",
         "type": "float"
        },
        {
         "name": "bfs",
         "rawType": "float64",
         "type": "float"
        },
        {
         "name": "flyash",
         "rawType": "float64",
         "type": "float"
        },
        {
         "name": "water",
         "rawType": "float64",
         "type": "float"
        },
        {
         "name": "sp",
         "rawType": "float64",
         "type": "float"
        },
        {
         "name": "agg_coarse",
         "rawType": "float64",
         "type": "float"
        },
        {
         "name": "agg_fine",
         "rawType": "float64",
         "type": "float"
        },
        {
         "name": "age",
         "rawType": "int64",
         "type": "integer"
        },
        {
         "name": "strength",
         "rawType": "float64",
         "type": "float"
        },
        {
         "name": "wc",
         "rawType": "float64",
         "type": "float"
        },
        {
         "name": "wc_high",
         "rawType": "bool",
         "type": "boolean"
        },
        {
         "name": "exp_code",
         "rawType": "object",
         "type": "string"
        }
       ],
       "ref": "798c04fc-e214-4d37-bf3d-17c91e7e4c35",
       "rows": [
        [
         "0",
         "540.0",
         "0.0",
         "0.0",
         "162.0",
         "2.5",
         "1040.0",
         "676.0",
         "28",
         "79.98611076",
         "0.3",
         "False",
         "a0"
        ],
        [
         "1",
         "540.0",
         "0.0",
         "0.0",
         "162.0",
         "2.5",
         "1055.0",
         "676.0",
         "28",
         "61.887365759999994",
         "0.3",
         "False",
         "a1"
        ],
        [
         "2",
         "332.5",
         "142.5",
         "0.0",
         "228.0",
         "0.0",
         "932.0",
         "594.0",
         "270",
         "40.269535256000005",
         "0.48",
         "True",
         "a2"
        ]
       ],
       "shape": {
        "columns": 12,
        "rows": 3
       }
      },
      "text/html": [
       "<div>\n",
       "<style scoped>\n",
       "    .dataframe tbody tr th:only-of-type {\n",
       "        vertical-align: middle;\n",
       "    }\n",
       "\n",
       "    .dataframe tbody tr th {\n",
       "        vertical-align: top;\n",
       "    }\n",
       "\n",
       "    .dataframe thead th {\n",
       "        text-align: right;\n",
       "    }\n",
       "</style>\n",
       "<table border=\"1\" class=\"dataframe\">\n",
       "  <thead>\n",
       "    <tr style=\"text-align: right;\">\n",
       "      <th></th>\n",
       "      <th>cement</th>\n",
       "      <th>bfs</th>\n",
       "      <th>flyash</th>\n",
       "      <th>water</th>\n",
       "      <th>sp</th>\n",
       "      <th>agg_coarse</th>\n",
       "      <th>agg_fine</th>\n",
       "      <th>age</th>\n",
       "      <th>strength</th>\n",
       "      <th>wc</th>\n",
       "      <th>wc_high</th>\n",
       "      <th>exp_code</th>\n",
       "    </tr>\n",
       "  </thead>\n",
       "  <tbody>\n",
       "    <tr>\n",
       "      <th>0</th>\n",
       "      <td>540.0</td>\n",
       "      <td>0.0</td>\n",
       "      <td>0.0</td>\n",
       "      <td>162.0</td>\n",
       "      <td>2.5</td>\n",
       "      <td>1040.0</td>\n",
       "      <td>676.0</td>\n",
       "      <td>28</td>\n",
       "      <td>79.986111</td>\n",
       "      <td>0.30</td>\n",
       "      <td>False</td>\n",
       "      <td>a0</td>\n",
       "    </tr>\n",
       "    <tr>\n",
       "      <th>1</th>\n",
       "      <td>540.0</td>\n",
       "      <td>0.0</td>\n",
       "      <td>0.0</td>\n",
       "      <td>162.0</td>\n",
       "      <td>2.5</td>\n",
       "      <td>1055.0</td>\n",
       "      <td>676.0</td>\n",
       "      <td>28</td>\n",
       "      <td>61.887366</td>\n",
       "      <td>0.30</td>\n",
       "      <td>False</td>\n",
       "      <td>a1</td>\n",
       "    </tr>\n",
       "    <tr>\n",
       "      <th>2</th>\n",
       "      <td>332.5</td>\n",
       "      <td>142.5</td>\n",
       "      <td>0.0</td>\n",
       "      <td>228.0</td>\n",
       "      <td>0.0</td>\n",
       "      <td>932.0</td>\n",
       "      <td>594.0</td>\n",
       "      <td>270</td>\n",
       "      <td>40.269535</td>\n",
       "      <td>0.48</td>\n",
       "      <td>True</td>\n",
       "      <td>a2</td>\n",
       "    </tr>\n",
       "  </tbody>\n",
       "</table>\n",
       "</div>"
      ],
      "text/plain": [
       "   cement    bfs  flyash  water   sp  agg_coarse  agg_fine  age   strength  \\\n",
       "0   540.0    0.0     0.0  162.0  2.5      1040.0     676.0   28  79.986111   \n",
       "1   540.0    0.0     0.0  162.0  2.5      1055.0     676.0   28  61.887366   \n",
       "2   332.5  142.5     0.0  228.0  0.0       932.0     594.0  270  40.269535   \n",
       "\n",
       "     wc  wc_high exp_code  \n",
       "0  0.30    False       a0  \n",
       "1  0.30    False       a1  \n",
       "2  0.48     True       a2  "
      ]
     },
     "execution_count": 29,
     "metadata": {},
     "output_type": "execute_result"
    }
   ],
   "source": [
    "# joining and dataframe creation\n",
    "exp_names = [\"a\" + str(i) for i in df.index.values]\n",
    "df[\"exp_code\"] = exp_names\n",
    "\n",
    "df.head(3)"
   ]
  },
  {
   "cell_type": "code",
   "execution_count": 32,
   "id": "9ada6704",
   "metadata": {},
   "outputs": [
    {
     "data": {
      "application/vnd.microsoft.datawrangler.viewer.v0+json": {
       "columns": [
        {
         "name": "index",
         "rawType": "int64",
         "type": "integer"
        },
        {
         "name": "exp_code",
         "rawType": "object",
         "type": "string"
        },
        {
         "name": "new",
         "rawType": "int64",
         "type": "integer"
        }
       ],
       "ref": "4081a182-d9d6-498f-a2a9-0f69a529273d",
       "rows": [
        [
         "0",
         "a0",
         "93"
        ],
        [
         "1",
         "a1",
         "85"
        ],
        [
         "2",
         "a2",
         "51"
        ]
       ],
       "shape": {
        "columns": 2,
        "rows": 3
       }
      },
      "text/html": [
       "<div>\n",
       "<style scoped>\n",
       "    .dataframe tbody tr th:only-of-type {\n",
       "        vertical-align: middle;\n",
       "    }\n",
       "\n",
       "    .dataframe tbody tr th {\n",
       "        vertical-align: top;\n",
       "    }\n",
       "\n",
       "    .dataframe thead th {\n",
       "        text-align: right;\n",
       "    }\n",
       "</style>\n",
       "<table border=\"1\" class=\"dataframe\">\n",
       "  <thead>\n",
       "    <tr style=\"text-align: right;\">\n",
       "      <th></th>\n",
       "      <th>exp_code</th>\n",
       "      <th>new</th>\n",
       "    </tr>\n",
       "  </thead>\n",
       "  <tbody>\n",
       "    <tr>\n",
       "      <th>0</th>\n",
       "      <td>a0</td>\n",
       "      <td>93</td>\n",
       "    </tr>\n",
       "    <tr>\n",
       "      <th>1</th>\n",
       "      <td>a1</td>\n",
       "      <td>85</td>\n",
       "    </tr>\n",
       "    <tr>\n",
       "      <th>2</th>\n",
       "      <td>a2</td>\n",
       "      <td>51</td>\n",
       "    </tr>\n",
       "  </tbody>\n",
       "</table>\n",
       "</div>"
      ],
      "text/plain": [
       "  exp_code  new\n",
       "0       a0   93\n",
       "1       a1   85\n",
       "2       a2   51"
      ]
     },
     "execution_count": 32,
     "metadata": {},
     "output_type": "execute_result"
    }
   ],
   "source": [
    "\n",
    "# create dummy data, fill random number between 1 and 100 for each experiment\n",
    "additional_data = [np.random.randint(1, 101) for i,j in enumerate(exp_names)]\n",
    "df2 = pd.DataFrame({\"exp_code\":exp_names, \"new\": additional_data})\n",
    "df3 = pd.DataFrame({\"exp\":exp_names, \"new\": additional_data})\n",
    "\n",
    "df2.head(3)"
   ]
  },
  {
   "cell_type": "code",
   "execution_count": 33,
   "id": "5f0e9770",
   "metadata": {},
   "outputs": [
    {
     "data": {
      "application/vnd.microsoft.datawrangler.viewer.v0+json": {
       "columns": [
        {
         "name": "index",
         "rawType": "int64",
         "type": "integer"
        },
        {
         "name": "cement",
         "rawType": "float64",
         "type": "float"
        },
        {
         "name": "bfs",
         "rawType": "float64",
         "type": "float"
        },
        {
         "name": "flyash",
         "rawType": "float64",
         "type": "float"
        },
        {
         "name": "water",
         "rawType": "float64",
         "type": "float"
        },
        {
         "name": "sp",
         "rawType": "float64",
         "type": "float"
        },
        {
         "name": "agg_coarse",
         "rawType": "float64",
         "type": "float"
        },
        {
         "name": "agg_fine",
         "rawType": "float64",
         "type": "float"
        },
        {
         "name": "age",
         "rawType": "int64",
         "type": "integer"
        },
        {
         "name": "strength",
         "rawType": "float64",
         "type": "float"
        },
        {
         "name": "wc",
         "rawType": "float64",
         "type": "float"
        },
        {
         "name": "wc_high",
         "rawType": "bool",
         "type": "boolean"
        },
        {
         "name": "exp_codeleft",
         "rawType": "object",
         "type": "string"
        },
        {
         "name": "exp_code",
         "rawType": "object",
         "type": "string"
        },
        {
         "name": "new",
         "rawType": "int64",
         "type": "integer"
        }
       ],
       "ref": "5f344fd4-8eb0-44f7-b862-c214e0b50f21",
       "rows": [
        [
         "0",
         "540.0",
         "0.0",
         "0.0",
         "162.0",
         "2.5",
         "1040.0",
         "676.0",
         "28",
         "79.98611076",
         "0.3",
         "False",
         "a0",
         "a0",
         "93"
        ],
        [
         "1",
         "540.0",
         "0.0",
         "0.0",
         "162.0",
         "2.5",
         "1055.0",
         "676.0",
         "28",
         "61.887365759999994",
         "0.3",
         "False",
         "a1",
         "a1",
         "85"
        ],
        [
         "2",
         "332.5",
         "142.5",
         "0.0",
         "228.0",
         "0.0",
         "932.0",
         "594.0",
         "270",
         "40.269535256000005",
         "0.48",
         "True",
         "a2",
         "a2",
         "51"
        ]
       ],
       "shape": {
        "columns": 14,
        "rows": 3
       }
      },
      "text/html": [
       "<div>\n",
       "<style scoped>\n",
       "    .dataframe tbody tr th:only-of-type {\n",
       "        vertical-align: middle;\n",
       "    }\n",
       "\n",
       "    .dataframe tbody tr th {\n",
       "        vertical-align: top;\n",
       "    }\n",
       "\n",
       "    .dataframe thead th {\n",
       "        text-align: right;\n",
       "    }\n",
       "</style>\n",
       "<table border=\"1\" class=\"dataframe\">\n",
       "  <thead>\n",
       "    <tr style=\"text-align: right;\">\n",
       "      <th></th>\n",
       "      <th>cement</th>\n",
       "      <th>bfs</th>\n",
       "      <th>flyash</th>\n",
       "      <th>water</th>\n",
       "      <th>sp</th>\n",
       "      <th>agg_coarse</th>\n",
       "      <th>agg_fine</th>\n",
       "      <th>age</th>\n",
       "      <th>strength</th>\n",
       "      <th>wc</th>\n",
       "      <th>wc_high</th>\n",
       "      <th>exp_codeleft</th>\n",
       "      <th>exp_code</th>\n",
       "      <th>new</th>\n",
       "    </tr>\n",
       "  </thead>\n",
       "  <tbody>\n",
       "    <tr>\n",
       "      <th>0</th>\n",
       "      <td>540.0</td>\n",
       "      <td>0.0</td>\n",
       "      <td>0.0</td>\n",
       "      <td>162.0</td>\n",
       "      <td>2.5</td>\n",
       "      <td>1040.0</td>\n",
       "      <td>676.0</td>\n",
       "      <td>28</td>\n",
       "      <td>79.986111</td>\n",
       "      <td>0.30</td>\n",
       "      <td>False</td>\n",
       "      <td>a0</td>\n",
       "      <td>a0</td>\n",
       "      <td>93</td>\n",
       "    </tr>\n",
       "    <tr>\n",
       "      <th>1</th>\n",
       "      <td>540.0</td>\n",
       "      <td>0.0</td>\n",
       "      <td>0.0</td>\n",
       "      <td>162.0</td>\n",
       "      <td>2.5</td>\n",
       "      <td>1055.0</td>\n",
       "      <td>676.0</td>\n",
       "      <td>28</td>\n",
       "      <td>61.887366</td>\n",
       "      <td>0.30</td>\n",
       "      <td>False</td>\n",
       "      <td>a1</td>\n",
       "      <td>a1</td>\n",
       "      <td>85</td>\n",
       "    </tr>\n",
       "    <tr>\n",
       "      <th>2</th>\n",
       "      <td>332.5</td>\n",
       "      <td>142.5</td>\n",
       "      <td>0.0</td>\n",
       "      <td>228.0</td>\n",
       "      <td>0.0</td>\n",
       "      <td>932.0</td>\n",
       "      <td>594.0</td>\n",
       "      <td>270</td>\n",
       "      <td>40.269535</td>\n",
       "      <td>0.48</td>\n",
       "      <td>True</td>\n",
       "      <td>a2</td>\n",
       "      <td>a2</td>\n",
       "      <td>51</td>\n",
       "    </tr>\n",
       "  </tbody>\n",
       "</table>\n",
       "</div>"
      ],
      "text/plain": [
       "   cement    bfs  flyash  water   sp  agg_coarse  agg_fine  age   strength  \\\n",
       "0   540.0    0.0     0.0  162.0  2.5      1040.0     676.0   28  79.986111   \n",
       "1   540.0    0.0     0.0  162.0  2.5      1055.0     676.0   28  61.887366   \n",
       "2   332.5  142.5     0.0  228.0  0.0       932.0     594.0  270  40.269535   \n",
       "\n",
       "     wc  wc_high exp_codeleft exp_code  new  \n",
       "0  0.30    False           a0       a0   93  \n",
       "1  0.30    False           a1       a1   85  \n",
       "2  0.48     True           a2       a2   51  "
      ]
     },
     "execution_count": 33,
     "metadata": {},
     "output_type": "execute_result"
    }
   ],
   "source": [
    "\n",
    "\n",
    "# join by index\n",
    "df_joined = df.join(df2, lsuffix=\"left\")  ## CHECK\n",
    "df_joined2 = pd.merge(df, df3, left_on=\"exp_code\", right_on=\"exp\")\n",
    "\n",
    "df_joined.head(3)"
   ]
  },
  {
   "cell_type": "code",
   "execution_count": 34,
   "id": "f230f51e",
   "metadata": {},
   "outputs": [
    {
     "data": {
      "image/png": "[encoded data removed]",
      "text/plain": [
       "<Figure size 640x480 with 1 Axes>"
      ]
     },
     "metadata": {},
     "output_type": "display_data"
    }
   ],
   "source": [
    "\n",
    "\n",
    "#%%\n",
    "\n",
    "# exploratory data analysis\n",
    "\n",
    "fig, ax = plt.subplots()\n",
    "ax.scatter(df[\"age\"], df[\"strength\"])\n",
    "ax.set_xlabel(\"Age / days\")\n",
    "ax.set_ylabel(\"Strength / MPa\")\n",
    "plt.show()\n"
   ]
  },
  {
   "cell_type": "code",
   "execution_count": 35,
   "id": "9abc09e5",
   "metadata": {},
   "outputs": [
    {
     "name": "stdout",
     "output_type": "stream",
     "text": [
      "51\n"
     ]
    },
    {
     "name": "stderr",
     "output_type": "stream",
     "text": [
      "/tmp/ipykernel_8867/2819798622.py:19: FutureWarning: The default of observed=False is deprecated and will be changed to True in a future version of pandas. Pass observed=False to retain current behavior or observed=True to adopt the future default and silence this warning.\n",
      "  for name, group in df.groupby([\"wc_bin\"]):\n"
     ]
    },
    {
     "data": {
      "image/png": "[encoded data removed]",
      "text/plain": [
       "<Figure size 640x480 with 1 Axes>"
      ]
     },
     "metadata": {},
     "output_type": "display_data"
    },
    {
     "data": {
      "image/png": "[encoded data removed]",
      "text/plain": [
       "<Figure size 640x480 with 1 Axes>"
      ]
     },
     "metadata": {},
     "output_type": "display_data"
    },
    {
     "data": {
      "image/png": "[encoded data removed]",
      "text/plain": [
       "<Figure size 640x480 with 1 Axes>"
      ]
     },
     "metadata": {},
     "output_type": "display_data"
    },
    {
     "data": {
      "image/png": "[encoded data removed]",
      "text/plain": [
       "<Figure size 640x480 with 1 Axes>"
      ]
     },
     "metadata": {},
     "output_type": "display_data"
    },
    {
     "data": {
      "image/png": "[encoded data removed]",
      "text/plain": [
       "<Figure size 640x480 with 1 Axes>"
      ]
     },
     "metadata": {},
     "output_type": "display_data"
    },
    {
     "data": {
      "image/png": "[encoded data removed]",
      "text/plain": [
       "<Figure size 640x480 with 1 Axes>"
      ]
     },
     "metadata": {},
     "output_type": "display_data"
    }
   ],
   "source": [
    "\n",
    "#%%\n",
    "\n",
    "# groupby\n",
    "\n",
    "\n",
    "# wc contains too many unique values\n",
    "print(len(df.wc.unique()))\n",
    "\n",
    "# create bins for w/c values\n",
    "\n",
    "bins = [0, 0.34, 0.38, 0.42, 0.46, 0.50, 1]\n",
    "labels = [\"0.0-0.34\", \"0.34-0.38\", \"0.38-0.42\", \"0.42-0.46\", \"0.46-0.50\", \"0.50-1.0\"]\n",
    "\n",
    "df[\"wc_bin\"] = pd.cut(df[\"wc\"], bins=bins, labels = labels)\n",
    "\n",
    "#%%\n",
    "\n",
    "# loop over bins\n",
    "for name, group in df.groupby([\"wc_bin\"]):\n",
    "    fig, ax = plt.subplots()\n",
    "    ax.scatter(group[\"age\"], group[\"strength\"])\n",
    "    ax.set_title(name)\n",
    "    plt.show()\n",
    "    \n",
    "#%% \n"
   ]
  },
  {
   "cell_type": "code",
   "execution_count": 36,
   "id": "b82114ea",
   "metadata": {},
   "outputs": [
    {
     "name": "stderr",
     "output_type": "stream",
     "text": [
      "/tmp/ipykernel_8867/1737166998.py:4: FutureWarning: The default of observed=False is deprecated and will be changed to True in a future version of pandas. Pass observed=False to retain current behavior or observed=True to adopt the future default and silence this warning.\n",
      "  for (name, group), ax in zip(df.groupby(\"wc_bin\"), axs.flatten()):\n"
     ]
    },
    {
     "data": {
      "image/png": "[encoded data removed]",
      "text/plain": [
       "<Figure size 640x480 with 6 Axes>"
      ]
     },
     "metadata": {},
     "output_type": "display_data"
    }
   ],
   "source": [
    "\n",
    "# demonstrate subplots\n",
    "fig, axs = plt.subplots(2,3, layout=\"tight\")\n",
    "\n",
    "for (name, group), ax in zip(df.groupby(\"wc_bin\"), axs.flatten()):\n",
    "    ax.scatter(group[\"age\"], group[\"strength\"], s=4)\n",
    "    ax.set_title(name)\n",
    "    ax.set_ylim(0,90)\n",
    "plt.show()\n"
   ]
  },
  {
   "cell_type": "code",
   "execution_count": 37,
   "id": "0e51cfee",
   "metadata": {},
   "outputs": [
    {
     "data": {
      "image/png": "[encoded data removed]",
      "text/plain": [
       "<Figure size 640x480 with 1 Axes>"
      ]
     },
     "metadata": {},
     "output_type": "display_data"
    }
   ],
   "source": [
    "\n",
    "\n",
    "#%%\n",
    "\n",
    "fig, ax = plt.subplots()\n",
    "\n",
    "for name, group in df.query(\"age < 60 and age > 1\").groupby(\"age\"):\n",
    "    ax.scatter(group[\"wc\"], group[\"strength\"], alpha =0.2, label=name)\n",
    "plt.legend()\n",
    "plt.show()\n",
    "\n"
   ]
  },
  {
   "cell_type": "code",
   "execution_count": 48,
   "id": "fdc9594c",
   "metadata": {},
   "outputs": [
    {
     "name": "stderr",
     "output_type": "stream",
     "text": [
      "/tmp/ipykernel_8867/2910178056.py:16: FutureWarning: DataFrameGroupBy.apply operated on the grouping columns. This behavior is deprecated, and in a future version of pandas the grouping columns will be excluded from the operation. Either pass `include_groups=False` to exclude the groupings or explicitly select the grouping columns after groupby to silence this warning.\n",
      "  fits = df.query(\"age < 60 and age >1 and wc < 0.7 \").groupby(\"age\").apply(lambda t: fit_exponential(t))\n"
     ]
    },
    {
     "data": {
      "text/plain": [
       "[]"
      ]
     },
     "execution_count": 48,
     "metadata": {},
     "output_type": "execute_result"
    },
    {
     "data": {
      "image/png": "[encoded data removed]",
      "text/plain": [
       "<Figure size 640x480 with 1 Axes>"
      ]
     },
     "metadata": {},
     "output_type": "display_data"
    }
   ],
   "source": [
    "\n",
    "#%%\n",
    "\n",
    "from scipy.optimize import curve_fit\n",
    "\n",
    "# fit an exponential relation to the age groups of \n",
    "\n",
    "def exponential(x, a,b,c):\n",
    "    return c + a * np.exp(-b*x)\n",
    "\n",
    "def fit_exponential(df, xcol=\"wc\", ycol=\"strength\"):\n",
    "    f = exponential\n",
    "    popt, pcov = curve_fit(f, df[xcol], df[ycol], maxfev=10000)\n",
    "    out = {\"a\": popt[0], \"b\": popt[1], \"c\": popt[2]}\n",
    "    return pd.Series(out)\n",
    "\n",
    "fits = df.query(\"age < 60 and age >1 and wc < 0.7 \").groupby(\"age\").apply(lambda t: fit_exponential(t))\n",
    "\n",
    "x = np.linspace(0.22, df.wc.max(),100)\n",
    "\n",
    "fig, ax = plt.subplots()\n",
    "for index, row in fits.iterrows():\n",
    "    y = row[\"c\"] + row[\"a\"] * np.exp(-row[\"b\"]*x)\n",
    "    ax.plot(x,y)\n",
    "for name, group in df.query(\"age < 60 and age > 1 and wc < 0.7\").groupby(\"age\"):\n",
    "    ax.scatter(group[\"wc\"], group[\"strength\"], s=8, alpha =0.2, label=name)\n",
    "ax.set_xlim(0.22, 0.7)\n",
    "ax.set_ylim(0, 90)\n",
    "plt.legend()\n",
    "plt.plot()\n",
    "\n"
   ]
  },
  {
   "cell_type": "code",
   "execution_count": 47,
   "id": "a31113e1",
   "metadata": {},
   "outputs": [
    {
     "data": {
      "application/vnd.microsoft.datawrangler.viewer.v0+json": {
       "columns": [
        {
         "name": "age",
         "rawType": "int64",
         "type": "integer"
        },
        {
         "name": "a",
         "rawType": "float64",
         "type": "float"
        },
        {
         "name": "b",
         "rawType": "float64",
         "type": "float"
        },
        {
         "name": "c",
         "rawType": "float64",
         "type": "float"
        }
       ],
       "ref": "361e57b1-54f1-4b51-9367-552b4d51ac8e",
       "rows": [
        [
         "3",
         "136.7168006522119",
         "5.674427575066221",
         "6.0662107440441275"
        ],
        [
         "7",
         "-122767.89591465698",
         "-0.000738401899577116",
         "122836.12699383113"
        ],
        [
         "14",
         "153.16963083973732",
         "4.780429248373877",
         "12.58265817146953"
        ],
        [
         "28",
         "192.66730692013394",
         "4.924017105471404",
         "13.985833580476134"
        ],
        [
         "56",
         "-51237.14935339575",
         "-0.0023030969317437253",
         "51337.01787420081"
        ]
       ],
       "shape": {
        "columns": 3,
        "rows": 5
       }
      },
      "text/html": [
       "<div>\n",
       "<style scoped>\n",
       "    .dataframe tbody tr th:only-of-type {\n",
       "        vertical-align: middle;\n",
       "    }\n",
       "\n",
       "    .dataframe tbody tr th {\n",
       "        vertical-align: top;\n",
       "    }\n",
       "\n",
       "    .dataframe thead th {\n",
       "        text-align: right;\n",
       "    }\n",
       "</style>\n",
       "<table border=\"1\" class=\"dataframe\">\n",
       "  <thead>\n",
       "    <tr style=\"text-align: right;\">\n",
       "      <th></th>\n",
       "      <th>a</th>\n",
       "      <th>b</th>\n",
       "      <th>c</th>\n",
       "    </tr>\n",
       "    <tr>\n",
       "      <th>age</th>\n",
       "      <th></th>\n",
       "      <th></th>\n",
       "      <th></th>\n",
       "    </tr>\n",
       "  </thead>\n",
       "  <tbody>\n",
       "    <tr>\n",
       "      <th>3</th>\n",
       "      <td>136.716801</td>\n",
       "      <td>5.674428</td>\n",
       "      <td>6.066211</td>\n",
       "    </tr>\n",
       "    <tr>\n",
       "      <th>7</th>\n",
       "      <td>-122767.895915</td>\n",
       "      <td>-0.000738</td>\n",
       "      <td>122836.126994</td>\n",
       "    </tr>\n",
       "    <tr>\n",
       "      <th>14</th>\n",
       "      <td>153.169631</td>\n",
       "      <td>4.780429</td>\n",
       "      <td>12.582658</td>\n",
       "    </tr>\n",
       "    <tr>\n",
       "      <th>28</th>\n",
       "      <td>192.667307</td>\n",
       "      <td>4.924017</td>\n",
       "      <td>13.985834</td>\n",
       "    </tr>\n",
       "    <tr>\n",
       "      <th>56</th>\n",
       "      <td>-51237.149353</td>\n",
       "      <td>-0.002303</td>\n",
       "      <td>51337.017874</td>\n",
       "    </tr>\n",
       "  </tbody>\n",
       "</table>\n",
       "</div>"
      ],
      "text/plain": [
       "                 a         b              c\n",
       "age                                        \n",
       "3       136.716801  5.674428       6.066211\n",
       "7   -122767.895915 -0.000738  122836.126994\n",
       "14      153.169631  4.780429      12.582658\n",
       "28      192.667307  4.924017      13.985834\n",
       "56   -51237.149353 -0.002303   51337.017874"
      ]
     },
     "execution_count": 47,
     "metadata": {},
     "output_type": "execute_result"
    }
   ],
   "source": [
    "fits"
   ]
  }
 ],
 "metadata": {
  "kernelspec": {
   "display_name": "science-venv",
   "language": "python",
   "name": "python3"
  },
  "language_info": {
   "codemirror_mode": {
    "name": "ipython",
    "version": 3
   },
   "file_extension": ".py",
   "mimetype": "text/x-python",
   "name": "python",
   "nbconvert_exporter": "python",
   "pygments_lexer": "ipython3",
   "version": "3.10.12"
  }
 },
 "nbformat": 4,
 "nbformat_minor": 5
}
