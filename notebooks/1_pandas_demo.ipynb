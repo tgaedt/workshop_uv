{
 "cells": [
  {
   "cell_type": "markdown",
   "id": "a8936e4d",
   "metadata": {},
   "source": [
    "# Demonstration of some Pandas capabilities using a famous concrete dataset\n",
    "\n",
    "First, we are going to import some necessary libraries and to load the famous concrete dataset published by Yeh et al.\n",
    "To save typing, we have created a tinyurl `tunyurl.com/icccm1` which contains a link to a `xls` file containing the dataset."
   ]
  },
  {
   "cell_type": "code",
   "execution_count": 1,
   "id": "ff9bc883",
   "metadata": {},
   "outputs": [
    {
     "data": {
      "application/vnd.microsoft.datawrangler.viewer.v0+json": {
       "columns": [
        {
         "name": "index",
         "rawType": "int64",
         "type": "integer"
        },
        {
         "name": "Cement (component 1)(kg in a m^3 mixture)",
         "rawType": "float64",
         "type": "float"
        },
        {
         "name": "Blast Furnace Slag (component 2)(kg in a m^3 mixture)",
         "rawType": "float64",
         "type": "float"
        },
        {
         "name": "Fly Ash (component 3)(kg in a m^3 mixture)",
         "rawType": "float64",
         "type": "float"
        },
        {
         "name": "Water  (component 4)(kg in a m^3 mixture)",
         "rawType": "float64",
         "type": "float"
        },
        {
         "name": "Superplasticizer (component 5)(kg in a m^3 mixture)",
         "rawType": "float64",
         "type": "float"
        },
        {
         "name": "Coarse Aggregate  (component 6)(kg in a m^3 mixture)",
         "rawType": "float64",
         "type": "float"
        },
        {
         "name": "Fine Aggregate (component 7)(kg in a m^3 mixture)",
         "rawType": "float64",
         "type": "float"
        },
        {
         "name": "Age (day)",
         "rawType": "int64",
         "type": "integer"
        },
        {
         "name": "Concrete compressive strength(MPa, megapascals) ",
         "rawType": "float64",
         "type": "float"
        }
       ],
       "ref": "fe586768-eaac-4a8a-a3c4-562eff54c003",
       "rows": [
        [
         "0",
         "540.0",
         "0.0",
         "0.0",
         "162.0",
         "2.5",
         "1040.0",
         "676.0",
         "28",
         "79.98611076"
        ],
        [
         "1",
         "540.0",
         "0.0",
         "0.0",
         "162.0",
         "2.5",
         "1055.0",
         "676.0",
         "28",
         "61.887365759999994"
        ],
        [
         "2",
         "332.5",
         "142.5",
         "0.0",
         "228.0",
         "0.0",
         "932.0",
         "594.0",
         "270",
         "40.269535256000005"
        ]
       ],
       "shape": {
        "columns": 9,
        "rows": 3
       }
      },
      "text/html": [
       "<div>\n",
       "<style scoped>\n",
       "    .dataframe tbody tr th:only-of-type {\n",
       "        vertical-align: middle;\n",
       "    }\n",
       "\n",
       "    .dataframe tbody tr th {\n",
       "        vertical-align: top;\n",
       "    }\n",
       "\n",
       "    .dataframe thead th {\n",
       "        text-align: right;\n",
       "    }\n",
       "</style>\n",
       "<table border=\"1\" class=\"dataframe\">\n",
       "  <thead>\n",
       "    <tr style=\"text-align: right;\">\n",
       "      <th></th>\n",
       "      <th>Cement (component 1)(kg in a m^3 mixture)</th>\n",
       "      <th>Blast Furnace Slag (component 2)(kg in a m^3 mixture)</th>\n",
       "      <th>Fly Ash (component 3)(kg in a m^3 mixture)</th>\n",
       "      <th>Water  (component 4)(kg in a m^3 mixture)</th>\n",
       "      <th>Superplasticizer (component 5)(kg in a m^3 mixture)</th>\n",
       "      <th>Coarse Aggregate  (component 6)(kg in a m^3 mixture)</th>\n",
       "      <th>Fine Aggregate (component 7)(kg in a m^3 mixture)</th>\n",
       "      <th>Age (day)</th>\n",
       "      <th>Concrete compressive strength(MPa, megapascals)</th>\n",
       "    </tr>\n",
       "  </thead>\n",
       "  <tbody>\n",
       "    <tr>\n",
       "      <th>0</th>\n",
       "      <td>540.0</td>\n",
       "      <td>0.0</td>\n",
       "      <td>0.0</td>\n",
       "      <td>162.0</td>\n",
       "      <td>2.5</td>\n",
       "      <td>1040.0</td>\n",
       "      <td>676.0</td>\n",
       "      <td>28</td>\n",
       "      <td>79.986111</td>\n",
       "    </tr>\n",
       "    <tr>\n",
       "      <th>1</th>\n",
       "      <td>540.0</td>\n",
       "      <td>0.0</td>\n",
       "      <td>0.0</td>\n",
       "      <td>162.0</td>\n",
       "      <td>2.5</td>\n",
       "      <td>1055.0</td>\n",
       "      <td>676.0</td>\n",
       "      <td>28</td>\n",
       "      <td>61.887366</td>\n",
       "    </tr>\n",
       "    <tr>\n",
       "      <th>2</th>\n",
       "      <td>332.5</td>\n",
       "      <td>142.5</td>\n",
       "      <td>0.0</td>\n",
       "      <td>228.0</td>\n",
       "      <td>0.0</td>\n",
       "      <td>932.0</td>\n",
       "      <td>594.0</td>\n",
       "      <td>270</td>\n",
       "      <td>40.269535</td>\n",
       "    </tr>\n",
       "  </tbody>\n",
       "</table>\n",
       "</div>"
      ],
      "text/plain": [
       "   Cement (component 1)(kg in a m^3 mixture)  \\\n",
       "0                                      540.0   \n",
       "1                                      540.0   \n",
       "2                                      332.5   \n",
       "\n",
       "   Blast Furnace Slag (component 2)(kg in a m^3 mixture)  \\\n",
       "0                                                0.0       \n",
       "1                                                0.0       \n",
       "2                                              142.5       \n",
       "\n",
       "   Fly Ash (component 3)(kg in a m^3 mixture)  \\\n",
       "0                                         0.0   \n",
       "1                                         0.0   \n",
       "2                                         0.0   \n",
       "\n",
       "   Water  (component 4)(kg in a m^3 mixture)  \\\n",
       "0                                      162.0   \n",
       "1                                      162.0   \n",
       "2                                      228.0   \n",
       "\n",
       "   Superplasticizer (component 5)(kg in a m^3 mixture)  \\\n",
       "0                                                2.5     \n",
       "1                                                2.5     \n",
       "2                                                0.0     \n",
       "\n",
       "   Coarse Aggregate  (component 6)(kg in a m^3 mixture)  \\\n",
       "0                                             1040.0      \n",
       "1                                             1055.0      \n",
       "2                                              932.0      \n",
       "\n",
       "   Fine Aggregate (component 7)(kg in a m^3 mixture)  Age (day)  \\\n",
       "0                                              676.0         28   \n",
       "1                                              676.0         28   \n",
       "2                                              594.0        270   \n",
       "\n",
       "   Concrete compressive strength(MPa, megapascals)   \n",
       "0                                         79.986111  \n",
       "1                                         61.887366  \n",
       "2                                         40.269535  "
      ]
     },
     "execution_count": 1,
     "metadata": {},
     "output_type": "execute_result"
    }
   ],
   "source": [
    "import numpy as np\n",
    "import pandas as pd\n",
    "import matplotlib.pyplot as plt\n",
    "\n",
    "url = \"https://tinyurl.com/icccm1\"\n",
    "df = pd.read_excel(url) \n",
    "\n",
    "df.head(3)"
   ]
  },
  {
   "cell_type": "markdown",
   "id": "765a3f31",
   "metadata": {},
   "source": [
    "We note that the column names are very long and contain some special characers. Therefore, we will manually rename the columns."
   ]
  },
  {
   "cell_type": "code",
   "execution_count": 2,
   "id": "bbfb5c8d",
   "metadata": {},
   "outputs": [
    {
     "data": {
      "application/vnd.microsoft.datawrangler.viewer.v0+json": {
       "columns": [
        {
         "name": "index",
         "rawType": "int64",
         "type": "integer"
        },
        {
         "name": "cement",
         "rawType": "float64",
         "type": "float"
        },
        {
         "name": "bfs",
         "rawType": "float64",
         "type": "float"
        },
        {
         "name": "flyash",
         "rawType": "float64",
         "type": "float"
        },
        {
         "name": "water",
         "rawType": "float64",
         "type": "float"
        },
        {
         "name": "sp",
         "rawType": "float64",
         "type": "float"
        },
        {
         "name": "agg_coarse",
         "rawType": "float64",
         "type": "float"
        },
        {
         "name": "agg_fine",
         "rawType": "float64",
         "type": "float"
        },
        {
         "name": "age",
         "rawType": "int64",
         "type": "integer"
        },
        {
         "name": "strength",
         "rawType": "float64",
         "type": "float"
        }
       ],
       "ref": "56dfc3ed-2021-4b6d-b122-5b23401a5273",
       "rows": [
        [
         "0",
         "540.0",
         "0.0",
         "0.0",
         "162.0",
         "2.5",
         "1040.0",
         "676.0",
         "28",
         "79.98611076"
        ],
        [
         "1",
         "540.0",
         "0.0",
         "0.0",
         "162.0",
         "2.5",
         "1055.0",
         "676.0",
         "28",
         "61.887365759999994"
        ],
        [
         "2",
         "332.5",
         "142.5",
         "0.0",
         "228.0",
         "0.0",
         "932.0",
         "594.0",
         "270",
         "40.269535256000005"
        ]
       ],
       "shape": {
        "columns": 9,
        "rows": 3
       }
      },
      "text/html": [
       "<div>\n",
       "<style scoped>\n",
       "    .dataframe tbody tr th:only-of-type {\n",
       "        vertical-align: middle;\n",
       "    }\n",
       "\n",
       "    .dataframe tbody tr th {\n",
       "        vertical-align: top;\n",
       "    }\n",
       "\n",
       "    .dataframe thead th {\n",
       "        text-align: right;\n",
       "    }\n",
       "</style>\n",
       "<table border=\"1\" class=\"dataframe\">\n",
       "  <thead>\n",
       "    <tr style=\"text-align: right;\">\n",
       "      <th></th>\n",
       "      <th>cement</th>\n",
       "      <th>bfs</th>\n",
       "      <th>flyash</th>\n",
       "      <th>water</th>\n",
       "      <th>sp</th>\n",
       "      <th>agg_coarse</th>\n",
       "      <th>agg_fine</th>\n",
       "      <th>age</th>\n",
       "      <th>strength</th>\n",
       "    </tr>\n",
       "  </thead>\n",
       "  <tbody>\n",
       "    <tr>\n",
       "      <th>0</th>\n",
       "      <td>540.0</td>\n",
       "      <td>0.0</td>\n",
       "      <td>0.0</td>\n",
       "      <td>162.0</td>\n",
       "      <td>2.5</td>\n",
       "      <td>1040.0</td>\n",
       "      <td>676.0</td>\n",
       "      <td>28</td>\n",
       "      <td>79.986111</td>\n",
       "    </tr>\n",
       "    <tr>\n",
       "      <th>1</th>\n",
       "      <td>540.0</td>\n",
       "      <td>0.0</td>\n",
       "      <td>0.0</td>\n",
       "      <td>162.0</td>\n",
       "      <td>2.5</td>\n",
       "      <td>1055.0</td>\n",
       "      <td>676.0</td>\n",
       "      <td>28</td>\n",
       "      <td>61.887366</td>\n",
       "    </tr>\n",
       "    <tr>\n",
       "      <th>2</th>\n",
       "      <td>332.5</td>\n",
       "      <td>142.5</td>\n",
       "      <td>0.0</td>\n",
       "      <td>228.0</td>\n",
       "      <td>0.0</td>\n",
       "      <td>932.0</td>\n",
       "      <td>594.0</td>\n",
       "      <td>270</td>\n",
       "      <td>40.269535</td>\n",
       "    </tr>\n",
       "  </tbody>\n",
       "</table>\n",
       "</div>"
      ],
      "text/plain": [
       "   cement    bfs  flyash  water   sp  agg_coarse  agg_fine  age   strength\n",
       "0   540.0    0.0     0.0  162.0  2.5      1040.0     676.0   28  79.986111\n",
       "1   540.0    0.0     0.0  162.0  2.5      1055.0     676.0   28  61.887366\n",
       "2   332.5  142.5     0.0  228.0  0.0       932.0     594.0  270  40.269535"
      ]
     },
     "execution_count": 2,
     "metadata": {},
     "output_type": "execute_result"
    }
   ],
   "source": [
    "df.columns = [\"cement\", \"bfs\", \"flyash\", \"water\", \"sp\", \"agg_coarse\", \"agg_fine\", \"age\", \"strength\"]\n",
    "df.head(3)"
   ]
  },
  {
   "cell_type": "code",
   "execution_count": 63,
   "id": "21c0fd13",
   "metadata": {},
   "outputs": [
    {
     "data": {
      "text/plain": [
       "1030"
      ]
     },
     "execution_count": 63,
     "metadata": {},
     "output_type": "execute_result"
    }
   ],
   "source": [
    "# get the length of the dataframe\n",
    "df_length = len(df)\n",
    "df_length"
   ]
  },
  {
   "cell_type": "markdown",
   "id": "8c227312",
   "metadata": {},
   "source": [
    "## Different ways to select a column in Pandas\n",
    "We now demonstrate how to select a column with Pandas. Note that the type of a column is a Pandas Series."
   ]
  },
  {
   "cell_type": "code",
   "execution_count": 3,
   "id": "4cb4c2d6",
   "metadata": {},
   "outputs": [
    {
     "data": {
      "text/plain": [
       "pandas.core.series.Series"
      ]
     },
     "execution_count": 3,
     "metadata": {},
     "output_type": "execute_result"
    }
   ],
   "source": [
    "type(df.cement)"
   ]
  },
  {
   "cell_type": "markdown",
   "id": "9d5188bc",
   "metadata": {},
   "source": [
    "A specific column, here the column containing the amount of cement can be selected using a dot notation like this:"
   ]
  },
  {
   "cell_type": "code",
   "execution_count": 4,
   "id": "2416d987",
   "metadata": {},
   "outputs": [
    {
     "data": {
      "application/vnd.microsoft.datawrangler.viewer.v0+json": {
       "columns": [
        {
         "name": "index",
         "rawType": "int64",
         "type": "integer"
        },
        {
         "name": "cement",
         "rawType": "float64",
         "type": "float"
        }
       ],
       "ref": "7880d328-42a1-4038-9f34-060d9352398f",
       "rows": [
        [
         "0",
         "540.0"
        ],
        [
         "1",
         "540.0"
        ],
        [
         "2",
         "332.5"
        ],
        [
         "3",
         "332.5"
        ]
       ],
       "shape": {
        "columns": 1,
        "rows": 4
       }
      },
      "text/plain": [
       "0    540.0\n",
       "1    540.0\n",
       "2    332.5\n",
       "3    332.5\n",
       "Name: cement, dtype: float64"
      ]
     },
     "execution_count": 4,
     "metadata": {},
     "output_type": "execute_result"
    }
   ],
   "source": [
    "df.cement.head(4)"
   ]
  },
  {
   "cell_type": "markdown",
   "id": "472ee4ff",
   "metadata": {},
   "source": [
    "Alternatively a notation with square brackets is also possible:"
   ]
  },
  {
   "cell_type": "code",
   "execution_count": 5,
   "id": "b716a453",
   "metadata": {},
   "outputs": [
    {
     "data": {
      "application/vnd.microsoft.datawrangler.viewer.v0+json": {
       "columns": [
        {
         "name": "index",
         "rawType": "int64",
         "type": "integer"
        },
        {
         "name": "cement",
         "rawType": "float64",
         "type": "float"
        }
       ],
       "ref": "a7ed382f-c1ee-4c9f-a76b-9dca5125a9f4",
       "rows": [
        [
         "0",
         "540.0"
        ],
        [
         "1",
         "540.0"
        ],
        [
         "2",
         "332.5"
        ],
        [
         "3",
         "332.5"
        ]
       ],
       "shape": {
        "columns": 1,
        "rows": 4
       }
      },
      "text/plain": [
       "0    540.0\n",
       "1    540.0\n",
       "2    332.5\n",
       "3    332.5\n",
       "Name: cement, dtype: float64"
      ]
     },
     "execution_count": 5,
     "metadata": {},
     "output_type": "execute_result"
    }
   ],
   "source": [
    "df[\"cement\"].head(4)"
   ]
  },
  {
   "cell_type": "markdown",
   "id": "8003b4c3",
   "metadata": {},
   "source": [
    "It is also possible to use in indexed location based access. The `:` means that all rows are selected."
   ]
  },
  {
   "cell_type": "code",
   "execution_count": 6,
   "id": "ef455972",
   "metadata": {},
   "outputs": [
    {
     "data": {
      "application/vnd.microsoft.datawrangler.viewer.v0+json": {
       "columns": [
        {
         "name": "index",
         "rawType": "int64",
         "type": "integer"
        },
        {
         "name": "cement",
         "rawType": "float64",
         "type": "float"
        }
       ],
       "ref": "f9cf8878-10b4-4c28-8e22-957793d6d299",
       "rows": [
        [
         "0",
         "540.0"
        ],
        [
         "1",
         "540.0"
        ],
        [
         "2",
         "332.5"
        ],
        [
         "3",
         "332.5"
        ]
       ],
       "shape": {
        "columns": 1,
        "rows": 4
       }
      },
      "text/plain": [
       "0    540.0\n",
       "1    540.0\n",
       "2    332.5\n",
       "3    332.5\n",
       "Name: cement, dtype: float64"
      ]
     },
     "execution_count": 6,
     "metadata": {},
     "output_type": "execute_result"
    }
   ],
   "source": [
    "df.iloc[:,0].head(4)"
   ]
  },
  {
   "cell_type": "markdown",
   "id": "8ad0078b",
   "metadata": {},
   "source": [
    "A name based selection is also possible"
   ]
  },
  {
   "cell_type": "code",
   "execution_count": 7,
   "id": "c8a2ab6a",
   "metadata": {},
   "outputs": [],
   "source": [
    "col4 = df.loc[:,\"cement\"]"
   ]
  },
  {
   "cell_type": "markdown",
   "id": "e07680d4",
   "metadata": {},
   "source": [
    "## Create a new column - calculate the w/c value\n",
    "\n",
    "A new column can be created with a simple assignment like `df[\"new_col_name\"]`. \n",
    "Alternatively the methods `assign()` or `insert()` can be used."
   ]
  },
  {
   "cell_type": "code",
   "execution_count": 8,
   "id": "6111e931",
   "metadata": {},
   "outputs": [
    {
     "data": {
      "application/vnd.microsoft.datawrangler.viewer.v0+json": {
       "columns": [
        {
         "name": "index",
         "rawType": "int64",
         "type": "integer"
        },
        {
         "name": "cement",
         "rawType": "float64",
         "type": "float"
        },
        {
         "name": "bfs",
         "rawType": "float64",
         "type": "float"
        },
        {
         "name": "flyash",
         "rawType": "float64",
         "type": "float"
        },
        {
         "name": "water",
         "rawType": "float64",
         "type": "float"
        },
        {
         "name": "sp",
         "rawType": "float64",
         "type": "float"
        },
        {
         "name": "agg_coarse",
         "rawType": "float64",
         "type": "float"
        },
        {
         "name": "agg_fine",
         "rawType": "float64",
         "type": "float"
        },
        {
         "name": "age",
         "rawType": "int64",
         "type": "integer"
        },
        {
         "name": "strength",
         "rawType": "float64",
         "type": "float"
        },
        {
         "name": "wc",
         "rawType": "float64",
         "type": "float"
        }
       ],
       "ref": "6d65fdd1-09d1-4218-abd7-88d0c8d292c5",
       "rows": [
        [
         "0",
         "540.0",
         "0.0",
         "0.0",
         "162.0",
         "2.5",
         "1040.0",
         "676.0",
         "28",
         "79.98611076",
         "0.3"
        ],
        [
         "1",
         "540.0",
         "0.0",
         "0.0",
         "162.0",
         "2.5",
         "1055.0",
         "676.0",
         "28",
         "61.887365759999994",
         "0.3"
        ],
        [
         "2",
         "332.5",
         "142.5",
         "0.0",
         "228.0",
         "0.0",
         "932.0",
         "594.0",
         "270",
         "40.269535256000005",
         "0.48"
        ],
        [
         "3",
         "332.5",
         "142.5",
         "0.0",
         "228.0",
         "0.0",
         "932.0",
         "594.0",
         "365",
         "41.052779992",
         "0.48"
        ]
       ],
       "shape": {
        "columns": 10,
        "rows": 4
       }
      },
      "text/html": [
       "<div>\n",
       "<style scoped>\n",
       "    .dataframe tbody tr th:only-of-type {\n",
       "        vertical-align: middle;\n",
       "    }\n",
       "\n",
       "    .dataframe tbody tr th {\n",
       "        vertical-align: top;\n",
       "    }\n",
       "\n",
       "    .dataframe thead th {\n",
       "        text-align: right;\n",
       "    }\n",
       "</style>\n",
       "<table border=\"1\" class=\"dataframe\">\n",
       "  <thead>\n",
       "    <tr style=\"text-align: right;\">\n",
       "      <th></th>\n",
       "      <th>cement</th>\n",
       "      <th>bfs</th>\n",
       "      <th>flyash</th>\n",
       "      <th>water</th>\n",
       "      <th>sp</th>\n",
       "      <th>agg_coarse</th>\n",
       "      <th>agg_fine</th>\n",
       "      <th>age</th>\n",
       "      <th>strength</th>\n",
       "      <th>wc</th>\n",
       "    </tr>\n",
       "  </thead>\n",
       "  <tbody>\n",
       "    <tr>\n",
       "      <th>0</th>\n",
       "      <td>540.0</td>\n",
       "      <td>0.0</td>\n",
       "      <td>0.0</td>\n",
       "      <td>162.0</td>\n",
       "      <td>2.5</td>\n",
       "      <td>1040.0</td>\n",
       "      <td>676.0</td>\n",
       "      <td>28</td>\n",
       "      <td>79.986111</td>\n",
       "      <td>0.30</td>\n",
       "    </tr>\n",
       "    <tr>\n",
       "      <th>1</th>\n",
       "      <td>540.0</td>\n",
       "      <td>0.0</td>\n",
       "      <td>0.0</td>\n",
       "      <td>162.0</td>\n",
       "      <td>2.5</td>\n",
       "      <td>1055.0</td>\n",
       "      <td>676.0</td>\n",
       "      <td>28</td>\n",
       "      <td>61.887366</td>\n",
       "      <td>0.30</td>\n",
       "    </tr>\n",
       "    <tr>\n",
       "      <th>2</th>\n",
       "      <td>332.5</td>\n",
       "      <td>142.5</td>\n",
       "      <td>0.0</td>\n",
       "      <td>228.0</td>\n",
       "      <td>0.0</td>\n",
       "      <td>932.0</td>\n",
       "      <td>594.0</td>\n",
       "      <td>270</td>\n",
       "      <td>40.269535</td>\n",
       "      <td>0.48</td>\n",
       "    </tr>\n",
       "    <tr>\n",
       "      <th>3</th>\n",
       "      <td>332.5</td>\n",
       "      <td>142.5</td>\n",
       "      <td>0.0</td>\n",
       "      <td>228.0</td>\n",
       "      <td>0.0</td>\n",
       "      <td>932.0</td>\n",
       "      <td>594.0</td>\n",
       "      <td>365</td>\n",
       "      <td>41.052780</td>\n",
       "      <td>0.48</td>\n",
       "    </tr>\n",
       "  </tbody>\n",
       "</table>\n",
       "</div>"
      ],
      "text/plain": [
       "   cement    bfs  flyash  water   sp  agg_coarse  agg_fine  age   strength  \\\n",
       "0   540.0    0.0     0.0  162.0  2.5      1040.0     676.0   28  79.986111   \n",
       "1   540.0    0.0     0.0  162.0  2.5      1055.0     676.0   28  61.887366   \n",
       "2   332.5  142.5     0.0  228.0  0.0       932.0     594.0  270  40.269535   \n",
       "3   332.5  142.5     0.0  228.0  0.0       932.0     594.0  365  41.052780   \n",
       "\n",
       "     wc  \n",
       "0  0.30  \n",
       "1  0.30  \n",
       "2  0.48  \n",
       "3  0.48  "
      ]
     },
     "execution_count": 8,
     "metadata": {},
     "output_type": "execute_result"
    }
   ],
   "source": [
    "df[\"wc\"] = df[\"water\"] / (df[\"cement\"] + df[\"bfs\"] + df[\"flyash\"])\n",
    "df.head(4)"
   ]
  },
  {
   "cell_type": "markdown",
   "id": "c4cec429",
   "metadata": {},
   "source": [
    "A column can be deleted with the method `drop()`, using the parameter `inplace = True` enables to leave out the assignment `df = df.drop()`."
   ]
  },
  {
   "cell_type": "code",
   "execution_count": 9,
   "id": "2194bd08",
   "metadata": {},
   "outputs": [
    {
     "data": {
      "application/vnd.microsoft.datawrangler.viewer.v0+json": {
       "columns": [
        {
         "name": "index",
         "rawType": "int64",
         "type": "integer"
        },
        {
         "name": "cement",
         "rawType": "float64",
         "type": "float"
        },
        {
         "name": "bfs",
         "rawType": "float64",
         "type": "float"
        },
        {
         "name": "flyash",
         "rawType": "float64",
         "type": "float"
        },
        {
         "name": "water",
         "rawType": "float64",
         "type": "float"
        },
        {
         "name": "sp",
         "rawType": "float64",
         "type": "float"
        },
        {
         "name": "agg_coarse",
         "rawType": "float64",
         "type": "float"
        },
        {
         "name": "agg_fine",
         "rawType": "float64",
         "type": "float"
        },
        {
         "name": "age",
         "rawType": "int64",
         "type": "integer"
        },
        {
         "name": "strength",
         "rawType": "float64",
         "type": "float"
        }
       ],
       "ref": "59eb3144-ee7c-476e-ae99-0792998ac9ae",
       "rows": [
        [
         "0",
         "540.0",
         "0.0",
         "0.0",
         "162.0",
         "2.5",
         "1040.0",
         "676.0",
         "28",
         "79.98611076"
        ],
        [
         "1",
         "540.0",
         "0.0",
         "0.0",
         "162.0",
         "2.5",
         "1055.0",
         "676.0",
         "28",
         "61.887365759999994"
        ],
        [
         "2",
         "332.5",
         "142.5",
         "0.0",
         "228.0",
         "0.0",
         "932.0",
         "594.0",
         "270",
         "40.269535256000005"
        ]
       ],
       "shape": {
        "columns": 9,
        "rows": 3
       }
      },
      "text/html": [
       "<div>\n",
       "<style scoped>\n",
       "    .dataframe tbody tr th:only-of-type {\n",
       "        vertical-align: middle;\n",
       "    }\n",
       "\n",
       "    .dataframe tbody tr th {\n",
       "        vertical-align: top;\n",
       "    }\n",
       "\n",
       "    .dataframe thead th {\n",
       "        text-align: right;\n",
       "    }\n",
       "</style>\n",
       "<table border=\"1\" class=\"dataframe\">\n",
       "  <thead>\n",
       "    <tr style=\"text-align: right;\">\n",
       "      <th></th>\n",
       "      <th>cement</th>\n",
       "      <th>bfs</th>\n",
       "      <th>flyash</th>\n",
       "      <th>water</th>\n",
       "      <th>sp</th>\n",
       "      <th>agg_coarse</th>\n",
       "      <th>agg_fine</th>\n",
       "      <th>age</th>\n",
       "      <th>strength</th>\n",
       "    </tr>\n",
       "  </thead>\n",
       "  <tbody>\n",
       "    <tr>\n",
       "      <th>0</th>\n",
       "      <td>540.0</td>\n",
       "      <td>0.0</td>\n",
       "      <td>0.0</td>\n",
       "      <td>162.0</td>\n",
       "      <td>2.5</td>\n",
       "      <td>1040.0</td>\n",
       "      <td>676.0</td>\n",
       "      <td>28</td>\n",
       "      <td>79.986111</td>\n",
       "    </tr>\n",
       "    <tr>\n",
       "      <th>1</th>\n",
       "      <td>540.0</td>\n",
       "      <td>0.0</td>\n",
       "      <td>0.0</td>\n",
       "      <td>162.0</td>\n",
       "      <td>2.5</td>\n",
       "      <td>1055.0</td>\n",
       "      <td>676.0</td>\n",
       "      <td>28</td>\n",
       "      <td>61.887366</td>\n",
       "    </tr>\n",
       "    <tr>\n",
       "      <th>2</th>\n",
       "      <td>332.5</td>\n",
       "      <td>142.5</td>\n",
       "      <td>0.0</td>\n",
       "      <td>228.0</td>\n",
       "      <td>0.0</td>\n",
       "      <td>932.0</td>\n",
       "      <td>594.0</td>\n",
       "      <td>270</td>\n",
       "      <td>40.269535</td>\n",
       "    </tr>\n",
       "  </tbody>\n",
       "</table>\n",
       "</div>"
      ],
      "text/plain": [
       "   cement    bfs  flyash  water   sp  agg_coarse  agg_fine  age   strength\n",
       "0   540.0    0.0     0.0  162.0  2.5      1040.0     676.0   28  79.986111\n",
       "1   540.0    0.0     0.0  162.0  2.5      1055.0     676.0   28  61.887366\n",
       "2   332.5  142.5     0.0  228.0  0.0       932.0     594.0  270  40.269535"
      ]
     },
     "execution_count": 9,
     "metadata": {},
     "output_type": "execute_result"
    }
   ],
   "source": [
    "df.drop(columns=[\"wc\"], inplace=True)\n",
    "df.head(3)"
   ]
  },
  {
   "cell_type": "markdown",
   "id": "2e23b639",
   "metadata": {},
   "source": [
    "Next, we show the assign and insert methods."
   ]
  },
  {
   "cell_type": "code",
   "execution_count": 10,
   "id": "5ce21d09",
   "metadata": {},
   "outputs": [
    {
     "data": {
      "application/vnd.microsoft.datawrangler.viewer.v0+json": {
       "columns": [
        {
         "name": "index",
         "rawType": "int64",
         "type": "integer"
        },
        {
         "name": "cement",
         "rawType": "float64",
         "type": "float"
        },
        {
         "name": "bfs",
         "rawType": "float64",
         "type": "float"
        },
        {
         "name": "flyash",
         "rawType": "float64",
         "type": "float"
        },
        {
         "name": "water",
         "rawType": "float64",
         "type": "float"
        },
        {
         "name": "sp",
         "rawType": "float64",
         "type": "float"
        },
        {
         "name": "agg_coarse",
         "rawType": "float64",
         "type": "float"
        },
        {
         "name": "agg_fine",
         "rawType": "float64",
         "type": "float"
        },
        {
         "name": "age",
         "rawType": "int64",
         "type": "integer"
        },
        {
         "name": "strength",
         "rawType": "float64",
         "type": "float"
        },
        {
         "name": "wc",
         "rawType": "float64",
         "type": "float"
        }
       ],
       "ref": "d2eb2e99-525b-4643-b99b-5f123ea75ebf",
       "rows": [
        [
         "0",
         "540.0",
         "0.0",
         "0.0",
         "162.0",
         "2.5",
         "1040.0",
         "676.0",
         "28",
         "79.98611076",
         "0.3"
        ],
        [
         "1",
         "540.0",
         "0.0",
         "0.0",
         "162.0",
         "2.5",
         "1055.0",
         "676.0",
         "28",
         "61.887365759999994",
         "0.3"
        ],
        [
         "2",
         "332.5",
         "142.5",
         "0.0",
         "228.0",
         "0.0",
         "932.0",
         "594.0",
         "270",
         "40.269535256000005",
         "0.48"
        ]
       ],
       "shape": {
        "columns": 10,
        "rows": 3
       }
      },
      "text/html": [
       "<div>\n",
       "<style scoped>\n",
       "    .dataframe tbody tr th:only-of-type {\n",
       "        vertical-align: middle;\n",
       "    }\n",
       "\n",
       "    .dataframe tbody tr th {\n",
       "        vertical-align: top;\n",
       "    }\n",
       "\n",
       "    .dataframe thead th {\n",
       "        text-align: right;\n",
       "    }\n",
       "</style>\n",
       "<table border=\"1\" class=\"dataframe\">\n",
       "  <thead>\n",
       "    <tr style=\"text-align: right;\">\n",
       "      <th></th>\n",
       "      <th>cement</th>\n",
       "      <th>bfs</th>\n",
       "      <th>flyash</th>\n",
       "      <th>water</th>\n",
       "      <th>sp</th>\n",
       "      <th>agg_coarse</th>\n",
       "      <th>agg_fine</th>\n",
       "      <th>age</th>\n",
       "      <th>strength</th>\n",
       "      <th>wc</th>\n",
       "    </tr>\n",
       "  </thead>\n",
       "  <tbody>\n",
       "    <tr>\n",
       "      <th>0</th>\n",
       "      <td>540.0</td>\n",
       "      <td>0.0</td>\n",
       "      <td>0.0</td>\n",
       "      <td>162.0</td>\n",
       "      <td>2.5</td>\n",
       "      <td>1040.0</td>\n",
       "      <td>676.0</td>\n",
       "      <td>28</td>\n",
       "      <td>79.986111</td>\n",
       "      <td>0.30</td>\n",
       "    </tr>\n",
       "    <tr>\n",
       "      <th>1</th>\n",
       "      <td>540.0</td>\n",
       "      <td>0.0</td>\n",
       "      <td>0.0</td>\n",
       "      <td>162.0</td>\n",
       "      <td>2.5</td>\n",
       "      <td>1055.0</td>\n",
       "      <td>676.0</td>\n",
       "      <td>28</td>\n",
       "      <td>61.887366</td>\n",
       "      <td>0.30</td>\n",
       "    </tr>\n",
       "    <tr>\n",
       "      <th>2</th>\n",
       "      <td>332.5</td>\n",
       "      <td>142.5</td>\n",
       "      <td>0.0</td>\n",
       "      <td>228.0</td>\n",
       "      <td>0.0</td>\n",
       "      <td>932.0</td>\n",
       "      <td>594.0</td>\n",
       "      <td>270</td>\n",
       "      <td>40.269535</td>\n",
       "      <td>0.48</td>\n",
       "    </tr>\n",
       "  </tbody>\n",
       "</table>\n",
       "</div>"
      ],
      "text/plain": [
       "   cement    bfs  flyash  water   sp  agg_coarse  agg_fine  age   strength  \\\n",
       "0   540.0    0.0     0.0  162.0  2.5      1040.0     676.0   28  79.986111   \n",
       "1   540.0    0.0     0.0  162.0  2.5      1055.0     676.0   28  61.887366   \n",
       "2   332.5  142.5     0.0  228.0  0.0       932.0     594.0  270  40.269535   \n",
       "\n",
       "     wc  \n",
       "0  0.30  \n",
       "1  0.30  \n",
       "2  0.48  "
      ]
     },
     "execution_count": 10,
     "metadata": {},
     "output_type": "execute_result"
    }
   ],
   "source": [
    "df = df.assign(wc = df[\"water\"] / (df[\"cement\"] + df[\"bfs\"] + df[\"flyash\"]))\n",
    "df.head(3)"
   ]
  },
  {
   "cell_type": "code",
   "execution_count": 11,
   "id": "4ab71fae",
   "metadata": {},
   "outputs": [
    {
     "data": {
      "application/vnd.microsoft.datawrangler.viewer.v0+json": {
       "columns": [
        {
         "name": "index",
         "rawType": "int64",
         "type": "integer"
        },
        {
         "name": "cement",
         "rawType": "float64",
         "type": "float"
        },
        {
         "name": "bfs",
         "rawType": "float64",
         "type": "float"
        },
        {
         "name": "flyash",
         "rawType": "float64",
         "type": "float"
        },
        {
         "name": "water",
         "rawType": "float64",
         "type": "float"
        },
        {
         "name": "wc",
         "rawType": "float64",
         "type": "float"
        },
        {
         "name": "sp",
         "rawType": "float64",
         "type": "float"
        },
        {
         "name": "agg_coarse",
         "rawType": "float64",
         "type": "float"
        },
        {
         "name": "agg_fine",
         "rawType": "float64",
         "type": "float"
        },
        {
         "name": "age",
         "rawType": "int64",
         "type": "integer"
        },
        {
         "name": "strength",
         "rawType": "float64",
         "type": "float"
        }
       ],
       "ref": "ad5679c4-2f9b-42ac-b14f-92b513d3ecea",
       "rows": [
        [
         "2",
         "332.5",
         "142.5",
         "0.0",
         "228.0",
         "0.48",
         "0.0",
         "932.0",
         "594.0",
         "270",
         "40.269535256000005"
        ],
        [
         "3",
         "332.5",
         "142.5",
         "0.0",
         "228.0",
         "0.48",
         "0.0",
         "932.0",
         "594.0",
         "365",
         "41.052779992"
        ],
        [
         "4",
         "198.6",
         "132.4",
         "0.0",
         "192.0",
         "0.5800604229607251",
         "0.0",
         "978.4",
         "825.5",
         "360",
         "44.296075096"
        ]
       ],
       "shape": {
        "columns": 10,
        "rows": 3
       }
      },
      "text/html": [
       "<div>\n",
       "<style scoped>\n",
       "    .dataframe tbody tr th:only-of-type {\n",
       "        vertical-align: middle;\n",
       "    }\n",
       "\n",
       "    .dataframe tbody tr th {\n",
       "        vertical-align: top;\n",
       "    }\n",
       "\n",
       "    .dataframe thead th {\n",
       "        text-align: right;\n",
       "    }\n",
       "</style>\n",
       "<table border=\"1\" class=\"dataframe\">\n",
       "  <thead>\n",
       "    <tr style=\"text-align: right;\">\n",
       "      <th></th>\n",
       "      <th>cement</th>\n",
       "      <th>bfs</th>\n",
       "      <th>flyash</th>\n",
       "      <th>water</th>\n",
       "      <th>wc</th>\n",
       "      <th>sp</th>\n",
       "      <th>agg_coarse</th>\n",
       "      <th>agg_fine</th>\n",
       "      <th>age</th>\n",
       "      <th>strength</th>\n",
       "    </tr>\n",
       "  </thead>\n",
       "  <tbody>\n",
       "    <tr>\n",
       "      <th>2</th>\n",
       "      <td>332.5</td>\n",
       "      <td>142.5</td>\n",
       "      <td>0.0</td>\n",
       "      <td>228.0</td>\n",
       "      <td>0.48000</td>\n",
       "      <td>0.0</td>\n",
       "      <td>932.0</td>\n",
       "      <td>594.0</td>\n",
       "      <td>270</td>\n",
       "      <td>40.269535</td>\n",
       "    </tr>\n",
       "    <tr>\n",
       "      <th>3</th>\n",
       "      <td>332.5</td>\n",
       "      <td>142.5</td>\n",
       "      <td>0.0</td>\n",
       "      <td>228.0</td>\n",
       "      <td>0.48000</td>\n",
       "      <td>0.0</td>\n",
       "      <td>932.0</td>\n",
       "      <td>594.0</td>\n",
       "      <td>365</td>\n",
       "      <td>41.052780</td>\n",
       "    </tr>\n",
       "    <tr>\n",
       "      <th>4</th>\n",
       "      <td>198.6</td>\n",
       "      <td>132.4</td>\n",
       "      <td>0.0</td>\n",
       "      <td>192.0</td>\n",
       "      <td>0.58006</td>\n",
       "      <td>0.0</td>\n",
       "      <td>978.4</td>\n",
       "      <td>825.5</td>\n",
       "      <td>360</td>\n",
       "      <td>44.296075</td>\n",
       "    </tr>\n",
       "  </tbody>\n",
       "</table>\n",
       "</div>"
      ],
      "text/plain": [
       "   cement    bfs  flyash  water       wc   sp  agg_coarse  agg_fine  age  \\\n",
       "2   332.5  142.5     0.0  228.0  0.48000  0.0       932.0     594.0  270   \n",
       "3   332.5  142.5     0.0  228.0  0.48000  0.0       932.0     594.0  365   \n",
       "4   198.6  132.4     0.0  192.0  0.58006  0.0       978.4     825.5  360   \n",
       "\n",
       "    strength  \n",
       "2  40.269535  \n",
       "3  41.052780  \n",
       "4  44.296075  "
      ]
     },
     "execution_count": 11,
     "metadata": {},
     "output_type": "execute_result"
    }
   ],
   "source": [
    "# delete the column again\n",
    "df.drop(columns=[\"wc\"], inplace=True)\n",
    "\n",
    "# the insert method allows to specify the column index\n",
    "df.insert(4, \"wc\", df[\"water\"] / (df[\"cement\"] + df[\"bfs\"] + df[\"flyash\"]))\n",
    "df.iloc[2:5]"
   ]
  },
  {
   "cell_type": "markdown",
   "id": "1209a950",
   "metadata": {},
   "source": [
    "It is probably a good idea to round the water-to-cement ratio after two decimal positions."
   ]
  },
  {
   "cell_type": "code",
   "execution_count": 12,
   "id": "0abe3d15",
   "metadata": {},
   "outputs": [
    {
     "data": {
      "application/vnd.microsoft.datawrangler.viewer.v0+json": {
       "columns": [
        {
         "name": "index",
         "rawType": "int64",
         "type": "integer"
        },
        {
         "name": "cement",
         "rawType": "float64",
         "type": "float"
        },
        {
         "name": "bfs",
         "rawType": "float64",
         "type": "float"
        },
        {
         "name": "flyash",
         "rawType": "float64",
         "type": "float"
        },
        {
         "name": "water",
         "rawType": "float64",
         "type": "float"
        },
        {
         "name": "wc",
         "rawType": "float64",
         "type": "float"
        },
        {
         "name": "sp",
         "rawType": "float64",
         "type": "float"
        },
        {
         "name": "agg_coarse",
         "rawType": "float64",
         "type": "float"
        },
        {
         "name": "agg_fine",
         "rawType": "float64",
         "type": "float"
        },
        {
         "name": "age",
         "rawType": "int64",
         "type": "integer"
        },
        {
         "name": "strength",
         "rawType": "float64",
         "type": "float"
        }
       ],
       "ref": "287f66c3-2452-44d1-99a8-df01bc6e9b27",
       "rows": [
        [
         "2",
         "332.5",
         "142.5",
         "0.0",
         "228.0",
         "0.48",
         "0.0",
         "932.0",
         "594.0",
         "270",
         "40.269535256000005"
        ],
        [
         "3",
         "332.5",
         "142.5",
         "0.0",
         "228.0",
         "0.48",
         "0.0",
         "932.0",
         "594.0",
         "365",
         "41.052779992"
        ],
        [
         "4",
         "198.6",
         "132.4",
         "0.0",
         "192.0",
         "0.58",
         "0.0",
         "978.4",
         "825.5",
         "360",
         "44.296075096"
        ]
       ],
       "shape": {
        "columns": 10,
        "rows": 3
       }
      },
      "text/html": [
       "<div>\n",
       "<style scoped>\n",
       "    .dataframe tbody tr th:only-of-type {\n",
       "        vertical-align: middle;\n",
       "    }\n",
       "\n",
       "    .dataframe tbody tr th {\n",
       "        vertical-align: top;\n",
       "    }\n",
       "\n",
       "    .dataframe thead th {\n",
       "        text-align: right;\n",
       "    }\n",
       "</style>\n",
       "<table border=\"1\" class=\"dataframe\">\n",
       "  <thead>\n",
       "    <tr style=\"text-align: right;\">\n",
       "      <th></th>\n",
       "      <th>cement</th>\n",
       "      <th>bfs</th>\n",
       "      <th>flyash</th>\n",
       "      <th>water</th>\n",
       "      <th>wc</th>\n",
       "      <th>sp</th>\n",
       "      <th>agg_coarse</th>\n",
       "      <th>agg_fine</th>\n",
       "      <th>age</th>\n",
       "      <th>strength</th>\n",
       "    </tr>\n",
       "  </thead>\n",
       "  <tbody>\n",
       "    <tr>\n",
       "      <th>2</th>\n",
       "      <td>332.5</td>\n",
       "      <td>142.5</td>\n",
       "      <td>0.0</td>\n",
       "      <td>228.0</td>\n",
       "      <td>0.48</td>\n",
       "      <td>0.0</td>\n",
       "      <td>932.0</td>\n",
       "      <td>594.0</td>\n",
       "      <td>270</td>\n",
       "      <td>40.269535</td>\n",
       "    </tr>\n",
       "    <tr>\n",
       "      <th>3</th>\n",
       "      <td>332.5</td>\n",
       "      <td>142.5</td>\n",
       "      <td>0.0</td>\n",
       "      <td>228.0</td>\n",
       "      <td>0.48</td>\n",
       "      <td>0.0</td>\n",
       "      <td>932.0</td>\n",
       "      <td>594.0</td>\n",
       "      <td>365</td>\n",
       "      <td>41.052780</td>\n",
       "    </tr>\n",
       "    <tr>\n",
       "      <th>4</th>\n",
       "      <td>198.6</td>\n",
       "      <td>132.4</td>\n",
       "      <td>0.0</td>\n",
       "      <td>192.0</td>\n",
       "      <td>0.58</td>\n",
       "      <td>0.0</td>\n",
       "      <td>978.4</td>\n",
       "      <td>825.5</td>\n",
       "      <td>360</td>\n",
       "      <td>44.296075</td>\n",
       "    </tr>\n",
       "  </tbody>\n",
       "</table>\n",
       "</div>"
      ],
      "text/plain": [
       "   cement    bfs  flyash  water    wc   sp  agg_coarse  agg_fine  age  \\\n",
       "2   332.5  142.5     0.0  228.0  0.48  0.0       932.0     594.0  270   \n",
       "3   332.5  142.5     0.0  228.0  0.48  0.0       932.0     594.0  365   \n",
       "4   198.6  132.4     0.0  192.0  0.58  0.0       978.4     825.5  360   \n",
       "\n",
       "    strength  \n",
       "2  40.269535  \n",
       "3  41.052780  \n",
       "4  44.296075  "
      ]
     },
     "execution_count": 12,
     "metadata": {},
     "output_type": "execute_result"
    }
   ],
   "source": [
    "# better to round off after the second decimal\n",
    "df[\"wc\"] = df[\"wc\"].round(2)\n",
    "df.iloc[2:5]"
   ]
  },
  {
   "cell_type": "markdown",
   "id": "befb7c3f",
   "metadata": {},
   "source": [
    "Currently, the dataframe only has float and int as datatypes."
   ]
  },
  {
   "cell_type": "code",
   "execution_count": 13,
   "id": "ce7a69da",
   "metadata": {},
   "outputs": [
    {
     "data": {
      "application/vnd.microsoft.datawrangler.viewer.v0+json": {
       "columns": [
        {
         "name": "index",
         "rawType": "object",
         "type": "string"
        },
        {
         "name": "0",
         "rawType": "object",
         "type": "unknown"
        }
       ],
       "ref": "c9832cb4-628d-40ca-9c69-340defe60f33",
       "rows": [
        [
         "cement",
         "float64"
        ],
        [
         "bfs",
         "float64"
        ],
        [
         "flyash",
         "float64"
        ],
        [
         "water",
         "float64"
        ],
        [
         "wc",
         "float64"
        ],
        [
         "sp",
         "float64"
        ],
        [
         "agg_coarse",
         "float64"
        ],
        [
         "agg_fine",
         "float64"
        ],
        [
         "age",
         "int64"
        ],
        [
         "strength",
         "float64"
        ]
       ],
       "shape": {
        "columns": 1,
        "rows": 10
       }
      },
      "text/plain": [
       "cement        float64\n",
       "bfs           float64\n",
       "flyash        float64\n",
       "water         float64\n",
       "wc            float64\n",
       "sp            float64\n",
       "agg_coarse    float64\n",
       "agg_fine      float64\n",
       "age             int64\n",
       "strength      float64\n",
       "dtype: object"
      ]
     },
     "execution_count": 13,
     "metadata": {},
     "output_type": "execute_result"
    }
   ],
   "source": [
    "df.dtypes"
   ]
  },
  {
   "cell_type": "markdown",
   "id": "711f5ba3",
   "metadata": {},
   "source": [
    "We are now going to create a new column which contains entries of type `boolean`. Therefore, we are going to chose an arbitrary criterium to check. Here, we are going to evaluate whether the w/c value is higher than 0.42. We will name the column `wc_high`. "
   ]
  },
  {
   "cell_type": "code",
   "execution_count": 14,
   "id": "b0428d89",
   "metadata": {},
   "outputs": [
    {
     "data": {
      "application/vnd.microsoft.datawrangler.viewer.v0+json": {
       "columns": [
        {
         "name": "index",
         "rawType": "int64",
         "type": "integer"
        },
        {
         "name": "cement",
         "rawType": "float64",
         "type": "float"
        },
        {
         "name": "bfs",
         "rawType": "float64",
         "type": "float"
        },
        {
         "name": "flyash",
         "rawType": "float64",
         "type": "float"
        },
        {
         "name": "water",
         "rawType": "float64",
         "type": "float"
        },
        {
         "name": "wc",
         "rawType": "float64",
         "type": "float"
        },
        {
         "name": "wc_high",
         "rawType": "bool",
         "type": "boolean"
        },
        {
         "name": "sp",
         "rawType": "float64",
         "type": "float"
        },
        {
         "name": "agg_coarse",
         "rawType": "float64",
         "type": "float"
        },
        {
         "name": "agg_fine",
         "rawType": "float64",
         "type": "float"
        },
        {
         "name": "age",
         "rawType": "int64",
         "type": "integer"
        },
        {
         "name": "strength",
         "rawType": "float64",
         "type": "float"
        }
       ],
       "ref": "556f068d-9dd8-4a5b-9956-ef541904fc13",
       "rows": [
        [
         "0",
         "540.0",
         "0.0",
         "0.0",
         "162.0",
         "0.3",
         "False",
         "2.5",
         "1040.0",
         "676.0",
         "28",
         "79.98611076"
        ],
        [
         "1",
         "540.0",
         "0.0",
         "0.0",
         "162.0",
         "0.3",
         "False",
         "2.5",
         "1055.0",
         "676.0",
         "28",
         "61.887365759999994"
        ],
        [
         "2",
         "332.5",
         "142.5",
         "0.0",
         "228.0",
         "0.48",
         "True",
         "0.0",
         "932.0",
         "594.0",
         "270",
         "40.269535256000005"
        ],
        [
         "3",
         "332.5",
         "142.5",
         "0.0",
         "228.0",
         "0.48",
         "True",
         "0.0",
         "932.0",
         "594.0",
         "365",
         "41.052779992"
        ]
       ],
       "shape": {
        "columns": 11,
        "rows": 4
       }
      },
      "text/html": [
       "<div>\n",
       "<style scoped>\n",
       "    .dataframe tbody tr th:only-of-type {\n",
       "        vertical-align: middle;\n",
       "    }\n",
       "\n",
       "    .dataframe tbody tr th {\n",
       "        vertical-align: top;\n",
       "    }\n",
       "\n",
       "    .dataframe thead th {\n",
       "        text-align: right;\n",
       "    }\n",
       "</style>\n",
       "<table border=\"1\" class=\"dataframe\">\n",
       "  <thead>\n",
       "    <tr style=\"text-align: right;\">\n",
       "      <th></th>\n",
       "      <th>cement</th>\n",
       "      <th>bfs</th>\n",
       "      <th>flyash</th>\n",
       "      <th>water</th>\n",
       "      <th>wc</th>\n",
       "      <th>wc_high</th>\n",
       "      <th>sp</th>\n",
       "      <th>agg_coarse</th>\n",
       "      <th>agg_fine</th>\n",
       "      <th>age</th>\n",
       "      <th>strength</th>\n",
       "    </tr>\n",
       "  </thead>\n",
       "  <tbody>\n",
       "    <tr>\n",
       "      <th>0</th>\n",
       "      <td>540.0</td>\n",
       "      <td>0.0</td>\n",
       "      <td>0.0</td>\n",
       "      <td>162.0</td>\n",
       "      <td>0.30</td>\n",
       "      <td>False</td>\n",
       "      <td>2.5</td>\n",
       "      <td>1040.0</td>\n",
       "      <td>676.0</td>\n",
       "      <td>28</td>\n",
       "      <td>79.986111</td>\n",
       "    </tr>\n",
       "    <tr>\n",
       "      <th>1</th>\n",
       "      <td>540.0</td>\n",
       "      <td>0.0</td>\n",
       "      <td>0.0</td>\n",
       "      <td>162.0</td>\n",
       "      <td>0.30</td>\n",
       "      <td>False</td>\n",
       "      <td>2.5</td>\n",
       "      <td>1055.0</td>\n",
       "      <td>676.0</td>\n",
       "      <td>28</td>\n",
       "      <td>61.887366</td>\n",
       "    </tr>\n",
       "    <tr>\n",
       "      <th>2</th>\n",
       "      <td>332.5</td>\n",
       "      <td>142.5</td>\n",
       "      <td>0.0</td>\n",
       "      <td>228.0</td>\n",
       "      <td>0.48</td>\n",
       "      <td>True</td>\n",
       "      <td>0.0</td>\n",
       "      <td>932.0</td>\n",
       "      <td>594.0</td>\n",
       "      <td>270</td>\n",
       "      <td>40.269535</td>\n",
       "    </tr>\n",
       "    <tr>\n",
       "      <th>3</th>\n",
       "      <td>332.5</td>\n",
       "      <td>142.5</td>\n",
       "      <td>0.0</td>\n",
       "      <td>228.0</td>\n",
       "      <td>0.48</td>\n",
       "      <td>True</td>\n",
       "      <td>0.0</td>\n",
       "      <td>932.0</td>\n",
       "      <td>594.0</td>\n",
       "      <td>365</td>\n",
       "      <td>41.052780</td>\n",
       "    </tr>\n",
       "  </tbody>\n",
       "</table>\n",
       "</div>"
      ],
      "text/plain": [
       "   cement    bfs  flyash  water    wc  wc_high   sp  agg_coarse  agg_fine  \\\n",
       "0   540.0    0.0     0.0  162.0  0.30    False  2.5      1040.0     676.0   \n",
       "1   540.0    0.0     0.0  162.0  0.30    False  2.5      1055.0     676.0   \n",
       "2   332.5  142.5     0.0  228.0  0.48     True  0.0       932.0     594.0   \n",
       "3   332.5  142.5     0.0  228.0  0.48     True  0.0       932.0     594.0   \n",
       "\n",
       "   age   strength  \n",
       "0   28  79.986111  \n",
       "1   28  61.887366  \n",
       "2  270  40.269535  \n",
       "3  365  41.052780  "
      ]
     },
     "execution_count": 14,
     "metadata": {},
     "output_type": "execute_result"
    }
   ],
   "source": [
    "df.insert(5, \"wc_high\", df[\"wc\"] > 0.42)\n",
    "df.head(4)"
   ]
  },
  {
   "cell_type": "code",
   "execution_count": 15,
   "id": "d6f87114",
   "metadata": {},
   "outputs": [
    {
     "data": {
      "application/vnd.microsoft.datawrangler.viewer.v0+json": {
       "columns": [
        {
         "name": "index",
         "rawType": "object",
         "type": "string"
        },
        {
         "name": "0",
         "rawType": "object",
         "type": "unknown"
        }
       ],
       "ref": "af4bdc29-a423-43c4-b5a7-b25ce8a57f34",
       "rows": [
        [
         "cement",
         "float64"
        ],
        [
         "bfs",
         "float64"
        ],
        [
         "flyash",
         "float64"
        ],
        [
         "water",
         "float64"
        ],
        [
         "wc",
         "float64"
        ],
        [
         "wc_high",
         "bool"
        ],
        [
         "sp",
         "float64"
        ],
        [
         "agg_coarse",
         "float64"
        ],
        [
         "agg_fine",
         "float64"
        ],
        [
         "age",
         "int64"
        ],
        [
         "strength",
         "float64"
        ]
       ],
       "shape": {
        "columns": 1,
        "rows": 11
       }
      },
      "text/plain": [
       "cement        float64\n",
       "bfs           float64\n",
       "flyash        float64\n",
       "water         float64\n",
       "wc            float64\n",
       "wc_high          bool\n",
       "sp            float64\n",
       "agg_coarse    float64\n",
       "agg_fine      float64\n",
       "age             int64\n",
       "strength      float64\n",
       "dtype: object"
      ]
     },
     "execution_count": 15,
     "metadata": {},
     "output_type": "execute_result"
    }
   ],
   "source": [
    "# check dtypes\n",
    "df.dtypes"
   ]
  },
  {
   "cell_type": "markdown",
   "id": "14d775d8",
   "metadata": {},
   "source": [
    "Because `True` will evaluate to 1, we can easily count the number of concretes with a w/c ratio of larger than 0.42. "
   ]
  },
  {
   "cell_type": "code",
   "execution_count": 29,
   "id": "3cb82ed2",
   "metadata": {},
   "outputs": [
    {
     "data": {
      "text/plain": [
       "np.int64(602)"
      ]
     },
     "execution_count": 29,
     "metadata": {},
     "output_type": "execute_result"
    }
   ],
   "source": [
    "# count high wc instances\n",
    "nr_high = df.wc_high.sum()\n",
    "\n",
    "nr_high"
   ]
  },
  {
   "cell_type": "markdown",
   "id": "93a4b3a1",
   "metadata": {},
   "source": [
    "Of course, this can be also summarized in one line for quick counting. No need to create a new column. Let's count the concretes with more than 100 kg of slag in the mix design."
   ]
  },
  {
   "cell_type": "code",
   "execution_count": 30,
   "id": "bb91cd09",
   "metadata": {},
   "outputs": [
    {
     "data": {
      "text/plain": [
       "np.int64(390)"
      ]
     },
     "execution_count": 30,
     "metadata": {},
     "output_type": "execute_result"
    }
   ],
   "source": [
    "(df[\"bfs\"] > 100).sum()"
   ]
  },
  {
   "cell_type": "markdown",
   "id": "a187ba48",
   "metadata": {},
   "source": [
    "It is also easy and straightforward to obtrain the mean values of all columns."
   ]
  },
  {
   "cell_type": "code",
   "execution_count": 31,
   "id": "d2c96a25",
   "metadata": {},
   "outputs": [
    {
     "data": {
      "application/vnd.microsoft.datawrangler.viewer.v0+json": {
       "columns": [
        {
         "name": "index",
         "rawType": "object",
         "type": "string"
        },
        {
         "name": "0",
         "rawType": "float64",
         "type": "float"
        }
       ],
       "ref": "ff14a892-eba8-4eeb-a234-1eba2dfcbbb8",
       "rows": [
        [
         "cement",
         "281.16563106796116"
        ],
        [
         "bfs",
         "73.89548543689321"
        ],
        [
         "flyash",
         "54.1871359223301"
        ],
        [
         "water",
         "181.56635922330096"
        ],
        [
         "wc",
         "0.4692330097087379"
        ],
        [
         "wc_high",
         "0.5844660194174758"
        ],
        [
         "sp",
         "6.203111650485437"
        ],
        [
         "agg_coarse",
         "972.9185922330097"
        ],
        [
         "agg_fine",
         "773.5788834951456"
        ],
        [
         "age",
         "45.662135922330094"
        ],
        [
         "strength",
         "35.8178358261136"
        ]
       ],
       "shape": {
        "columns": 1,
        "rows": 11
       }
      },
      "text/plain": [
       "cement        281.165631\n",
       "bfs            73.895485\n",
       "flyash         54.187136\n",
       "water         181.566359\n",
       "wc              0.469233\n",
       "wc_high         0.584466\n",
       "sp              6.203112\n",
       "agg_coarse    972.918592\n",
       "agg_fine      773.578883\n",
       "age            45.662136\n",
       "strength       35.817836\n",
       "dtype: float64"
      ]
     },
     "execution_count": 31,
     "metadata": {},
     "output_type": "execute_result"
    }
   ],
   "source": [
    "df.mean(numeric_only=True)"
   ]
  },
  {
   "cell_type": "markdown",
   "id": "1dc2a0d7",
   "metadata": {},
   "source": [
    "Pandas has a nice method (`desribe()`) for getting a quick overview about the data properties in the dataframe. "
   ]
  },
  {
   "cell_type": "code",
   "execution_count": 34,
   "id": "b4b14ee9",
   "metadata": {},
   "outputs": [
    {
     "data": {
      "application/vnd.microsoft.datawrangler.viewer.v0+json": {
       "columns": [
        {
         "name": "index",
         "rawType": "object",
         "type": "string"
        },
        {
         "name": "cement",
         "rawType": "float64",
         "type": "float"
        },
        {
         "name": "bfs",
         "rawType": "float64",
         "type": "float"
        },
        {
         "name": "flyash",
         "rawType": "float64",
         "type": "float"
        },
        {
         "name": "water",
         "rawType": "float64",
         "type": "float"
        },
        {
         "name": "wc",
         "rawType": "float64",
         "type": "float"
        },
        {
         "name": "sp",
         "rawType": "float64",
         "type": "float"
        },
        {
         "name": "agg_coarse",
         "rawType": "float64",
         "type": "float"
        },
        {
         "name": "agg_fine",
         "rawType": "float64",
         "type": "float"
        },
        {
         "name": "age",
         "rawType": "float64",
         "type": "float"
        },
        {
         "name": "strength",
         "rawType": "float64",
         "type": "float"
        }
       ],
       "ref": "4e569e4d-ba4f-4f47-a4a8-b7eced3a1c07",
       "rows": [
        [
         "count",
         "1030.0",
         "1030.0",
         "1030.0",
         "1030.0",
         "1030.0",
         "1030.0",
         "1030.0",
         "1030.0",
         "1030.0",
         "1030.0"
        ],
        [
         "mean",
         "281.16563106796116",
         "73.89548543689321",
         "54.1871359223301",
         "181.56635922330096",
         "0.4692330097087379",
         "6.203111650485437",
         "972.9185922330097",
         "773.5788834951456",
         "45.662135922330094",
         "35.8178358261136"
        ],
        [
         "std",
         "104.5071416428718",
         "86.27910364316895",
         "63.99646938186508",
         "21.355567066911522",
         "0.12693246399411384",
         "5.973491650590111",
         "77.75381809178927",
         "80.1754273990239",
         "63.16991158103249",
         "16.705679174867946"
        ],
        [
         "min",
         "102.0",
         "0.0",
         "0.0",
         "121.75",
         "0.24",
         "0.0",
         "801.0",
         "594.0",
         "1.0",
         "2.331807832"
        ],
        [
         "25%",
         "192.375",
         "0.0",
         "0.0",
         "164.9",
         "0.38",
         "0.0",
         "932.0",
         "730.95",
         "7.0",
         "23.707115153"
        ],
        [
         "50%",
         "272.9",
         "22.0",
         "0.0",
         "185.0",
         "0.47",
         "6.35",
         "968.0",
         "779.51",
         "28.0",
         "34.44277358"
        ],
        [
         "75%",
         "350.0",
         "142.95",
         "118.27",
         "192.0",
         "0.56",
         "10.16",
         "1029.4",
         "824.0",
         "56.0",
         "46.13628654"
        ],
        [
         "max",
         "540.0",
         "359.4",
         "200.1",
         "247.0",
         "0.9",
         "32.2",
         "1145.0",
         "992.6",
         "365.0",
         "82.5992248"
        ]
       ],
       "shape": {
        "columns": 10,
        "rows": 8
       }
      },
      "text/html": [
       "<div>\n",
       "<style scoped>\n",
       "    .dataframe tbody tr th:only-of-type {\n",
       "        vertical-align: middle;\n",
       "    }\n",
       "\n",
       "    .dataframe tbody tr th {\n",
       "        vertical-align: top;\n",
       "    }\n",
       "\n",
       "    .dataframe thead th {\n",
       "        text-align: right;\n",
       "    }\n",
       "</style>\n",
       "<table border=\"1\" class=\"dataframe\">\n",
       "  <thead>\n",
       "    <tr style=\"text-align: right;\">\n",
       "      <th></th>\n",
       "      <th>cement</th>\n",
       "      <th>bfs</th>\n",
       "      <th>flyash</th>\n",
       "      <th>water</th>\n",
       "      <th>wc</th>\n",
       "      <th>sp</th>\n",
       "      <th>agg_coarse</th>\n",
       "      <th>agg_fine</th>\n",
       "      <th>age</th>\n",
       "      <th>strength</th>\n",
       "    </tr>\n",
       "  </thead>\n",
       "  <tbody>\n",
       "    <tr>\n",
       "      <th>count</th>\n",
       "      <td>1030.000000</td>\n",
       "      <td>1030.000000</td>\n",
       "      <td>1030.000000</td>\n",
       "      <td>1030.000000</td>\n",
       "      <td>1030.000000</td>\n",
       "      <td>1030.000000</td>\n",
       "      <td>1030.000000</td>\n",
       "      <td>1030.000000</td>\n",
       "      <td>1030.000000</td>\n",
       "      <td>1030.000000</td>\n",
       "    </tr>\n",
       "    <tr>\n",
       "      <th>mean</th>\n",
       "      <td>281.165631</td>\n",
       "      <td>73.895485</td>\n",
       "      <td>54.187136</td>\n",
       "      <td>181.566359</td>\n",
       "      <td>0.469233</td>\n",
       "      <td>6.203112</td>\n",
       "      <td>972.918592</td>\n",
       "      <td>773.578883</td>\n",
       "      <td>45.662136</td>\n",
       "      <td>35.817836</td>\n",
       "    </tr>\n",
       "    <tr>\n",
       "      <th>std</th>\n",
       "      <td>104.507142</td>\n",
       "      <td>86.279104</td>\n",
       "      <td>63.996469</td>\n",
       "      <td>21.355567</td>\n",
       "      <td>0.126932</td>\n",
       "      <td>5.973492</td>\n",
       "      <td>77.753818</td>\n",
       "      <td>80.175427</td>\n",
       "      <td>63.169912</td>\n",
       "      <td>16.705679</td>\n",
       "    </tr>\n",
       "    <tr>\n",
       "      <th>min</th>\n",
       "      <td>102.000000</td>\n",
       "      <td>0.000000</td>\n",
       "      <td>0.000000</td>\n",
       "      <td>121.750000</td>\n",
       "      <td>0.240000</td>\n",
       "      <td>0.000000</td>\n",
       "      <td>801.000000</td>\n",
       "      <td>594.000000</td>\n",
       "      <td>1.000000</td>\n",
       "      <td>2.331808</td>\n",
       "    </tr>\n",
       "    <tr>\n",
       "      <th>25%</th>\n",
       "      <td>192.375000</td>\n",
       "      <td>0.000000</td>\n",
       "      <td>0.000000</td>\n",
       "      <td>164.900000</td>\n",
       "      <td>0.380000</td>\n",
       "      <td>0.000000</td>\n",
       "      <td>932.000000</td>\n",
       "      <td>730.950000</td>\n",
       "      <td>7.000000</td>\n",
       "      <td>23.707115</td>\n",
       "    </tr>\n",
       "    <tr>\n",
       "      <th>50%</th>\n",
       "      <td>272.900000</td>\n",
       "      <td>22.000000</td>\n",
       "      <td>0.000000</td>\n",
       "      <td>185.000000</td>\n",
       "      <td>0.470000</td>\n",
       "      <td>6.350000</td>\n",
       "      <td>968.000000</td>\n",
       "      <td>779.510000</td>\n",
       "      <td>28.000000</td>\n",
       "      <td>34.442774</td>\n",
       "    </tr>\n",
       "    <tr>\n",
       "      <th>75%</th>\n",
       "      <td>350.000000</td>\n",
       "      <td>142.950000</td>\n",
       "      <td>118.270000</td>\n",
       "      <td>192.000000</td>\n",
       "      <td>0.560000</td>\n",
       "      <td>10.160000</td>\n",
       "      <td>1029.400000</td>\n",
       "      <td>824.000000</td>\n",
       "      <td>56.000000</td>\n",
       "      <td>46.136287</td>\n",
       "    </tr>\n",
       "    <tr>\n",
       "      <th>max</th>\n",
       "      <td>540.000000</td>\n",
       "      <td>359.400000</td>\n",
       "      <td>200.100000</td>\n",
       "      <td>247.000000</td>\n",
       "      <td>0.900000</td>\n",
       "      <td>32.200000</td>\n",
       "      <td>1145.000000</td>\n",
       "      <td>992.600000</td>\n",
       "      <td>365.000000</td>\n",
       "      <td>82.599225</td>\n",
       "    </tr>\n",
       "  </tbody>\n",
       "</table>\n",
       "</div>"
      ],
      "text/plain": [
       "            cement          bfs       flyash        water           wc  \\\n",
       "count  1030.000000  1030.000000  1030.000000  1030.000000  1030.000000   \n",
       "mean    281.165631    73.895485    54.187136   181.566359     0.469233   \n",
       "std     104.507142    86.279104    63.996469    21.355567     0.126932   \n",
       "min     102.000000     0.000000     0.000000   121.750000     0.240000   \n",
       "25%     192.375000     0.000000     0.000000   164.900000     0.380000   \n",
       "50%     272.900000    22.000000     0.000000   185.000000     0.470000   \n",
       "75%     350.000000   142.950000   118.270000   192.000000     0.560000   \n",
       "max     540.000000   359.400000   200.100000   247.000000     0.900000   \n",
       "\n",
       "                sp   agg_coarse     agg_fine          age     strength  \n",
       "count  1030.000000  1030.000000  1030.000000  1030.000000  1030.000000  \n",
       "mean      6.203112   972.918592   773.578883    45.662136    35.817836  \n",
       "std       5.973492    77.753818    80.175427    63.169912    16.705679  \n",
       "min       0.000000   801.000000   594.000000     1.000000     2.331808  \n",
       "25%       0.000000   932.000000   730.950000     7.000000    23.707115  \n",
       "50%       6.350000   968.000000   779.510000    28.000000    34.442774  \n",
       "75%      10.160000  1029.400000   824.000000    56.000000    46.136287  \n",
       "max      32.200000  1145.000000   992.600000   365.000000    82.599225  "
      ]
     },
     "execution_count": 34,
     "metadata": {},
     "output_type": "execute_result"
    }
   ],
   "source": [
    "df.describe()"
   ]
  },
  {
   "cell_type": "markdown",
   "id": "9ab7383c",
   "metadata": {},
   "source": [
    "Very often, you need to filter a dataframe by one or more criteria. This can be achieved in differnt ways. "
   ]
  },
  {
   "cell_type": "code",
   "execution_count": 36,
   "id": "d4e356fc",
   "metadata": {},
   "outputs": [
    {
     "data": {
      "application/vnd.microsoft.datawrangler.viewer.v0+json": {
       "columns": [
        {
         "name": "index",
         "rawType": "int64",
         "type": "integer"
        },
        {
         "name": "cement",
         "rawType": "float64",
         "type": "float"
        },
        {
         "name": "bfs",
         "rawType": "float64",
         "type": "float"
        },
        {
         "name": "flyash",
         "rawType": "float64",
         "type": "float"
        },
        {
         "name": "water",
         "rawType": "float64",
         "type": "float"
        },
        {
         "name": "wc",
         "rawType": "float64",
         "type": "float"
        },
        {
         "name": "wc_high",
         "rawType": "bool",
         "type": "boolean"
        },
        {
         "name": "sp",
         "rawType": "float64",
         "type": "float"
        },
        {
         "name": "agg_coarse",
         "rawType": "float64",
         "type": "float"
        },
        {
         "name": "agg_fine",
         "rawType": "float64",
         "type": "float"
        },
        {
         "name": "age",
         "rawType": "int64",
         "type": "integer"
        },
        {
         "name": "strength",
         "rawType": "float64",
         "type": "float"
        },
        {
         "name": "exp_code",
         "rawType": "object",
         "type": "string"
        },
        {
         "name": "wc_bin",
         "rawType": "category",
         "type": "unknown"
        }
       ],
       "ref": "86839fde-0eb9-4740-9a20-b6b51acf3cd7",
       "rows": [
        [
         "2",
         "332.5",
         "142.5",
         "0.0",
         "228.0",
         "0.48",
         "True",
         "0.0",
         "932.0",
         "594.0",
         "270",
         "40.269535256000005",
         "a2",
         "0.46-0.50"
        ],
        [
         "3",
         "332.5",
         "142.5",
         "0.0",
         "228.0",
         "0.48",
         "True",
         "0.0",
         "932.0",
         "594.0",
         "365",
         "41.052779992",
         "a3",
         "0.46-0.50"
        ],
        [
         "4",
         "198.6",
         "132.4",
         "0.0",
         "192.0",
         "0.58",
         "True",
         "0.0",
         "978.4",
         "825.5",
         "360",
         "44.296075096",
         "a4",
         "0.50-1.0"
        ]
       ],
       "shape": {
        "columns": 13,
        "rows": 3
       }
      },
      "text/html": [
       "<div>\n",
       "<style scoped>\n",
       "    .dataframe tbody tr th:only-of-type {\n",
       "        vertical-align: middle;\n",
       "    }\n",
       "\n",
       "    .dataframe tbody tr th {\n",
       "        vertical-align: top;\n",
       "    }\n",
       "\n",
       "    .dataframe thead th {\n",
       "        text-align: right;\n",
       "    }\n",
       "</style>\n",
       "<table border=\"1\" class=\"dataframe\">\n",
       "  <thead>\n",
       "    <tr style=\"text-align: right;\">\n",
       "      <th></th>\n",
       "      <th>cement</th>\n",
       "      <th>bfs</th>\n",
       "      <th>flyash</th>\n",
       "      <th>water</th>\n",
       "      <th>wc</th>\n",
       "      <th>wc_high</th>\n",
       "      <th>sp</th>\n",
       "      <th>agg_coarse</th>\n",
       "      <th>agg_fine</th>\n",
       "      <th>age</th>\n",
       "      <th>strength</th>\n",
       "      <th>exp_code</th>\n",
       "      <th>wc_bin</th>\n",
       "    </tr>\n",
       "  </thead>\n",
       "  <tbody>\n",
       "    <tr>\n",
       "      <th>2</th>\n",
       "      <td>332.5</td>\n",
       "      <td>142.5</td>\n",
       "      <td>0.0</td>\n",
       "      <td>228.0</td>\n",
       "      <td>0.48</td>\n",
       "      <td>True</td>\n",
       "      <td>0.0</td>\n",
       "      <td>932.0</td>\n",
       "      <td>594.0</td>\n",
       "      <td>270</td>\n",
       "      <td>40.269535</td>\n",
       "      <td>a2</td>\n",
       "      <td>0.46-0.50</td>\n",
       "    </tr>\n",
       "    <tr>\n",
       "      <th>3</th>\n",
       "      <td>332.5</td>\n",
       "      <td>142.5</td>\n",
       "      <td>0.0</td>\n",
       "      <td>228.0</td>\n",
       "      <td>0.48</td>\n",
       "      <td>True</td>\n",
       "      <td>0.0</td>\n",
       "      <td>932.0</td>\n",
       "      <td>594.0</td>\n",
       "      <td>365</td>\n",
       "      <td>41.052780</td>\n",
       "      <td>a3</td>\n",
       "      <td>0.46-0.50</td>\n",
       "    </tr>\n",
       "    <tr>\n",
       "      <th>4</th>\n",
       "      <td>198.6</td>\n",
       "      <td>132.4</td>\n",
       "      <td>0.0</td>\n",
       "      <td>192.0</td>\n",
       "      <td>0.58</td>\n",
       "      <td>True</td>\n",
       "      <td>0.0</td>\n",
       "      <td>978.4</td>\n",
       "      <td>825.5</td>\n",
       "      <td>360</td>\n",
       "      <td>44.296075</td>\n",
       "      <td>a4</td>\n",
       "      <td>0.50-1.0</td>\n",
       "    </tr>\n",
       "  </tbody>\n",
       "</table>\n",
       "</div>"
      ],
      "text/plain": [
       "   cement    bfs  flyash  water    wc  wc_high   sp  agg_coarse  agg_fine  \\\n",
       "2   332.5  142.5     0.0  228.0  0.48     True  0.0       932.0     594.0   \n",
       "3   332.5  142.5     0.0  228.0  0.48     True  0.0       932.0     594.0   \n",
       "4   198.6  132.4     0.0  192.0  0.58     True  0.0       978.4     825.5   \n",
       "\n",
       "   age   strength exp_code     wc_bin  \n",
       "2  270  40.269535       a2  0.46-0.50  \n",
       "3  365  41.052780       a3  0.46-0.50  \n",
       "4  360  44.296075       a4   0.50-1.0  "
      ]
     },
     "execution_count": 36,
     "metadata": {},
     "output_type": "execute_result"
    }
   ],
   "source": [
    "# filter operations\n",
    "df_high = df.query(\"wc_high > 0.42\")\n",
    "df_high.head(3)\n"
   ]
  },
  {
   "cell_type": "markdown",
   "id": "d1ba032e",
   "metadata": {},
   "source": [
    "One thing we has irritated me many, many times is the concept of a **view** in Pandas. The `df.query(\"wc_high > 0.42\")` method does not necessarily creates a filtered copy of the original dataframe, i.e. a **new**, independent dataframe to the variable `df_high`. You can get a `SettingWithCopyWarning`. For details see https://stackoverflow.com/questions/20625582/how-to-deal-with-settingwithcopywarning-in-pandas"
   ]
  },
  {
   "cell_type": "code",
   "execution_count": 44,
   "id": "2badf950",
   "metadata": {},
   "outputs": [
    {
     "name": "stderr",
     "output_type": "stream",
     "text": [
      "/tmp/ipykernel_58132/4221687764.py:1: SettingWithCopyWarning: \n",
      "A value is trying to be set on a copy of a slice from a DataFrame.\n",
      "Try using .loc[row_indexer,col_indexer] = value instead\n",
      "\n",
      "See the caveats in the documentation: https://pandas.pydata.org/pandas-docs/stable/user_guide/indexing.html#returning-a-view-versus-a-copy\n",
      "  df_high[\"new_var\"] = 5\n"
     ]
    },
    {
     "data": {
      "application/vnd.microsoft.datawrangler.viewer.v0+json": {
       "columns": [
        {
         "name": "index",
         "rawType": "int64",
         "type": "integer"
        },
        {
         "name": "cement",
         "rawType": "float64",
         "type": "float"
        },
        {
         "name": "bfs",
         "rawType": "float64",
         "type": "float"
        },
        {
         "name": "flyash",
         "rawType": "float64",
         "type": "float"
        },
        {
         "name": "water",
         "rawType": "float64",
         "type": "float"
        },
        {
         "name": "wc",
         "rawType": "float64",
         "type": "float"
        },
        {
         "name": "wc_high",
         "rawType": "bool",
         "type": "boolean"
        },
        {
         "name": "sp",
         "rawType": "float64",
         "type": "float"
        },
        {
         "name": "agg_coarse",
         "rawType": "float64",
         "type": "float"
        },
        {
         "name": "agg_fine",
         "rawType": "float64",
         "type": "float"
        },
        {
         "name": "age",
         "rawType": "int64",
         "type": "integer"
        },
        {
         "name": "strength",
         "rawType": "float64",
         "type": "float"
        },
        {
         "name": "exp_code",
         "rawType": "object",
         "type": "string"
        },
        {
         "name": "wc_bin",
         "rawType": "category",
         "type": "unknown"
        }
       ],
       "ref": "4be7e51a-8a3c-4601-87a5-59f78cbfc7a3",
       "rows": [
        [
         "0",
         "540.0",
         "0.0",
         "0.0",
         "162.0",
         "0.3",
         "False",
         "2.5",
         "1040.0",
         "676.0",
         "28",
         "79.98611076",
         "a0",
         "0.0-0.34"
        ],
        [
         "1",
         "540.0",
         "0.0",
         "0.0",
         "162.0",
         "0.3",
         "False",
         "2.5",
         "1055.0",
         "676.0",
         "28",
         "61.887365759999994",
         "a1",
         "0.0-0.34"
        ],
        [
         "2",
         "332.5",
         "142.5",
         "0.0",
         "228.0",
         "0.48",
         "True",
         "0.0",
         "932.0",
         "594.0",
         "270",
         "40.269535256000005",
         "a2",
         "0.46-0.50"
        ],
        [
         "3",
         "332.5",
         "142.5",
         "0.0",
         "228.0",
         "0.48",
         "True",
         "0.0",
         "932.0",
         "594.0",
         "365",
         "41.052779992",
         "a3",
         "0.46-0.50"
        ],
        [
         "4",
         "198.6",
         "132.4",
         "0.0",
         "192.0",
         "0.58",
         "True",
         "0.0",
         "978.4",
         "825.5",
         "360",
         "44.296075096",
         "a4",
         "0.50-1.0"
        ],
        [
         "5",
         "266.0",
         "114.0",
         "0.0",
         "228.0",
         "0.6",
         "True",
         "0.0",
         "932.0",
         "670.0",
         "90",
         "47.029847436000004",
         "a5",
         "0.50-1.0"
        ],
        [
         "6",
         "380.0",
         "95.0",
         "0.0",
         "228.0",
         "0.48",
         "True",
         "0.0",
         "932.0",
         "594.0",
         "365",
         "43.698299404",
         "a6",
         "0.46-0.50"
        ],
        [
         "7",
         "380.0",
         "95.0",
         "0.0",
         "228.0",
         "0.48",
         "True",
         "0.0",
         "932.0",
         "594.0",
         "28",
         "36.447769788",
         "a7",
         "0.46-0.50"
        ],
        [
         "8",
         "266.0",
         "114.0",
         "0.0",
         "228.0",
         "0.6",
         "True",
         "0.0",
         "932.0",
         "670.0",
         "28",
         "45.854290856",
         "a8",
         "0.50-1.0"
        ],
        [
         "9",
         "475.0",
         "0.0",
         "0.0",
         "228.0",
         "0.48",
         "True",
         "0.0",
         "932.0",
         "594.0",
         "28",
         "39.28978986",
         "a9",
         "0.46-0.50"
        ],
        [
         "10",
         "198.6",
         "132.4",
         "0.0",
         "192.0",
         "0.58",
         "True",
         "0.0",
         "978.4",
         "825.5",
         "90",
         "38.074243671999994",
         "a10",
         "0.50-1.0"
        ],
        [
         "11",
         "198.6",
         "132.4",
         "0.0",
         "192.0",
         "0.58",
         "True",
         "0.0",
         "978.4",
         "825.5",
         "28",
         "28.021683592",
         "a11",
         "0.50-1.0"
        ],
        [
         "12",
         "427.5",
         "47.5",
         "0.0",
         "228.0",
         "0.48",
         "True",
         "0.0",
         "932.0",
         "594.0",
         "270",
         "43.01296026",
         "a12",
         "0.46-0.50"
        ],
        [
         "13",
         "190.0",
         "190.0",
         "0.0",
         "228.0",
         "0.6",
         "True",
         "0.0",
         "932.0",
         "670.0",
         "90",
         "42.32693164",
         "a13",
         "0.50-1.0"
        ],
        [
         "14",
         "304.0",
         "76.0",
         "0.0",
         "228.0",
         "0.6",
         "True",
         "0.0",
         "932.0",
         "670.0",
         "28",
         "47.813781648",
         "a14",
         "0.50-1.0"
        ],
        [
         "15",
         "380.0",
         "0.0",
         "0.0",
         "228.0",
         "0.6",
         "True",
         "0.0",
         "932.0",
         "670.0",
         "90",
         "52.908319811999995",
         "a15",
         "0.50-1.0"
        ],
        [
         "16",
         "139.6",
         "209.4",
         "0.0",
         "192.0",
         "0.55",
         "True",
         "0.0",
         "1047.0",
         "806.9",
         "90",
         "39.358047983999995",
         "a16",
         "0.50-1.0"
        ],
        [
         "17",
         "342.0",
         "38.0",
         "0.0",
         "228.0",
         "0.6",
         "True",
         "0.0",
         "932.0",
         "670.0",
         "365",
         "56.141962252",
         "a17",
         "0.50-1.0"
        ],
        [
         "18",
         "380.0",
         "95.0",
         "0.0",
         "228.0",
         "0.48",
         "True",
         "0.0",
         "932.0",
         "594.0",
         "90",
         "40.563252031999994",
         "a18",
         "0.46-0.50"
        ],
        [
         "19",
         "475.0",
         "0.0",
         "0.0",
         "228.0",
         "0.48",
         "True",
         "0.0",
         "932.0",
         "594.0",
         "180",
         "42.620648416",
         "a19",
         "0.46-0.50"
        ],
        [
         "20",
         "427.5",
         "47.5",
         "0.0",
         "228.0",
         "0.48",
         "True",
         "0.0",
         "932.0",
         "594.0",
         "180",
         "41.836714203999996",
         "a20",
         "0.46-0.50"
        ],
        [
         "21",
         "139.6",
         "209.4",
         "0.0",
         "192.0",
         "0.55",
         "True",
         "0.0",
         "1047.0",
         "806.9",
         "28",
         "28.23748958",
         "a21",
         "0.50-1.0"
        ],
        [
         "22",
         "139.6",
         "209.4",
         "0.0",
         "192.0",
         "0.55",
         "True",
         "0.0",
         "1047.0",
         "806.9",
         "3",
         "8.06342182",
         "a22",
         "0.50-1.0"
        ],
        [
         "23",
         "139.6",
         "209.4",
         "0.0",
         "192.0",
         "0.55",
         "True",
         "0.0",
         "1047.0",
         "806.9",
         "180",
         "44.207822168",
         "a23",
         "0.50-1.0"
        ],
        [
         "24",
         "380.0",
         "0.0",
         "0.0",
         "228.0",
         "0.6",
         "True",
         "0.0",
         "932.0",
         "670.0",
         "365",
         "52.516697443999995",
         "a24",
         "0.50-1.0"
        ],
        [
         "25",
         "380.0",
         "0.0",
         "0.0",
         "228.0",
         "0.6",
         "True",
         "0.0",
         "932.0",
         "670.0",
         "270",
         "53.300631656",
         "a25",
         "0.50-1.0"
        ],
        [
         "26",
         "380.0",
         "95.0",
         "0.0",
         "228.0",
         "0.48",
         "True",
         "0.0",
         "932.0",
         "594.0",
         "270",
         "41.15137506",
         "a26",
         "0.46-0.50"
        ],
        [
         "27",
         "342.0",
         "38.0",
         "0.0",
         "228.0",
         "0.6",
         "True",
         "0.0",
         "932.0",
         "670.0",
         "180",
         "52.1243856",
         "a27",
         "0.50-1.0"
        ],
        [
         "28",
         "427.5",
         "47.5",
         "0.0",
         "228.0",
         "0.48",
         "True",
         "0.0",
         "932.0",
         "594.0",
         "28",
         "37.427515183999994",
         "a28",
         "0.46-0.50"
        ],
        [
         "29",
         "475.0",
         "0.0",
         "0.0",
         "228.0",
         "0.48",
         "True",
         "0.0",
         "932.0",
         "594.0",
         "7",
         "38.60376124",
         "a29",
         "0.46-0.50"
        ],
        [
         "30",
         "304.0",
         "76.0",
         "0.0",
         "228.0",
         "0.6",
         "True",
         "0.0",
         "932.0",
         "670.0",
         "365",
         "55.260122448",
         "a30",
         "0.50-1.0"
        ],
        [
         "31",
         "266.0",
         "114.0",
         "0.0",
         "228.0",
         "0.6",
         "True",
         "0.0",
         "932.0",
         "670.0",
         "365",
         "52.908319811999995",
         "a31",
         "0.50-1.0"
        ],
        [
         "32",
         "198.6",
         "132.4",
         "0.0",
         "192.0",
         "0.58",
         "True",
         "0.0",
         "978.4",
         "825.5",
         "180",
         "41.719503284",
         "a32",
         "0.50-1.0"
        ],
        [
         "33",
         "475.0",
         "0.0",
         "0.0",
         "228.0",
         "0.48",
         "True",
         "0.0",
         "932.0",
         "594.0",
         "270",
         "42.131120456",
         "a33",
         "0.46-0.50"
        ],
        [
         "34",
         "190.0",
         "190.0",
         "0.0",
         "228.0",
         "0.6",
         "True",
         "0.0",
         "932.0",
         "670.0",
         "365",
         "53.69225402399999",
         "a34",
         "0.50-1.0"
        ],
        [
         "35",
         "237.5",
         "237.5",
         "0.0",
         "228.0",
         "0.48",
         "True",
         "0.0",
         "932.0",
         "594.0",
         "270",
         "38.407950056000004",
         "a35",
         "0.46-0.50"
        ],
        [
         "36",
         "237.5",
         "237.5",
         "0.0",
         "228.0",
         "0.48",
         "True",
         "0.0",
         "932.0",
         "594.0",
         "28",
         "30.079769451999997",
         "a36",
         "0.46-0.50"
        ],
        [
         "37",
         "332.5",
         "142.5",
         "0.0",
         "228.0",
         "0.48",
         "True",
         "0.0",
         "932.0",
         "594.0",
         "90",
         "37.721921436",
         "a37",
         "0.46-0.50"
        ],
        [
         "38",
         "475.0",
         "0.0",
         "0.0",
         "228.0",
         "0.48",
         "True",
         "0.0",
         "932.0",
         "594.0",
         "90",
         "42.229026048",
         "a38",
         "0.46-0.50"
        ],
        [
         "39",
         "237.5",
         "237.5",
         "0.0",
         "228.0",
         "0.48",
         "True",
         "0.0",
         "932.0",
         "594.0",
         "180",
         "36.251958603999995",
         "a39",
         "0.46-0.50"
        ],
        [
         "40",
         "342.0",
         "38.0",
         "0.0",
         "228.0",
         "0.6",
         "True",
         "0.0",
         "932.0",
         "670.0",
         "90",
         "50.45930106",
         "a40",
         "0.50-1.0"
        ],
        [
         "41",
         "427.5",
         "47.5",
         "0.0",
         "228.0",
         "0.48",
         "True",
         "0.0",
         "932.0",
         "594.0",
         "365",
         "43.698299404",
         "a41",
         "0.46-0.50"
        ],
        [
         "42",
         "237.5",
         "237.5",
         "0.0",
         "228.0",
         "0.48",
         "True",
         "0.0",
         "932.0",
         "594.0",
         "365",
         "38.995383608",
         "a42",
         "0.46-0.50"
        ],
        [
         "43",
         "380.0",
         "0.0",
         "0.0",
         "228.0",
         "0.6",
         "True",
         "0.0",
         "932.0",
         "670.0",
         "180",
         "53.104130996",
         "a43",
         "0.50-1.0"
        ],
        [
         "44",
         "427.5",
         "47.5",
         "0.0",
         "228.0",
         "0.48",
         "True",
         "0.0",
         "932.0",
         "594.0",
         "90",
         "41.542997428",
         "a44",
         "0.46-0.50"
        ],
        [
         "45",
         "427.5",
         "47.5",
         "0.0",
         "228.0",
         "0.48",
         "True",
         "0.0",
         "932.0",
         "594.0",
         "7",
         "35.076402024",
         "a45",
         "0.46-0.50"
        ],
        [
         "46",
         "349.0",
         "0.0",
         "0.0",
         "192.0",
         "0.55",
         "True",
         "0.0",
         "1047.0",
         "806.9",
         "3",
         "15.049192651999999",
         "a46",
         "0.50-1.0"
        ],
        [
         "47",
         "380.0",
         "95.0",
         "0.0",
         "228.0",
         "0.48",
         "True",
         "0.0",
         "932.0",
         "594.0",
         "180",
         "40.759063216",
         "a47",
         "0.46-0.50"
        ],
        [
         "48",
         "237.5",
         "237.5",
         "0.0",
         "228.0",
         "0.48",
         "True",
         "0.0",
         "932.0",
         "594.0",
         "7",
         "26.258003984",
         "a48",
         "0.46-0.50"
        ],
        [
         "49",
         "380.0",
         "95.0",
         "0.0",
         "228.0",
         "0.48",
         "True",
         "0.0",
         "932.0",
         "594.0",
         "7",
         "32.823194456",
         "a49",
         "0.46-0.50"
        ]
       ],
       "shape": {
        "columns": 13,
        "rows": 1030
       }
      },
      "text/html": [
       "<div>\n",
       "<style scoped>\n",
       "    .dataframe tbody tr th:only-of-type {\n",
       "        vertical-align: middle;\n",
       "    }\n",
       "\n",
       "    .dataframe tbody tr th {\n",
       "        vertical-align: top;\n",
       "    }\n",
       "\n",
       "    .dataframe thead th {\n",
       "        text-align: right;\n",
       "    }\n",
       "</style>\n",
       "<table border=\"1\" class=\"dataframe\">\n",
       "  <thead>\n",
       "    <tr style=\"text-align: right;\">\n",
       "      <th></th>\n",
       "      <th>cement</th>\n",
       "      <th>bfs</th>\n",
       "      <th>flyash</th>\n",
       "      <th>water</th>\n",
       "      <th>wc</th>\n",
       "      <th>wc_high</th>\n",
       "      <th>sp</th>\n",
       "      <th>agg_coarse</th>\n",
       "      <th>agg_fine</th>\n",
       "      <th>age</th>\n",
       "      <th>strength</th>\n",
       "      <th>exp_code</th>\n",
       "      <th>wc_bin</th>\n",
       "    </tr>\n",
       "  </thead>\n",
       "  <tbody>\n",
       "    <tr>\n",
       "      <th>0</th>\n",
       "      <td>540.0</td>\n",
       "      <td>0.0</td>\n",
       "      <td>0.0</td>\n",
       "      <td>162.0</td>\n",
       "      <td>0.30</td>\n",
       "      <td>False</td>\n",
       "      <td>2.5</td>\n",
       "      <td>1040.0</td>\n",
       "      <td>676.0</td>\n",
       "      <td>28</td>\n",
       "      <td>79.986111</td>\n",
       "      <td>a0</td>\n",
       "      <td>0.0-0.34</td>\n",
       "    </tr>\n",
       "    <tr>\n",
       "      <th>1</th>\n",
       "      <td>540.0</td>\n",
       "      <td>0.0</td>\n",
       "      <td>0.0</td>\n",
       "      <td>162.0</td>\n",
       "      <td>0.30</td>\n",
       "      <td>False</td>\n",
       "      <td>2.5</td>\n",
       "      <td>1055.0</td>\n",
       "      <td>676.0</td>\n",
       "      <td>28</td>\n",
       "      <td>61.887366</td>\n",
       "      <td>a1</td>\n",
       "      <td>0.0-0.34</td>\n",
       "    </tr>\n",
       "    <tr>\n",
       "      <th>2</th>\n",
       "      <td>332.5</td>\n",
       "      <td>142.5</td>\n",
       "      <td>0.0</td>\n",
       "      <td>228.0</td>\n",
       "      <td>0.48</td>\n",
       "      <td>True</td>\n",
       "      <td>0.0</td>\n",
       "      <td>932.0</td>\n",
       "      <td>594.0</td>\n",
       "      <td>270</td>\n",
       "      <td>40.269535</td>\n",
       "      <td>a2</td>\n",
       "      <td>0.46-0.50</td>\n",
       "    </tr>\n",
       "    <tr>\n",
       "      <th>3</th>\n",
       "      <td>332.5</td>\n",
       "      <td>142.5</td>\n",
       "      <td>0.0</td>\n",
       "      <td>228.0</td>\n",
       "      <td>0.48</td>\n",
       "      <td>True</td>\n",
       "      <td>0.0</td>\n",
       "      <td>932.0</td>\n",
       "      <td>594.0</td>\n",
       "      <td>365</td>\n",
       "      <td>41.052780</td>\n",
       "      <td>a3</td>\n",
       "      <td>0.46-0.50</td>\n",
       "    </tr>\n",
       "    <tr>\n",
       "      <th>4</th>\n",
       "      <td>198.6</td>\n",
       "      <td>132.4</td>\n",
       "      <td>0.0</td>\n",
       "      <td>192.0</td>\n",
       "      <td>0.58</td>\n",
       "      <td>True</td>\n",
       "      <td>0.0</td>\n",
       "      <td>978.4</td>\n",
       "      <td>825.5</td>\n",
       "      <td>360</td>\n",
       "      <td>44.296075</td>\n",
       "      <td>a4</td>\n",
       "      <td>0.50-1.0</td>\n",
       "    </tr>\n",
       "    <tr>\n",
       "      <th>...</th>\n",
       "      <td>...</td>\n",
       "      <td>...</td>\n",
       "      <td>...</td>\n",
       "      <td>...</td>\n",
       "      <td>...</td>\n",
       "      <td>...</td>\n",
       "      <td>...</td>\n",
       "      <td>...</td>\n",
       "      <td>...</td>\n",
       "      <td>...</td>\n",
       "      <td>...</td>\n",
       "      <td>...</td>\n",
       "      <td>...</td>\n",
       "    </tr>\n",
       "    <tr>\n",
       "      <th>1025</th>\n",
       "      <td>276.4</td>\n",
       "      <td>116.0</td>\n",
       "      <td>90.3</td>\n",
       "      <td>179.6</td>\n",
       "      <td>0.37</td>\n",
       "      <td>False</td>\n",
       "      <td>8.9</td>\n",
       "      <td>870.1</td>\n",
       "      <td>768.3</td>\n",
       "      <td>28</td>\n",
       "      <td>44.284354</td>\n",
       "      <td>a1025</td>\n",
       "      <td>0.34-0.38</td>\n",
       "    </tr>\n",
       "    <tr>\n",
       "      <th>1026</th>\n",
       "      <td>322.2</td>\n",
       "      <td>0.0</td>\n",
       "      <td>115.6</td>\n",
       "      <td>196.0</td>\n",
       "      <td>0.45</td>\n",
       "      <td>True</td>\n",
       "      <td>10.4</td>\n",
       "      <td>817.9</td>\n",
       "      <td>813.4</td>\n",
       "      <td>28</td>\n",
       "      <td>31.178794</td>\n",
       "      <td>a1026</td>\n",
       "      <td>0.42-0.46</td>\n",
       "    </tr>\n",
       "    <tr>\n",
       "      <th>1027</th>\n",
       "      <td>148.5</td>\n",
       "      <td>139.4</td>\n",
       "      <td>108.6</td>\n",
       "      <td>192.7</td>\n",
       "      <td>0.49</td>\n",
       "      <td>True</td>\n",
       "      <td>6.1</td>\n",
       "      <td>892.4</td>\n",
       "      <td>780.0</td>\n",
       "      <td>28</td>\n",
       "      <td>23.696601</td>\n",
       "      <td>a1027</td>\n",
       "      <td>0.46-0.50</td>\n",
       "    </tr>\n",
       "    <tr>\n",
       "      <th>1028</th>\n",
       "      <td>159.1</td>\n",
       "      <td>186.7</td>\n",
       "      <td>0.0</td>\n",
       "      <td>175.6</td>\n",
       "      <td>0.51</td>\n",
       "      <td>True</td>\n",
       "      <td>11.3</td>\n",
       "      <td>989.6</td>\n",
       "      <td>788.9</td>\n",
       "      <td>28</td>\n",
       "      <td>32.768036</td>\n",
       "      <td>a1028</td>\n",
       "      <td>0.50-1.0</td>\n",
       "    </tr>\n",
       "    <tr>\n",
       "      <th>1029</th>\n",
       "      <td>260.9</td>\n",
       "      <td>100.5</td>\n",
       "      <td>78.3</td>\n",
       "      <td>200.6</td>\n",
       "      <td>0.46</td>\n",
       "      <td>True</td>\n",
       "      <td>8.6</td>\n",
       "      <td>864.5</td>\n",
       "      <td>761.5</td>\n",
       "      <td>28</td>\n",
       "      <td>32.401235</td>\n",
       "      <td>a1029</td>\n",
       "      <td>0.42-0.46</td>\n",
       "    </tr>\n",
       "  </tbody>\n",
       "</table>\n",
       "<p>1030 rows × 13 columns</p>\n",
       "</div>"
      ],
      "text/plain": [
       "      cement    bfs  flyash  water    wc  wc_high    sp  agg_coarse  agg_fine  \\\n",
       "0      540.0    0.0     0.0  162.0  0.30    False   2.5      1040.0     676.0   \n",
       "1      540.0    0.0     0.0  162.0  0.30    False   2.5      1055.0     676.0   \n",
       "2      332.5  142.5     0.0  228.0  0.48     True   0.0       932.0     594.0   \n",
       "3      332.5  142.5     0.0  228.0  0.48     True   0.0       932.0     594.0   \n",
       "4      198.6  132.4     0.0  192.0  0.58     True   0.0       978.4     825.5   \n",
       "...      ...    ...     ...    ...   ...      ...   ...         ...       ...   \n",
       "1025   276.4  116.0    90.3  179.6  0.37    False   8.9       870.1     768.3   \n",
       "1026   322.2    0.0   115.6  196.0  0.45     True  10.4       817.9     813.4   \n",
       "1027   148.5  139.4   108.6  192.7  0.49     True   6.1       892.4     780.0   \n",
       "1028   159.1  186.7     0.0  175.6  0.51     True  11.3       989.6     788.9   \n",
       "1029   260.9  100.5    78.3  200.6  0.46     True   8.6       864.5     761.5   \n",
       "\n",
       "      age   strength exp_code     wc_bin  \n",
       "0      28  79.986111       a0   0.0-0.34  \n",
       "1      28  61.887366       a1   0.0-0.34  \n",
       "2     270  40.269535       a2  0.46-0.50  \n",
       "3     365  41.052780       a3  0.46-0.50  \n",
       "4     360  44.296075       a4   0.50-1.0  \n",
       "...   ...        ...      ...        ...  \n",
       "1025   28  44.284354    a1025  0.34-0.38  \n",
       "1026   28  31.178794    a1026  0.42-0.46  \n",
       "1027   28  23.696601    a1027  0.46-0.50  \n",
       "1028   28  32.768036    a1028   0.50-1.0  \n",
       "1029   28  32.401235    a1029  0.42-0.46  \n",
       "\n",
       "[1030 rows x 13 columns]"
      ]
     },
     "execution_count": 44,
     "metadata": {},
     "output_type": "execute_result"
    }
   ],
   "source": [
    "df_high[\"new_var\"] = 5 "
   ]
  },
  {
   "cell_type": "markdown",
   "id": "3f2a583a",
   "metadata": {},
   "source": [
    "The warning can be avoided by calling the `copy()` method."
   ]
  },
  {
   "cell_type": "code",
   "execution_count": 45,
   "id": "33e481f5",
   "metadata": {},
   "outputs": [],
   "source": [
    "df_high = df.query(\"wc_high > 0.42\").copy()\n",
    "df_high[\"new_var\"] = 5"
   ]
  },
  {
   "cell_type": "markdown",
   "id": "89fa5dc0",
   "metadata": {},
   "source": [
    "Another method to filter dataframes is to create a filter mask."
   ]
  },
  {
   "cell_type": "code",
   "execution_count": 51,
   "id": "e87e8a4f",
   "metadata": {},
   "outputs": [
    {
     "data": {
      "text/plain": [
       "np.int64(323)"
      ]
     },
     "execution_count": 51,
     "metadata": {},
     "output_type": "execute_result"
    }
   ],
   "source": [
    "mask = (df[\"wc\"] > 0.48) & (df[\"bfs\"] < 50)\n",
    "mask.sum()"
   ]
  },
  {
   "cell_type": "markdown",
   "id": "6369f28e",
   "metadata": {},
   "source": [
    "Now the mask can be applied to a dataframe to create a filtered dataframe."
   ]
  },
  {
   "cell_type": "code",
   "execution_count": 50,
   "id": "73571f52",
   "metadata": {},
   "outputs": [],
   "source": [
    "df_filtered = df[mask]"
   ]
  },
  {
   "cell_type": "markdown",
   "id": "e8e402ad",
   "metadata": {},
   "source": [
    "Often, two datasets need to be joined. To do a join operation, a common key is necessary for both dataframes. We can not go into details here but would like to illustrate this point using simple, artifical example. \n",
    "\n",
    "First, we need to create a key in the existing concrete dataset. In our case, suitable keys are often the names or codes of the individual experiment. Here, we will create a new column with strings `concrete_mix_1` etc. To create this list, we will use the index values of the original dataframe as numbers. \n",
    "Note that every dataframe object in pandas has an index. In the current case the index is just a list of numbers called `RangeIndex`."
   ]
  },
  {
   "cell_type": "code",
   "execution_count": 53,
   "id": "b321509d",
   "metadata": {},
   "outputs": [
    {
     "data": {
      "text/plain": [
       "RangeIndex(start=0, stop=1030, step=1)"
      ]
     },
     "execution_count": 53,
     "metadata": {},
     "output_type": "execute_result"
    }
   ],
   "source": [
    "df.index"
   ]
  },
  {
   "cell_type": "markdown",
   "id": "de429d68",
   "metadata": {},
   "source": [
    "We can loop through the index and get the inidividual numbers."
   ]
  },
  {
   "cell_type": "code",
   "execution_count": 55,
   "id": "89cd250b",
   "metadata": {},
   "outputs": [
    {
     "name": "stdout",
     "output_type": "stream",
     "text": [
      "0\n",
      "1\n",
      "2\n",
      "3\n",
      "4\n",
      "5\n"
     ]
    }
   ],
   "source": [
    "for number in df.index[:6]:\n",
    "    print(number)"
   ]
  },
  {
   "cell_type": "markdown",
   "id": "bc3f4b4b",
   "metadata": {},
   "source": [
    "A more concise way to do this in Python is the use of a list comprehension."
   ]
  },
  {
   "cell_type": "code",
   "execution_count": 56,
   "id": "802265b3",
   "metadata": {},
   "outputs": [
    {
     "data": {
      "text/plain": [
       "[0, 1, 2, 3, 4, 5]"
      ]
     },
     "execution_count": 56,
     "metadata": {},
     "output_type": "execute_result"
    }
   ],
   "source": [
    "[number for number in df.index[:6]]"
   ]
  },
  {
   "cell_type": "markdown",
   "id": "bdd70d52",
   "metadata": {},
   "source": [
    "We can now combine a list comprehension which loops through all values in the index with a string **concrete_mix_**. Note that we need to transform the number from the index into a string object, i.e., we need to use `str(i)`."
   ]
  },
  {
   "cell_type": "code",
   "execution_count": 52,
   "id": "d0b7da38",
   "metadata": {},
   "outputs": [
    {
     "data": {
      "application/vnd.microsoft.datawrangler.viewer.v0+json": {
       "columns": [
        {
         "name": "index",
         "rawType": "int64",
         "type": "integer"
        },
        {
         "name": "cement",
         "rawType": "float64",
         "type": "float"
        },
        {
         "name": "bfs",
         "rawType": "float64",
         "type": "float"
        },
        {
         "name": "flyash",
         "rawType": "float64",
         "type": "float"
        },
        {
         "name": "water",
         "rawType": "float64",
         "type": "float"
        },
        {
         "name": "wc",
         "rawType": "float64",
         "type": "float"
        },
        {
         "name": "wc_high",
         "rawType": "bool",
         "type": "boolean"
        },
        {
         "name": "sp",
         "rawType": "float64",
         "type": "float"
        },
        {
         "name": "agg_coarse",
         "rawType": "float64",
         "type": "float"
        },
        {
         "name": "agg_fine",
         "rawType": "float64",
         "type": "float"
        },
        {
         "name": "age",
         "rawType": "int64",
         "type": "integer"
        },
        {
         "name": "strength",
         "rawType": "float64",
         "type": "float"
        },
        {
         "name": "exp_code",
         "rawType": "object",
         "type": "string"
        },
        {
         "name": "wc_bin",
         "rawType": "category",
         "type": "unknown"
        }
       ],
       "ref": "bf819a4c-b3cf-4a42-b59d-94785c5b96e6",
       "rows": [
        [
         "0",
         "540.0",
         "0.0",
         "0.0",
         "162.0",
         "0.3",
         "False",
         "2.5",
         "1040.0",
         "676.0",
         "28",
         "79.98611076",
         "concrete_mix_0",
         "0.0-0.34"
        ],
        [
         "1",
         "540.0",
         "0.0",
         "0.0",
         "162.0",
         "0.3",
         "False",
         "2.5",
         "1055.0",
         "676.0",
         "28",
         "61.887365759999994",
         "concrete_mix_1",
         "0.0-0.34"
        ],
        [
         "2",
         "332.5",
         "142.5",
         "0.0",
         "228.0",
         "0.48",
         "True",
         "0.0",
         "932.0",
         "594.0",
         "270",
         "40.269535256000005",
         "concrete_mix_2",
         "0.46-0.50"
        ]
       ],
       "shape": {
        "columns": 13,
        "rows": 3
       }
      },
      "text/html": [
       "<div>\n",
       "<style scoped>\n",
       "    .dataframe tbody tr th:only-of-type {\n",
       "        vertical-align: middle;\n",
       "    }\n",
       "\n",
       "    .dataframe tbody tr th {\n",
       "        vertical-align: top;\n",
       "    }\n",
       "\n",
       "    .dataframe thead th {\n",
       "        text-align: right;\n",
       "    }\n",
       "</style>\n",
       "<table border=\"1\" class=\"dataframe\">\n",
       "  <thead>\n",
       "    <tr style=\"text-align: right;\">\n",
       "      <th></th>\n",
       "      <th>cement</th>\n",
       "      <th>bfs</th>\n",
       "      <th>flyash</th>\n",
       "      <th>water</th>\n",
       "      <th>wc</th>\n",
       "      <th>wc_high</th>\n",
       "      <th>sp</th>\n",
       "      <th>agg_coarse</th>\n",
       "      <th>agg_fine</th>\n",
       "      <th>age</th>\n",
       "      <th>strength</th>\n",
       "      <th>exp_code</th>\n",
       "      <th>wc_bin</th>\n",
       "    </tr>\n",
       "  </thead>\n",
       "  <tbody>\n",
       "    <tr>\n",
       "      <th>0</th>\n",
       "      <td>540.0</td>\n",
       "      <td>0.0</td>\n",
       "      <td>0.0</td>\n",
       "      <td>162.0</td>\n",
       "      <td>0.30</td>\n",
       "      <td>False</td>\n",
       "      <td>2.5</td>\n",
       "      <td>1040.0</td>\n",
       "      <td>676.0</td>\n",
       "      <td>28</td>\n",
       "      <td>79.986111</td>\n",
       "      <td>concrete_mix_0</td>\n",
       "      <td>0.0-0.34</td>\n",
       "    </tr>\n",
       "    <tr>\n",
       "      <th>1</th>\n",
       "      <td>540.0</td>\n",
       "      <td>0.0</td>\n",
       "      <td>0.0</td>\n",
       "      <td>162.0</td>\n",
       "      <td>0.30</td>\n",
       "      <td>False</td>\n",
       "      <td>2.5</td>\n",
       "      <td>1055.0</td>\n",
       "      <td>676.0</td>\n",
       "      <td>28</td>\n",
       "      <td>61.887366</td>\n",
       "      <td>concrete_mix_1</td>\n",
       "      <td>0.0-0.34</td>\n",
       "    </tr>\n",
       "    <tr>\n",
       "      <th>2</th>\n",
       "      <td>332.5</td>\n",
       "      <td>142.5</td>\n",
       "      <td>0.0</td>\n",
       "      <td>228.0</td>\n",
       "      <td>0.48</td>\n",
       "      <td>True</td>\n",
       "      <td>0.0</td>\n",
       "      <td>932.0</td>\n",
       "      <td>594.0</td>\n",
       "      <td>270</td>\n",
       "      <td>40.269535</td>\n",
       "      <td>concrete_mix_2</td>\n",
       "      <td>0.46-0.50</td>\n",
       "    </tr>\n",
       "  </tbody>\n",
       "</table>\n",
       "</div>"
      ],
      "text/plain": [
       "   cement    bfs  flyash  water    wc  wc_high   sp  agg_coarse  agg_fine  \\\n",
       "0   540.0    0.0     0.0  162.0  0.30    False  2.5      1040.0     676.0   \n",
       "1   540.0    0.0     0.0  162.0  0.30    False  2.5      1055.0     676.0   \n",
       "2   332.5  142.5     0.0  228.0  0.48     True  0.0       932.0     594.0   \n",
       "\n",
       "   age   strength        exp_code     wc_bin  \n",
       "0   28  79.986111  concrete_mix_0   0.0-0.34  \n",
       "1   28  61.887366  concrete_mix_1   0.0-0.34  \n",
       "2  270  40.269535  concrete_mix_2  0.46-0.50  "
      ]
     },
     "execution_count": 52,
     "metadata": {},
     "output_type": "execute_result"
    }
   ],
   "source": [
    "exp_names = [\"concrete_mix_\" + str(i) for i in df.index.values]\n",
    "df[\"exp_code\"] = exp_names\n",
    "df.head(3)"
   ]
  },
  {
   "cell_type": "markdown",
   "id": "2fb91aea",
   "metadata": {},
   "source": [
    "We will now create a second dataframe which also contains a column with the strings **concrete_mix_** and some random values in a second column."
   ]
  },
  {
   "cell_type": "code",
   "execution_count": 60,
   "id": "9ada6704",
   "metadata": {},
   "outputs": [
    {
     "data": {
      "application/vnd.microsoft.datawrangler.viewer.v0+json": {
       "columns": [
        {
         "name": "index",
         "rawType": "int64",
         "type": "integer"
        },
        {
         "name": "exp_code",
         "rawType": "object",
         "type": "string"
        },
        {
         "name": "new_parameter",
         "rawType": "int64",
         "type": "integer"
        }
       ],
       "ref": "810f0030-254a-49e5-8d85-3d2351d12cb0",
       "rows": [
        [
         "0",
         "concrete_mix_0",
         "255"
        ],
        [
         "1",
         "concrete_mix_1",
         "133"
        ],
        [
         "2",
         "concrete_mix_2",
         "210"
        ]
       ],
       "shape": {
        "columns": 2,
        "rows": 3
       }
      },
      "text/html": [
       "<div>\n",
       "<style scoped>\n",
       "    .dataframe tbody tr th:only-of-type {\n",
       "        vertical-align: middle;\n",
       "    }\n",
       "\n",
       "    .dataframe tbody tr th {\n",
       "        vertical-align: top;\n",
       "    }\n",
       "\n",
       "    .dataframe thead th {\n",
       "        text-align: right;\n",
       "    }\n",
       "</style>\n",
       "<table border=\"1\" class=\"dataframe\">\n",
       "  <thead>\n",
       "    <tr style=\"text-align: right;\">\n",
       "      <th></th>\n",
       "      <th>exp_code</th>\n",
       "      <th>new_parameter</th>\n",
       "    </tr>\n",
       "  </thead>\n",
       "  <tbody>\n",
       "    <tr>\n",
       "      <th>0</th>\n",
       "      <td>concrete_mix_0</td>\n",
       "      <td>255</td>\n",
       "    </tr>\n",
       "    <tr>\n",
       "      <th>1</th>\n",
       "      <td>concrete_mix_1</td>\n",
       "      <td>133</td>\n",
       "    </tr>\n",
       "    <tr>\n",
       "      <th>2</th>\n",
       "      <td>concrete_mix_2</td>\n",
       "      <td>210</td>\n",
       "    </tr>\n",
       "  </tbody>\n",
       "</table>\n",
       "</div>"
      ],
      "text/plain": [
       "         exp_code  new_parameter\n",
       "0  concrete_mix_0            255\n",
       "1  concrete_mix_1            133\n",
       "2  concrete_mix_2            210"
      ]
     },
     "execution_count": 60,
     "metadata": {},
     "output_type": "execute_result"
    }
   ],
   "source": [
    "additional_data = np.random.randint(0, 300, len(df)) \n",
    "df2 = pd.DataFrame({\"exp_code\":exp_names, \"new_parameter\": additional_data})\n",
    "\n",
    "df2.head(3)"
   ]
  },
  {
   "cell_type": "markdown",
   "id": "10c60887",
   "metadata": {},
   "source": [
    "Now the two dataframes `df` and `df2` can easily be joined."
   ]
  },
  {
   "cell_type": "code",
   "execution_count": 61,
   "id": "5f0e9770",
   "metadata": {},
   "outputs": [
    {
     "data": {
      "application/vnd.microsoft.datawrangler.viewer.v0+json": {
       "columns": [
        {
         "name": "index",
         "rawType": "int64",
         "type": "integer"
        },
        {
         "name": "cement",
         "rawType": "float64",
         "type": "float"
        },
        {
         "name": "bfs",
         "rawType": "float64",
         "type": "float"
        },
        {
         "name": "flyash",
         "rawType": "float64",
         "type": "float"
        },
        {
         "name": "water",
         "rawType": "float64",
         "type": "float"
        },
        {
         "name": "wc",
         "rawType": "float64",
         "type": "float"
        },
        {
         "name": "wc_high",
         "rawType": "bool",
         "type": "boolean"
        },
        {
         "name": "sp",
         "rawType": "float64",
         "type": "float"
        },
        {
         "name": "agg_coarse",
         "rawType": "float64",
         "type": "float"
        },
        {
         "name": "agg_fine",
         "rawType": "float64",
         "type": "float"
        },
        {
         "name": "age",
         "rawType": "int64",
         "type": "integer"
        },
        {
         "name": "strength",
         "rawType": "float64",
         "type": "float"
        },
        {
         "name": "exp_code",
         "rawType": "object",
         "type": "string"
        },
        {
         "name": "wc_bin",
         "rawType": "category",
         "type": "unknown"
        },
        {
         "name": "new_parameter",
         "rawType": "int64",
         "type": "integer"
        }
       ],
       "ref": "c5ba98b4-c8f4-4730-89be-c0cb9ec164be",
       "rows": [
        [
         "0",
         "540.0",
         "0.0",
         "0.0",
         "162.0",
         "0.3",
         "False",
         "2.5",
         "1040.0",
         "676.0",
         "28",
         "79.98611076",
         "concrete_mix_0",
         "0.0-0.34",
         "255"
        ],
        [
         "1",
         "540.0",
         "0.0",
         "0.0",
         "162.0",
         "0.3",
         "False",
         "2.5",
         "1055.0",
         "676.0",
         "28",
         "61.887365759999994",
         "concrete_mix_1",
         "0.0-0.34",
         "133"
        ],
        [
         "2",
         "332.5",
         "142.5",
         "0.0",
         "228.0",
         "0.48",
         "True",
         "0.0",
         "932.0",
         "594.0",
         "270",
         "40.269535256000005",
         "concrete_mix_2",
         "0.46-0.50",
         "210"
        ]
       ],
       "shape": {
        "columns": 14,
        "rows": 3
       }
      },
      "text/html": [
       "<div>\n",
       "<style scoped>\n",
       "    .dataframe tbody tr th:only-of-type {\n",
       "        vertical-align: middle;\n",
       "    }\n",
       "\n",
       "    .dataframe tbody tr th {\n",
       "        vertical-align: top;\n",
       "    }\n",
       "\n",
       "    .dataframe thead th {\n",
       "        text-align: right;\n",
       "    }\n",
       "</style>\n",
       "<table border=\"1\" class=\"dataframe\">\n",
       "  <thead>\n",
       "    <tr style=\"text-align: right;\">\n",
       "      <th></th>\n",
       "      <th>cement</th>\n",
       "      <th>bfs</th>\n",
       "      <th>flyash</th>\n",
       "      <th>water</th>\n",
       "      <th>wc</th>\n",
       "      <th>wc_high</th>\n",
       "      <th>sp</th>\n",
       "      <th>agg_coarse</th>\n",
       "      <th>agg_fine</th>\n",
       "      <th>age</th>\n",
       "      <th>strength</th>\n",
       "      <th>exp_code</th>\n",
       "      <th>wc_bin</th>\n",
       "      <th>new_parameter</th>\n",
       "    </tr>\n",
       "  </thead>\n",
       "  <tbody>\n",
       "    <tr>\n",
       "      <th>0</th>\n",
       "      <td>540.0</td>\n",
       "      <td>0.0</td>\n",
       "      <td>0.0</td>\n",
       "      <td>162.0</td>\n",
       "      <td>0.30</td>\n",
       "      <td>False</td>\n",
       "      <td>2.5</td>\n",
       "      <td>1040.0</td>\n",
       "      <td>676.0</td>\n",
       "      <td>28</td>\n",
       "      <td>79.986111</td>\n",
       "      <td>concrete_mix_0</td>\n",
       "      <td>0.0-0.34</td>\n",
       "      <td>255</td>\n",
       "    </tr>\n",
       "    <tr>\n",
       "      <th>1</th>\n",
       "      <td>540.0</td>\n",
       "      <td>0.0</td>\n",
       "      <td>0.0</td>\n",
       "      <td>162.0</td>\n",
       "      <td>0.30</td>\n",
       "      <td>False</td>\n",
       "      <td>2.5</td>\n",
       "      <td>1055.0</td>\n",
       "      <td>676.0</td>\n",
       "      <td>28</td>\n",
       "      <td>61.887366</td>\n",
       "      <td>concrete_mix_1</td>\n",
       "      <td>0.0-0.34</td>\n",
       "      <td>133</td>\n",
       "    </tr>\n",
       "    <tr>\n",
       "      <th>2</th>\n",
       "      <td>332.5</td>\n",
       "      <td>142.5</td>\n",
       "      <td>0.0</td>\n",
       "      <td>228.0</td>\n",
       "      <td>0.48</td>\n",
       "      <td>True</td>\n",
       "      <td>0.0</td>\n",
       "      <td>932.0</td>\n",
       "      <td>594.0</td>\n",
       "      <td>270</td>\n",
       "      <td>40.269535</td>\n",
       "      <td>concrete_mix_2</td>\n",
       "      <td>0.46-0.50</td>\n",
       "      <td>210</td>\n",
       "    </tr>\n",
       "  </tbody>\n",
       "</table>\n",
       "</div>"
      ],
      "text/plain": [
       "   cement    bfs  flyash  water    wc  wc_high   sp  agg_coarse  agg_fine  \\\n",
       "0   540.0    0.0     0.0  162.0  0.30    False  2.5      1040.0     676.0   \n",
       "1   540.0    0.0     0.0  162.0  0.30    False  2.5      1055.0     676.0   \n",
       "2   332.5  142.5     0.0  228.0  0.48     True  0.0       932.0     594.0   \n",
       "\n",
       "   age   strength        exp_code     wc_bin  new_parameter  \n",
       "0   28  79.986111  concrete_mix_0   0.0-0.34            255  \n",
       "1   28  61.887366  concrete_mix_1   0.0-0.34            133  \n",
       "2  270  40.269535  concrete_mix_2  0.46-0.50            210  "
      ]
     },
     "execution_count": 61,
     "metadata": {},
     "output_type": "execute_result"
    }
   ],
   "source": [
    "# join by index\n",
    "df_joined = pd.merge(df, df2, on=\"exp_code\")\n",
    "\n",
    "df_joined.head(3)"
   ]
  },
  {
   "cell_type": "markdown",
   "id": "a236598f",
   "metadata": {},
   "source": [
    "The exploratory data analysis of a dataset is very important in understanding the relations between the parameters (i.e., the columns). For the concrete dataset we have 1030 compressive strength tests. We already know that the compressive strength of a concrete depends on the w/c value, the curing duration, and the cement content. \n",
    "\n",
    "We begin by exploring the relation between w/c ratio and strength."
   ]
  },
  {
   "cell_type": "code",
   "execution_count": 64,
   "id": "f230f51e",
   "metadata": {},
   "outputs": [
    {
     "data": {
      "image/png": "[encoded data removed]",
      "text/plain": [
       "<Figure size 640x480 with 1 Axes>"
      ]
     },
     "metadata": {},
     "output_type": "display_data"
    }
   ],
   "source": [
    "fig, ax = plt.subplots()\n",
    "ax.scatter(df[\"wc\"], df[\"strength\"])\n",
    "ax.set_xlabel(\"w/c\")\n",
    "ax.set_ylabel(\"Strength / MPa\")\n",
    "plt.show()"
   ]
  },
  {
   "cell_type": "markdown",
   "id": "06512e45",
   "metadata": {},
   "source": [
    "There is a clear downward trend in the data with increasing w/c values. The most important parameter to take into account now is the curing age of the concrete. We will filter the dataset to include 3, 7, and 28 days."
   ]
  },
  {
   "cell_type": "code",
   "execution_count": 71,
   "id": "9abc09e5",
   "metadata": {},
   "outputs": [
    {
     "data": {
      "image/png": "[encoded data removed]",
      "text/plain": [
       "<Figure size 640x480 with 1 Axes>"
      ]
     },
     "metadata": {},
     "output_type": "display_data"
    },
    {
     "data": {
      "image/png": "[encoded data removed]",
      "text/plain": [
       "<Figure size 640x480 with 1 Axes>"
      ]
     },
     "metadata": {},
     "output_type": "display_data"
    },
    {
     "data": {
      "image/png": "[encoded data removed]",
      "text/plain": [
       "<Figure size 640x480 with 1 Axes>"
      ]
     },
     "metadata": {},
     "output_type": "display_data"
    }
   ],
   "source": [
    "for name, group in df.query(\"age in [3, 7, 28]\").groupby(\"age\"):\n",
    "    fig, ax = plt.subplots()\n",
    "    ax.scatter(group[\"wc\"], group[\"strength\"])\n",
    "    ax.set_title(f\"Age {name} days\")\n",
    "    ax.set_xlabel(\"w/c\")\n",
    "    ax.set_ylabel(\"Strength / MPa\")\n",
    "    plt.show()\n",
    "    \n"
   ]
  },
  {
   "cell_type": "markdown",
   "id": "ee4899f3",
   "metadata": {},
   "source": [
    "It would be nice to create a diagram with subplots so that the differences are far more easy to distinguish. This can be done in matplotlib using subplots. Here we are creating 1 row and 3 columns of subplots.\n",
    "\n",
    "Next we need to loop through the filtered and grouped data and simultaneously through the list containing the axes objects for the individual subplots. This can be achieved with the `zip` command in python. Because the `groupby` method returns two objects, we need to use brackets with the declaration of the loop. The parameter `observed = True` is necessary to suppress a deprecation warning. Feel free to ignore this at the moment."
   ]
  },
  {
   "cell_type": "code",
   "execution_count": 85,
   "id": "b82114ea",
   "metadata": {},
   "outputs": [
    {
     "data": {
      "image/png": "[encoded data removed]",
      "text/plain": [
       "<Figure size 900x400 with 3 Axes>"
      ]
     },
     "metadata": {},
     "output_type": "display_data"
    }
   ],
   "source": [
    "fig, axs = plt.subplots(1,3, layout=\"tight\", figsize=(9,4))\n",
    "\n",
    "for (name, group), ax in zip(df.query(\"age in [3, 7, 28]\").groupby(\"age\", observed=True), axs.flatten()):\n",
    "    ax.scatter(group[\"wc\"], group[\"strength\"], s=4)\n",
    "    ax.set_title(f\" Age {name} days\")\n",
    "    ax.set_xlabel(\"w/c\")\n",
    "    ax.set_ylim(0,90)\n",
    "axs[0].set_ylabel(\"Strength / MPa\")\n",
    "plt.show()\n"
   ]
  },
  {
   "cell_type": "code",
   "execution_count": null,
   "id": "fdc9594c",
   "metadata": {},
   "outputs": [
    {
     "data": {
      "application/vnd.microsoft.datawrangler.viewer.v0+json": {
       "columns": [
        {
         "name": "age",
         "rawType": "int64",
         "type": "integer"
        },
        {
         "name": "a",
         "rawType": "float64",
         "type": "float"
        },
        {
         "name": "b",
         "rawType": "float64",
         "type": "float"
        },
        {
         "name": "c",
         "rawType": "float64",
         "type": "float"
        },
        {
         "name": "r_squared",
         "rawType": "float64",
         "type": "float"
        }
       ],
       "ref": "05c79142-1fc3-4d8b-a8a4-d9d16743e821",
       "rows": [
        [
         "3",
         "124.46684732114625",
         "5.188563894673889",
         "4.747868439083555",
         "0.7716382471091283"
        ],
        [
         "7",
         "238.23112436028163",
         "6.663068924263135",
         "10.609568171610716",
         "0.7760704346715462"
        ],
        [
         "28",
         "187.43461812921257",
         "4.771203779598718",
         "13.138392788858983",
         "0.6555434761712208"
        ]
       ],
       "shape": {
        "columns": 4,
        "rows": 3
       }
      },
      "text/html": [
       "<div>\n",
       "<style scoped>\n",
       "    .dataframe tbody tr th:only-of-type {\n",
       "        vertical-align: middle;\n",
       "    }\n",
       "\n",
       "    .dataframe tbody tr th {\n",
       "        vertical-align: top;\n",
       "    }\n",
       "\n",
       "    .dataframe thead th {\n",
       "        text-align: right;\n",
       "    }\n",
       "</style>\n",
       "<table border=\"1\" class=\"dataframe\">\n",
       "  <thead>\n",
       "    <tr style=\"text-align: right;\">\n",
       "      <th></th>\n",
       "      <th>a</th>\n",
       "      <th>b</th>\n",
       "      <th>c</th>\n",
       "      <th>r_squared</th>\n",
       "    </tr>\n",
       "    <tr>\n",
       "      <th>age</th>\n",
       "      <th></th>\n",
       "      <th></th>\n",
       "      <th></th>\n",
       "      <th></th>\n",
       "    </tr>\n",
       "  </thead>\n",
       "  <tbody>\n",
       "    <tr>\n",
       "      <th>3</th>\n",
       "      <td>124.466847</td>\n",
       "      <td>5.188564</td>\n",
       "      <td>4.747868</td>\n",
       "      <td>0.771638</td>\n",
       "    </tr>\n",
       "    <tr>\n",
       "      <th>7</th>\n",
       "      <td>238.231124</td>\n",
       "      <td>6.663069</td>\n",
       "      <td>10.609568</td>\n",
       "      <td>0.776070</td>\n",
       "    </tr>\n",
       "    <tr>\n",
       "      <th>28</th>\n",
       "      <td>187.434618</td>\n",
       "      <td>4.771204</td>\n",
       "      <td>13.138393</td>\n",
       "      <td>0.655543</td>\n",
       "    </tr>\n",
       "  </tbody>\n",
       "</table>\n",
       "</div>"
      ],
      "text/plain": [
       "              a         b          c  r_squared\n",
       "age                                            \n",
       "3    124.466847  5.188564   4.747868   0.771638\n",
       "7    238.231124  6.663069  10.609568   0.776070\n",
       "28   187.434618  4.771204  13.138393   0.655543"
      ]
     },
     "execution_count": 86,
     "metadata": {},
     "output_type": "execute_result"
    }
   ],
   "source": [
    "\n",
    "from scipy.optimize import curve_fit\n",
    "\n",
    "# define function to fit\n",
    "def exponential(x, a,b,c):\n",
    "    return c + a * np.exp(-b*x)\n",
    "\n",
    "# define function which returns the best fit parameters as a pandas Series\n",
    "def fit_exponential(df, xcol=\"wc\", ycol=\"strength\"):\n",
    "    f = exponential\n",
    "    popt, pcov = curve_fit(f, df[xcol], df[ycol], maxfev=10000)\n",
    "    \n",
    "    # Calculate R-squared\n",
    "    y_actual = df[ycol]\n",
    "    y_predicted = f(df[xcol], *popt)\n",
    "    ss_res = np.sum((y_actual - y_predicted) ** 2)\n",
    "    ss_tot = np.sum((y_actual - np.mean(y_actual)) ** 2)\n",
    "    r_squared = 1 - (ss_res / ss_tot)\n",
    "    \n",
    "    out = {\"a\": popt[0], \"b\": popt[1], \"c\": popt[2], \"r_squared\": r_squared}\n",
    "    return pd.Series(out)\n",
    "\n",
    "fits = df.query(\"age in [3, 7, 28]\").groupby(\"age\").apply(lambda t: fit_exponential(t), include_groups=False)\n",
    "\n",
    "fits"
   ]
  },
  {
   "cell_type": "markdown",
   "id": "883b6ca6",
   "metadata": {},
   "source": [
    "It is very important to check the quality of the fits. We are going to plot the fits together with the fitted raw data. \n"
   ]
  },
  {
   "cell_type": "code",
   "execution_count": 84,
   "id": "31e1361d",
   "metadata": {},
   "outputs": [
    {
     "data": {
      "text/plain": [
       "[]"
      ]
     },
     "execution_count": 84,
     "metadata": {},
     "output_type": "execute_result"
    },
    {
     "data": {
      "image/png": "[encoded data removed]",
      "text/plain": [
       "<Figure size 640x480 with 1 Axes>"
      ]
     },
     "metadata": {},
     "output_type": "display_data"
    }
   ],
   "source": [
    "x = np.linspace(df.wc.min(), df.wc.max(),100)\n",
    "\n",
    "fig, ax = plt.subplots()\n",
    "for index, row in fits.iterrows():\n",
    "    y = row[\"c\"] + row[\"a\"] * np.exp(-row[\"b\"]*x)\n",
    "    ax.plot(x,y)\n",
    "for name, group in df.query(\"age in [3,7,28] \").groupby(\"age\"):\n",
    "    ax.scatter(group[\"wc\"], group[\"strength\"], s=8, alpha =0.5, label=name)\n",
    "ax.set_xlim(0.22, 0.8)\n",
    "ax.set_ylim(0, 90)\n",
    "ax.set_xlabel(\"w/c\")\n",
    "ax.set_ylabel(\"$\\sigma_c$ / MPa\")\n",
    "plt.legend(title=\"Age / Days\")\n",
    "plt.plot()"
   ]
  }
 ],
 "metadata": {
  "kernelspec": {
   "display_name": "science-venv",
   "language": "python",
   "name": "python3"
  },
  "language_info": {
   "codemirror_mode": {
    "name": "ipython",
    "version": 3
   },
   "file_extension": ".py",
   "mimetype": "text/x-python",
   "name": "python",
   "nbconvert_exporter": "python",
   "pygments_lexer": "ipython3",
   "version": "3.10.12"
  }
 },
 "nbformat": 4,
 "nbformat_minor": 5
}
