{
 "cells": [
  {
   "cell_type": "markdown",
   "id": "062c549d",
   "metadata": {},
   "source": [
    "# CaloCem \n",
    "\n",
    "CaloCem is a package for processing cement calorimetry data. https://github.com/mj-hofmann/CaloCem. Currently, it can only process TA Instrument type calorimetry files.\n",
    "\n",
    "Here, we are demonstrating basic functionality.\n",
    "\n",
    "[![Open In Colab](https://colab.research.google.com/assets/colab-badge.svg)](https://colab.research.google.com/github/tgaedt/workshop_uv/blob/main/notebooks/3_calocem.ipynb)\n",
    "\n"
   ]
  },
  {
   "cell_type": "code",
   "execution_count": null,
   "id": "83369bbe",
   "metadata": {},
   "outputs": [],
   "source": [
    "!pip install calocem"
   ]
  },
  {
   "cell_type": "code",
   "execution_count": null,
   "id": "03d08d82",
   "metadata": {},
   "outputs": [],
   "source": [
    "%%bash\n",
    "\n",
    "git clone --depth 1 --filter=blob:none --sparse https://github.com/tgaedt/workshop_uv.git\n",
    "\n",
    "cd workshop_uv\n",
    "git sparse-checkout set data"
   ]
  },
  {
   "cell_type": "code",
   "execution_count": null,
   "id": "91b03650",
   "metadata": {},
   "outputs": [],
   "source": [
    "import calocem.tacalorimetry as cct\n",
    "from pathlib import Path\n",
    "import matplotlib.pyplot as plt\n",
    "\n",
    "calodatapath = Path(\"workshop_uv/data/calo/\")\n",
    "metadata = Path(\"workshop_uv/data/metadata_calo/metadata.csv\")\n",
    "\n",
    "\n",
    "tam = cct.Measurement(calodatapath, processed=True, new_code=True)"
   ]
  },
  {
   "cell_type": "code",
   "execution_count": null,
   "id": "f3829b53",
   "metadata": {},
   "outputs": [],
   "source": [
    "tam.plot()"
   ]
  },
  {
   "cell_type": "code",
   "execution_count": null,
   "id": "a7856d5c",
   "metadata": {},
   "outputs": [],
   "source": [
    "tam.add_metadata_source(metadata, sample_id_column=\"sample\")\n",
    "\n",
    "plots = tam.plot_by_category(categories=\"additive_name\")\n",
    "\n",
    "for plot in plots:\n",
    "    plt.show()"
   ]
  },
  {
   "cell_type": "code",
   "execution_count": null,
   "id": "1388f7ed",
   "metadata": {},
   "outputs": [],
   "source": [
    "from calocem.processparams import ProcessingParameters\n",
    "processparams = ProcessingParameters()\n",
    "\n",
    "processparams.spline_interpolation.apply = True\n",
    "processparams.spline_interpolation.smoothing_1st_deriv = 1e-11\n",
    "# processparams.gradient_peakdetection.use_largest_width_heigth = True\n",
    "processparams.gradient_peakdetection.prominence = 1e-7\n",
    "\n",
    "tam.get_maximum_slope(processparams=processparams, show_plot=True)\n"
   ]
  },
  {
   "cell_type": "code",
   "execution_count": null,
   "id": "52872f5f",
   "metadata": {},
   "outputs": [],
   "source": [
    "onsets = tam.get_peak_onset_via_max_slope(processparams=processparams, show_plot=True)"
   ]
  },
  {
   "cell_type": "code",
   "execution_count": null,
   "id": "9a807268",
   "metadata": {},
   "outputs": [],
   "source": [
    "import pandas as pd\n",
    "\n",
    "onsets = pd.merge(onsets, tam._metadata, left_on=\"sample_short\", right_on=\"sample\")\n",
    "onsets"
   ]
  },
  {
   "cell_type": "code",
   "execution_count": null,
   "id": "e446adb7",
   "metadata": {},
   "outputs": [],
   "source": [
    "for samplename, sampledata in onsets.groupby(\"additive_name\"):\n",
    "    fig, ax = plt.subplots()\n",
    "    ax.scatter(sampledata[\"dosage\"], sampledata[\"onset_time_s\"])\n",
    "    ax.set_title(samplename)\n",
    "    plt.show()"
   ]
  },
  {
   "cell_type": "code",
   "execution_count": null,
   "id": "70ed2f83",
   "metadata": {},
   "outputs": [],
   "source": [
    "def create_reference_data(dfm, sample_code, retarders):\n",
    "    data = dfm.copy()\n",
    "    mask = data[\"additive_name\"] == sample_code\n",
    "    data.loc[mask, \"additive_name\"] = data.loc[mask, \"additive_name\"].apply(lambda x: retarders)\n",
    "    data = data.explode(\"additive_name\")\n",
    "    return data\n",
    "\n",
    "onsets_ref = create_reference_data(onsets, \"reference\", [\"sucrose\", \"glucose\"])\n",
    "\n"
   ]
  },
  {
   "cell_type": "code",
   "execution_count": null,
   "id": "b9bd2b04",
   "metadata": {},
   "outputs": [],
   "source": [
    "fig, ax = plt.subplots()\n",
    "\n",
    "for samplename, sampledata in onsets_ref.groupby(\"additive_name\"):\n",
    "    ax.scatter(sampledata[\"dosage\"], sampledata[\"onset_time_s\"], label=samplename)\n",
    "    ax.set_xlabel(\"Dosage [µmol/g]\")\n",
    "    ax.set_ylabel(\"Onset Time [s]\")\n",
    "    ax.legend()"
   ]
  }
 ],
 "metadata": {
  "kernelspec": {
   "display_name": "workshop-uv",
   "language": "python",
   "name": "python3"
  },
  "language_info": {
   "codemirror_mode": {
    "name": "ipython",
    "version": 3
   },
   "file_extension": ".py",
   "mimetype": "text/x-python",
   "name": "python",
   "nbconvert_exporter": "python",
   "pygments_lexer": "ipython3",
   "version": "3.13.2"
  }
 },
 "nbformat": 4,
 "nbformat_minor": 5
}
