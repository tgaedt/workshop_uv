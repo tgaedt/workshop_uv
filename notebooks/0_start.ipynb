{
 "cells": [
  {
   "cell_type": "markdown",
   "id": "daa448c4",
   "metadata": {},
   "source": [
    "[![Open In Colab](https://colab.research.google.com/assets/colab-badge.svg)](https://github.com/tgaedt/workshop_uv/tree/main/notebooks/0_start.ipynb)\n",
    "\n",
    "# Start here"
   ]
  }
 ],
 "metadata": {
  "language_info": {
   "name": "python"
  }
 },
 "nbformat": 4,
 "nbformat_minor": 5
}
