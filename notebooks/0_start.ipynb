{
 "cells": [
  {
   "cell_type": "markdown",
   "id": "daa448c4",
   "metadata": {},
   "source": [
    "[![Open In Colab](https://colab.research.google.com/assets/colab-badge.svg)](https://colab.research.google.com/github/tgaedt/workshop_uv/blob/main/notebooks/0_start.ipynb)\n",
    "\n"
   ]
  },
  {
   "cell_type": "markdown",
   "id": "c8c24898",
   "metadata": {},
   "source": [
    "## Execute the following cell to clone the data in the github folder to the colab runtime"
   ]
  },
  {
   "cell_type": "code",
   "execution_count": null,
   "id": "7880c9a7",
   "metadata": {
    "vscode": {
     "languageId": "plaintext"
    }
   },
   "outputs": [],
   "source": [
    "%%bash\n",
    "\n",
    "git clone --depth 1 --filter=blob:none --sparse https://github.com/tgaedt/workshop_uv.git\n",
    "\n",
    "cd workshop_uv\n",
    "git sparse-checkout set data"
   ]
  }
 ],
 "metadata": {
  "language_info": {
   "name": "python"
  }
 },
 "nbformat": 4,
 "nbformat_minor": 5
}
