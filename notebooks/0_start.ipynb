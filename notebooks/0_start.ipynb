{
 "cells": [
  {
   "cell_type": "markdown",
   "id": "daa448c4",
   "metadata": {},
   "source": [
    "[![Open In Colab](https://colab.research.google.com/assets/colab-badge.svg)](https://colab.research.google.com/github/tgaedt/workshop_uv/blob/main/notebooks/0_start.ipynb)\n",
    "\n"
   ]
  },
  {
   "cell_type": "code",
   "execution_count": null,
   "id": "7880c9a7",
   "metadata": {},
   "outputs": [],
   "source": [
    "%%bash\n",
    "\n",
    "git clone --depth 1 --filter=blob:none --sparse https://github.com/tgaedt/workshop_uv.git\n",
    "\n",
    "cd workshop_uv\n",
    "git sparse-checkout set data"
   ]
  },
  {
   "cell_type": "markdown",
   "id": "a15236bf",
   "metadata": {},
   "source": [
    "# Data Exploration and Visualization of Calorimetry Data\n",
    "\n",
    "The code above creates a folder inside the colab runtime with the calorimetry data. This is ephemeral data, i.e., it is lost when the colab runtime is shutdown (which happens automatically).\n",
    "\n",
    "Next, we will show how the data can be loaded and plotted using conventional tools such as `pandas` and `matplotlib`.\n",
    "\n",
    "\n"
   ]
  },
  {
   "cell_type": "code",
   "execution_count": null,
   "id": "f90e29af",
   "metadata": {},
   "outputs": [],
   "source": [
    "import pandas as pd\n",
    "import matplotlib.pyplot as plt\n",
    "\n",
    "folder = pathlib.Path(\"workshop_uv/data/calo\")\n",
    "\n",
    "df = pd.concat(\n",
    "    [pd.read_csv(f) for f in folder.glob(\"*.csv\")],\n",
    ")"
   ]
  }
 ],
 "metadata": {
  "kernelspec": {
   "display_name": "workshop-uv",
   "language": "python",
   "name": "python3"
  },
  "language_info": {
   "codemirror_mode": {
    "name": "ipython",
    "version": 3
   },
   "file_extension": ".py",
   "mimetype": "text/x-python",
   "name": "python",
   "nbconvert_exporter": "python",
   "pygments_lexer": "ipython3",
   "version": "3.13.2"
  }
 },
 "nbformat": 4,
 "nbformat_minor": 5
}
