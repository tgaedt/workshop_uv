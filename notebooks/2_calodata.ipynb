{
 "cells": [
  {
   "cell_type": "markdown",
   "id": "ef1ec61f",
   "metadata": {},
   "source": [
    "# Basic demonstration of Pandas and Matplotlib using heat flow calorimetry data\n",
    "\n",
    "This notebook demonstrates data import and processing of isothermal heat flow calorimetry data of C3S pastes containing two different additives. The experiments in the dataset are described in the following table.\n",
    "\n",
    "| Experiment Code | Water Amount g | C3S Amount g | Additive Name | Additive Dosage mmol/L |\n",
    "|-----------------|----------------|--------------|---------------|------------------------|\n",
    "| JAA_CAL714      | 1.6            | 4            | Sucrose       | 0.25                   |\n",
    "| JAA_CAL715      | 1.6            | 4            | Sucrose       | 0.5                    |\n",
    "| JAA_CAL716      | 1.6            | 4            | Sucrose       | 0.75                   |\n",
    "| JAA_CAL717      | 1.6            | 4            | Sucrose       | 1                      |\n",
    "| JAA_CAL718      | 1.6            | 4            | Glucose       | 0.25                   |\n",
    "| JAA_CAL719      | 1.6            | 4            | Glucose       | 0.5                    |\n",
    "| JAA_CAL720      | 1.6            | 4            | Glucose       | 0.75                   |\n",
    "| JAA_CAL721      | 1.6            | 4            | Glucose       | 1                      |\n",
    "| JAA_CAL722      | 2              | 4            | Reference     | 0                      |"
   ]
  },
  {
   "cell_type": "markdown",
   "id": "daa448c4",
   "metadata": {},
   "source": [
    "[![Open In Colab](https://colab.research.google.com/assets/colab-badge.svg)](https://colab.research.google.com/github/tgaedt/workshop_uv/blob/main/notebooks/2_calodata.ipynb)\n",
    "\n"
   ]
  },
  {
   "cell_type": "code",
   "execution_count": null,
   "id": "7880c9a7",
   "metadata": {},
   "outputs": [],
   "source": [
    "%%bash\n",
    "\n",
    "git clone --depth 1 --filter=blob:none --sparse https://github.com/tgaedt/workshop_uv.git\n",
    "\n",
    "cd workshop_uv\n",
    "git sparse-checkout set data"
   ]
  },
  {
   "cell_type": "markdown",
   "id": "a15236bf",
   "metadata": {},
   "source": [
    "# Data Exploration and Visualization of Calorimetry Data\n",
    "\n",
    "The code above creates a folder inside the colab runtime with the calorimetry data. This is ephemeral data, i.e., it is lost when the colab runtime is shutdown (which happens automatically).\n",
    "\n",
    "Next, we will show how the data can be loaded and plotted using conventional tools such as `pandas` and `matplotlib`. Therefore, we have to import the respective libraries. If this is run in google colab, no `pip install` is necessary as these popular libraries come pre-installed in a google colab runtime. \n",
    "\n",
    "## Defining folders\n",
    "We use the popular library `pathlib` to define the folder containing the `.csv` files with the calorimetry data.\n",
    "Furthermore, a list of dataframes can be created using a list comprehension. First, we use the glob() methof of the Path object to create a list of the filenames in the folder that end with .csv."
   ]
  },
  {
   "cell_type": "code",
   "execution_count": null,
   "id": "f90e29af",
   "metadata": {},
   "outputs": [],
   "source": [
    "import pandas as pd\n",
    "import matplotlib.pyplot as plt\n",
    "import pathlib\n",
    "\n",
    "folder = pathlib.Path(\"workshop_uv/data/calo\")\n",
    "\n",
    "[f for f in folder.glob(\"*.csv\")]\n",
    "\n",
    "# for f in folder.glob(\"*.csv\"):\n",
    "#     print(f)"
   ]
  },
  {
   "cell_type": "markdown",
   "id": "83ccc2d0",
   "metadata": {},
   "source": [
    "Next, we create a list of dataframes, i.e., a list of which each element is itself a dataframe object."
   ]
  },
  {
   "cell_type": "code",
   "execution_count": null,
   "id": "1c550cc3",
   "metadata": {},
   "outputs": [],
   "source": [
    "df_list = [pd.read_csv(f) for f in folder.glob(\"*.csv\")]\n",
    "df_list"
   ]
  },
  {
   "cell_type": "markdown",
   "id": "e00b822f",
   "metadata": {},
   "source": [
    "The concat() method allows easy concatenation of a list of dataframes. We can thus easily transform the dataframe list into one large dataframe containing the data from all read csv files."
   ]
  },
  {
   "cell_type": "code",
   "execution_count": null,
   "id": "2fa282e9",
   "metadata": {},
   "outputs": [],
   "source": [
    "df = pd.concat(df_list)\n",
    "df.head(4)"
   ]
  },
  {
   "cell_type": "markdown",
   "id": "413ef57b",
   "metadata": {},
   "source": [
    "## Plotting\n",
    "The data can now easily be plotted using a for loop combined with pandas groupby. The column `sample_short` contains the filename of each original file and is a suitable grouping variable."
   ]
  },
  {
   "cell_type": "code",
   "execution_count": null,
   "id": "eed09ff0",
   "metadata": {},
   "outputs": [],
   "source": [
    "fig, ax = plt.subplots()\n",
    "for smp, smp_df in df.groupby(\"sample_short\"):\n",
    "    ax.plot(smp_df.time_s/3600, smp_df.normalized_heat_flow_w_g*1000, label=smp)\n",
    "\n",
    "ax.set_xlabel(\"Time (h)\")\n",
    "ax.set_ylabel(\"Normalized Heat Flow (mW/g)\")\n",
    "plt.legend()\n",
    "plt.show()"
   ]
  },
  {
   "cell_type": "markdown",
   "id": "9ef9ca0d",
   "metadata": {},
   "source": [
    "This can be achieved using Seaborn as plotting library in a more straightforward approach:\n"
   ]
  },
  {
   "cell_type": "code",
   "execution_count": null,
   "id": "5294e488",
   "metadata": {},
   "outputs": [],
   "source": [
    "import seaborn as sns\n",
    "\n",
    "sns.lineplot(data=df, x=\"time_s\", y=\"normalized_heat_flow_w_g\", hue=\"sample_short\")\n",
    "plt.xlabel(\"Time / s\")\n",
    "plt.ylabel(\"Normalized Heat Flow / $mWg$^{-1}$\")\n",
    "plt.show()"
   ]
  },
  {
   "cell_type": "markdown",
   "id": "f016ca75",
   "metadata": {},
   "source": [
    "## Combining metadata with the calorimetry data\n",
    "\n",
    "The metadata of these experiments is also available as a csv file in the folder `workshop_uv/data/metadata_calo/metadata.csv`. We can easily load it using the Pandas method `read_csv()`.\n",
    "\n",
    "The data is also shown below. It contains the dosages, the dates, the name of the operator, the name of the cement, etc. "
   ]
  },
  {
   "cell_type": "code",
   "execution_count": null,
   "id": "bdec9705",
   "metadata": {},
   "outputs": [],
   "source": [
    "metadf = pd.read_csv(\"workshop_uv/data/metadata_calo/metadata.csv\")\n",
    "\n",
    "metadf.head(3)"
   ]
  },
  {
   "cell_type": "markdown",
   "id": "9cc68499",
   "metadata": {},
   "source": [
    "We now join the metadata with the experimental data. Therefore, we use the `merge()` method."
   ]
  },
  {
   "cell_type": "code",
   "execution_count": null,
   "id": "17119605",
   "metadata": {},
   "outputs": [],
   "source": [
    "dfm = pd.merge(df, metadf, left_on=\"sample_short\", right_on=\"sample\")\n",
    "dfm.head(5)"
   ]
  },
  {
   "cell_type": "markdown",
   "id": "09a8c427",
   "metadata": {},
   "source": [
    "Now we are able to group our data more meaningfully than shown above. All experiments were done with C3S as the binder and two different retarding molecules: glucose and sucrose. Furthermore, the reference data without any retarder is also available. We group by the column `additive_name` first. This will create a plot for each additive. In a second nested loop, we use the variable `dosage_additive_micromol_g_cem` to group the data by the dosage used."
   ]
  },
  {
   "cell_type": "code",
   "execution_count": null,
   "id": "d29ed256",
   "metadata": {},
   "outputs": [],
   "source": [
    "for additive, additive_data in dfm.groupby(\"additive_name\"):\n",
    "    fig, ax = plt.subplots()\n",
    "    for dosage, dosage_data in additive_data.groupby(\"dosage_additive_micromol_g_cem\"):\n",
    "        ax.plot(dosage_data[\"time_s\"], dosage_data[\"normalized_heat_flow_w_g\"], label=dosage)\n",
    "    ax.set_title(f\"Additive: {additive}\")\n",
    "    ax.set_xlabel(\"Time / s\")\n",
    "    ax.set_ylabel(\"Normalized Heat Flow / Wg$^{-1}$\")\n",
    "    ax.legend(title=\"Dosage (µmol/g C$_{3}$S)\")\n",
    "    plt.show()"
   ]
  },
  {
   "cell_type": "markdown",
   "id": "00cfe4aa",
   "metadata": {},
   "source": [
    "Another plotting option is based on seaborn. It is generally much slower than the pure matplotlib method. Some might find it more convenient to control the look and structure of these plots."
   ]
  },
  {
   "cell_type": "code",
   "execution_count": null,
   "id": "01fde8f8",
   "metadata": {},
   "outputs": [],
   "source": [
    "dfm[\"time_h\"] = dfm[\"time_s\"] / 3600\n",
    "\n",
    "g = sns.FacetGrid(dfm, col=\"additive_name\", hue=\"dosage_additive_micromol_g_cem\", sharey=True, legend_out=True, despine=False)\n",
    "g.map(sns.lineplot, \"time_h\", \"normalized_heat_flow_w_g\")\n",
    "g.add_legend(title=\"Dosage\",)"
   ]
  },
  {
   "cell_type": "markdown",
   "id": "aeb2ea35",
   "metadata": {},
   "source": [
    "A drawback of the above plots is that the reference sample should ideally be contained in both the glucose and sucrose plots too. I.e., as the sample with a dosage of 0.0.\n",
    "We need to overwrite the cells in the `additive_name` column with a list containing the names of the samples we are interested in, here we need a list `[\"glucose\", \"sucrose\"]`. In the following step, we can use the `explode()` method to create new rows with the retarder names."
   ]
  },
  {
   "cell_type": "code",
   "execution_count": null,
   "id": "87495024",
   "metadata": {},
   "outputs": [],
   "source": [
    "def create_reference_data(dfm, sample_code, retarders):\n",
    "    data = dfm.copy()\n",
    "    mask = data[\"additive_name\"] == sample_code\n",
    "    data.loc[mask, \"additive_name\"] = data.loc[mask, \"additive_name\"].apply(lambda x: retarders)\n",
    "    data = data.explode(\"additive_name\")\n",
    "    return data\n",
    "\n",
    "retarders = [\"sucrose\", \"glucose\"]\n",
    "df_ref = create_reference_data(dfm, \"reference\", retarders)\n"
   ]
  },
  {
   "cell_type": "code",
   "execution_count": null,
   "id": "01c6a99d",
   "metadata": {},
   "outputs": [],
   "source": [
    "# Plotting\n",
    "fig, axs = plt.subplots(1,2, figsize=(6,3), sharey=True)\n",
    "for (additive, additive_data), ax in zip(df_ref.groupby(\"additive_name\"), axs.flatten()):\n",
    "    \n",
    "    for dosage, dosage_data in additive_data.groupby(\"dosage_additive_micromol_g_cem\"):\n",
    "        ax.plot(dosage_data[\"time_h\"], dosage_data[\"normalized_heat_flow_w_g\"], label=dosage)\n",
    "    ax.set_title(f\"Additive: {additive}\")\n",
    "    ax.set_xlabel(\"Time (s)\")\n",
    "    ax.set_ylabel(\"Normalized Heat Flow (W/g)\")\n",
    "    \n",
    "    ax.set_xlim(0,40)\n",
    "axs[0].legend()\n",
    "plt.show()"
   ]
  },
  {
   "cell_type": "code",
   "execution_count": null,
   "id": "1a9483d2",
   "metadata": {},
   "outputs": [],
   "source": []
  }
 ],
 "metadata": {
  "kernelspec": {
   "display_name": "science-venv",
   "language": "python",
   "name": "python3"
  },
  "language_info": {
   "codemirror_mode": {
    "name": "ipython",
    "version": 3
   },
   "file_extension": ".py",
   "mimetype": "text/x-python",
   "name": "python",
   "nbconvert_exporter": "python",
   "pygments_lexer": "ipython3",
   "version": "3.10.12"
  }
 },
 "nbformat": 4,
 "nbformat_minor": 5
}
