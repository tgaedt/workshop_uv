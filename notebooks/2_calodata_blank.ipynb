{
 "cells": [
  {
   "cell_type": "markdown",
   "id": "ef1ec61f",
   "metadata": {},
   "source": [
    "# Basic demonstration of Pandas and Matplotlib using heat flow calorimetry data\n",
    "\n",
    "This notebook demonstrates data import and processing of isothermal heat flow calorimetry data of C3S pastes containing two different additives. The experiments in the dataset are described in the following table.\n",
    "\n",
    "| Experiment Code | Water Amount g | C3S Amount g | Additive Name | Additive Dosage mmol/L |\n",
    "|-----------------|----------------|--------------|---------------|------------------------|\n",
    "| JAA_CAL714      | 1.6            | 4            | Sucrose       | 0.25                   |\n",
    "| JAA_CAL715      | 1.6            | 4            | Sucrose       | 0.5                    |\n",
    "| JAA_CAL716      | 1.6            | 4            | Sucrose       | 0.75                   |\n",
    "| JAA_CAL717      | 1.6            | 4            | Sucrose       | 1                      |\n",
    "| JAA_CAL718      | 1.6            | 4            | Glucose       | 0.25                   |\n",
    "| JAA_CAL719      | 1.6            | 4            | Glucose       | 0.5                    |\n",
    "| JAA_CAL720      | 1.6            | 4            | Glucose       | 0.75                   |\n",
    "| JAA_CAL721      | 1.6            | 4            | Glucose       | 1                      |\n",
    "| JAA_CAL722      | 2              | 4            | Reference     | 0                      |"
   ]
  },
  {
   "cell_type": "markdown",
   "id": "daa448c4",
   "metadata": {},
   "source": [
    "[![Open In Colab](https://colab.research.google.com/assets/colab-badge.svg)](https://colab.research.google.com/github/tgaedt/workshop_uv/blob/main/notebooks/2_calodata_blank.ipynb)\n",
    "\n"
   ]
  },
  {
   "cell_type": "code",
   "execution_count": null,
   "id": "7880c9a7",
   "metadata": {},
   "outputs": [],
   "source": [
    "%%bash\n",
    "\n",
    "git clone --depth 1 --filter=blob:none --sparse https://github.com/tgaedt/workshop_uv.git\n",
    "\n",
    "cd workshop_uv\n",
    "git sparse-checkout set data"
   ]
  },
  {
   "cell_type": "markdown",
   "id": "a15236bf",
   "metadata": {},
   "source": [
    "# Data Exploration and Visualization of Calorimetry Data\n",
    "\n",
    "The code above creates a folder inside the colab runtime with the calorimetry data. This is ephemeral data, i.e., it is lost when the colab runtime is shutdown (which happens automatically).\n",
    "\n",
    "Next, we will show how the data can be loaded and plotted using conventional tools such as `pandas` and `matplotlib`. Therefore, we have to import the respective libraries. If this is run in google colab, no `pip install` is necessary as these popular libraries come pre-installed in a google colab runtime. \n",
    "\n",
    "## Defining folders\n",
    "We use the popular library `pathlib` to define the folder containing the `.csv` files with the calorimetry data.\n",
    "Furthermore, a list of dataframes can be created using a list comprehension. First, we use the glob() methof of the Path object to create a list of the filenames in the folder that end with .csv."
   ]
  },
  {
   "cell_type": "code",
   "execution_count": null,
   "id": "f90e29af",
   "metadata": {},
   "outputs": [],
   "source": [
    "import pandas as pd\n",
    "import matplotlib.pyplot as plt\n",
    "import pathlib\n"
   ]
  }
 ],
 "metadata": {
  "kernelspec": {
   "display_name": "science-venv",
   "language": "python",
   "name": "python3"
  },
  "language_info": {
   "codemirror_mode": {
    "name": "ipython",
    "version": 3
   },
   "file_extension": ".py",
   "mimetype": "text/x-python",
   "name": "python",
   "nbconvert_exporter": "python",
   "pygments_lexer": "ipython3",
   "version": "3.10.12"
  }
 },
 "nbformat": 4,
 "nbformat_minor": 5
}
