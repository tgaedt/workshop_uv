{
 "cells": [
  {
   "cell_type": "markdown",
   "id": "a8936e4d",
   "metadata": {},
   "source": [
    "# Demonstration of some Pandas capabilities using a famous concrete dataset\n",
    "\n",
    "First, we are going to import some necessary libraries and to load the famous concrete dataset published by Yeh et al.\n",
    "To save typing, we have created a tinyurl `tunyurl.com/icccm1` which contains a link to a `xls` file containing the dataset.\n",
    "\n",
    "[![Open In Colab](https://colab.research.google.com/assets/colab-badge.svg)](https://colab.research.google.com/github/tgaedt/workshop_uv/blob/main/notebooks/1_pandas_demo_blank.ipynb)\n",
    "\n",
    "\n"
   ]
  },
  {
   "cell_type": "code",
   "execution_count": null,
   "id": "ff9bc883",
   "metadata": {},
   "outputs": [],
   "source": [
    "import numpy as np\n",
    "import pandas as pd\n",
    "import matplotlib.pyplot as plt\n",
    "\n",
    "url = \"https://tinyurl.com/icccm1\"\n",
    "df = pd.read_excel(url) \n",
    "\n",
    "df.head(3)"
   ]
  },
  {
   "cell_type": "markdown",
   "id": "765a3f31",
   "metadata": {},
   "source": [
    "We note that the column names are very long and contain some special characers. Therefore, we will manually rename the columns."
   ]
  },
  {
   "cell_type": "code",
   "execution_count": null,
   "id": "bbfb5c8d",
   "metadata": {},
   "outputs": [],
   "source": [
    "df.columns = [\"cement\", \"bfs\", \"flyash\", \"water\", \"sp\", \"agg_coarse\", \"agg_fine\", \"age\", \"strength\"]\n",
    "df.head(3)"
   ]
  }
 ],
 "metadata": {
  "kernelspec": {
   "display_name": "science-venv",
   "language": "python",
   "name": "python3"
  },
  "language_info": {
   "codemirror_mode": {
    "name": "ipython",
    "version": 3
   },
   "file_extension": ".py",
   "mimetype": "text/x-python",
   "name": "python",
   "nbconvert_exporter": "python",
   "pygments_lexer": "ipython3",
   "version": "3.10.12"
  }
 },
 "nbformat": 4,
 "nbformat_minor": 5
}
