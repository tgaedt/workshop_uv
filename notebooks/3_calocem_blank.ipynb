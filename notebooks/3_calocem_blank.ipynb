{
 "cells": [
  {
   "cell_type": "markdown",
   "id": "062c549d",
   "metadata": {},
   "source": [
    "# CaloCem \n",
    "\n",
    "CaloCem is a package for processing cement calorimetry data. https://github.com/mj-hofmann/CaloCem. Currently, it can only process TA Instrument type calorimetry files.\n",
    "\n",
    "Here, we are demonstrating basic functionality.\n",
    "\n",
    "[![Open In Colab](https://colab.research.google.com/assets/colab-badge.svg)](https://colab.research.google.com/github/tgaedt/workshop_uv/blob/main/notebooks/3_calocem_blank.ipynb)\n",
    "\n"
   ]
  },
  {
   "cell_type": "code",
   "execution_count": null,
   "id": "83369bbe",
   "metadata": {},
   "outputs": [],
   "source": [
    "!pip install calocem"
   ]
  },
  {
   "cell_type": "code",
   "execution_count": null,
   "id": "03d08d82",
   "metadata": {},
   "outputs": [],
   "source": [
    "%%bash\n",
    "\n",
    "git clone --depth 1 --filter=blob:none --sparse https://github.com/tgaedt/workshop_uv.git\n",
    "\n",
    "cd workshop_uv\n",
    "git sparse-checkout set data"
   ]
  },
  {
   "cell_type": "code",
   "execution_count": null,
   "id": "91b03650",
   "metadata": {},
   "outputs": [],
   "source": [
    "import calocem.tacalorimetry as cct\n",
    "from pathlib import Path\n",
    "import matplotlib.pyplot as plt\n",
    "\n",
    "calodatapath = Path(\"workshop_uv/data/calo/\")\n",
    "metadata = Path(\"workshop_uv/data/metadata_calo/metadata.csv\")\n",
    "\n",
    "\n",
    "tam = cct.Measurement(calodatapath, processed=True, new_code=True)"
   ]
  }
 ],
 "metadata": {
  "kernelspec": {
   "display_name": "workshop-uv",
   "language": "python",
   "name": "python3"
  },
  "language_info": {
   "codemirror_mode": {
    "name": "ipython",
    "version": 3
   },
   "file_extension": ".py",
   "mimetype": "text/x-python",
   "name": "python",
   "nbconvert_exporter": "python",
   "pygments_lexer": "ipython3",
   "version": "3.13.2"
  }
 },
 "nbformat": 4,
 "nbformat_minor": 5
}
